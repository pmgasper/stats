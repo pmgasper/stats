{
 "cells": [
  {
   "cell_type": "markdown",
   "metadata": {},
   "source": [
    "# Probability distributions"
   ]
  },
  {
   "cell_type": "markdown",
   "metadata": {},
   "source": [
    "Set Jupyter table style"
   ]
  },
  {
   "cell_type": "code",
   "execution_count": 1,
   "metadata": {},
   "outputs": [
    {
     "data": {
      "text/html": [
       "<style>\n",
       "table {margin-left: 20px !important;}\n",
       "th {text-align: left !important;}\n",
       "</style>"
      ],
      "text/plain": [
       "<IPython.core.display.HTML object>"
      ]
     },
     "metadata": {},
     "output_type": "display_data"
    }
   ],
   "source": [
    "%%html\n",
    "<style>\n",
    "table {margin-left: 20px !important;}\n",
    "th {text-align: left !important;}\n",
    "</style>"
   ]
  },
  {
   "cell_type": "markdown",
   "metadata": {},
   "source": [
    "Import python modules"
   ]
  },
  {
   "cell_type": "code",
   "execution_count": 2,
   "metadata": {},
   "outputs": [],
   "source": [
    "import matplotlib.pylab as plt\n",
    "import numpy as np\n",
    "from scipy import stats"
   ]
  },
  {
   "cell_type": "markdown",
   "metadata": {},
   "source": [
    "### Table of Contents\n",
    "\n",
    "I. [Background](#background)\n",
    "\n",
    "II. [Discrete probability distributions](#discrete)\n",
    "\n",
    " | Distribution              | Parameters   | scipy.stats   |\n",
    " |:--------------------------|:------------:|:--------------|\n",
    " | [Binomial](#binom)        | n, p         | .binom        |\n",
    " | [Geometric](#geom)        | p            | .geom         |\n",
    " | [Hypergeometric](#hyperg) | M, n, N      | .hypergeom    |\n",
    " | [Poisson](#poisson)       | $\\mu$        | .poisson      | \n",
    "\n",
    "III. [Continuous probability distributions](#continuous)\n",
    "\n",
    "| Distribution              | Parameters   | scipy.stats   |\n",
    "|:--------------------------|:------------:|:--------------|\n",
    "| [Uniform](#uni)           | loc, scale   | .uniform      |\n",
    "| [Exponential](#expo)      | $\\mu$        | .expon        |\n",
    "| [Normal](#normal)         | $\\mu, \\sigma$| .norm         |\n",
    "| [Student's t](#tdist)     | df           | .t            |\n",
    "\n",
    "IV. [Common scipy.stats distribution methods](#scipy)\n",
    "\n",
    "V. [Sources](#sources)"
   ]
  },
  {
   "cell_type": "markdown",
   "metadata": {},
   "source": [
    "##  Background<a class=\"anchor\" id=\"background\"></a>\n",
    "\n",
    "A **random variable** discribes all of the possible numerical outcomes of a random phenomenon.\n",
    "\n",
    "A statistical experiment determines a specific value of a random variable which can chage on repitition of the experiment. A **probability distribution** gives all posssible values of a random variable and their corresponding probabilities.   \n",
    "\n",
    "Uppercase X, Y denote random variables (a description given as text) <br>\n",
    "Lowercase x, y denote a value of a random variable (an instance given as a number)"
   ]
  },
  {
   "cell_type": "markdown",
   "metadata": {},
   "source": [
    "## Discrete probability distributions <a class=\"anchor\" id=\"discrete\"></a>\n",
    "\n",
    "A **probability mass function (pmf)** gives the probability of a discrete random variable for different exact values. Each probability is between 0 and 1, inclusive. The sum of the probabilities is 1. *Note: pmfs are also sometimes called probability distribution functions which gives the same acronym used for probability density functions (pdf), the analogous functions of continous probability distributions.* \n",
    "\n",
    "A **cumulative distribution function (cdf)** gives the probability that a random variable is less than or equal to a given value."
   ]
  },
  {
   "cell_type": "markdown",
   "metadata": {},
   "source": [
    "### Binomial  <a class=\"anchor\" id=\"binom\"></a> \n",
    "\n",
    "X ~ B(n, p)<br>\n",
    "\n",
    "A discrete random variable that gives the distribution of the number of successes in **n** independent and identically distributed Bernoulli trials with probability of success **p**"
   ]
  },
  {
   "cell_type": "code",
   "execution_count": 3,
   "metadata": {},
   "outputs": [
    {
     "name": "stdout",
     "output_type": "stream",
     "text": [
      "Binomial distribution (n=200, p=0.0128)\n",
      " mean    = 2.5600 (calculated by scipy)\n",
      " mean    = 2.5600 (calculated as n * p)\n",
      " std dev = 1.5897 (calculated from scipy variance)\n",
      " std dev = 1.5897 (calculated as (sqrt(npq)))\n"
     ]
    }
   ],
   "source": [
    "# Illowsky - example 4.15 part b \n",
    "# Mean and variance \n",
    "n = 200\n",
    "p = 0.0128\n",
    "mean, var = stats.binom.stats(n, p)\n",
    "mean_formula = n * p\n",
    "std_dev = np.sqrt(var)\n",
    "std_dev_formula = np.sqrt(n * p * (1 - p)) \n",
    "print('Binomial distribution (n={0}, p={1})'.format(n, p))\n",
    "print(' mean    = {0:.4f} (calculated by scipy)'.format(mean))\n",
    "print(' mean    = {0:.4f} (calculated as n * p)'.format(mean_formula))\n",
    "print(' std dev = {0:.4f} (calculated from scipy variance)'.format(std_dev))\n",
    "print(' std dev = {0:.4f} (calculated as (sqrt(npq)))'.format(std_dev_formula))"
   ]
  },
  {
   "cell_type": "code",
   "execution_count": 4,
   "metadata": {},
   "outputs": [
    {
     "name": "stdout",
     "output_type": "stream",
     "text": [
      " probability of 8 or less successes = 0.9988\n",
      " probability of exactly 5 successes = 0.0707\n",
      " probability of exactly 6 successes = 0.0298\n"
     ]
    }
   ],
   "source": [
    "# cumulative density function and probability mass function \n",
    "x = 8\n",
    "print(' probability of {0} or less successes = {1:.4f}'.format(x, stats.binom.cdf(x, n, p))) # prob <= x\n",
    "\n",
    "for x in [5, 6]:\n",
    "    print(' probability of exactly {0} successes = {1:.4f}'.format(x, stats.binom.pmf(x, n, p))) # prob = x"
   ]
  },
  {
   "cell_type": "code",
   "execution_count": 5,
   "metadata": {},
   "outputs": [
    {
     "data": {
      "image/png": "[encoded data removed]",
      "text/plain": [
       "<matplotlib.figure.Figure at 0x7f49db197518>"
      ]
     },
     "metadata": {},
     "output_type": "display_data"
    }
   ],
   "source": [
    "# graph binomial \n",
    "n = 200\n",
    "p = 0.0128\n",
    "\n",
    "# x = np.arange(0, n) # entire range not practile\n",
    "# Instead chose range within some probability threshold\n",
    "x = np.arange(stats.binom.ppf(0.001, n, p), stats.binom.ppf(0.999, n, p))\n",
    "\n",
    "plt.figure()\n",
    "plt.scatter(x, stats.binom.pmf(x, n, p), s=32)\n",
    "plt.title('Binomial (n={0}, p={1})'.format(n, p))\n",
    "plt.xlabel('Number success')\n",
    "plt.ylabel('Probability')\n",
    "plt.show()\n",
    "plt.close()\n",
    "\n",
    "# Alternatively, the distribution object can be called (as a function) to fix the shape and location.\n",
    "# This returns a “frozen” RV object holding the given parameters fixed."
   ]
  },
  {
   "cell_type": "code",
   "execution_count": 6,
   "metadata": {},
   "outputs": [
    {
     "name": "stdout",
     "output_type": "stream",
     "text": [
      "[2 3 1 3 3 1 1 3 3 1 2 3 4 1 2 3 2 2 4 0]\n"
     ]
    }
   ],
   "source": [
    "# Generate list of random numbers from binomial\n",
    "n = 200\n",
    "p = 0.0128\n",
    "r = stats.binom.rvs(n, p, size=20)\n",
    "print(r)"
   ]
  },
  {
   "cell_type": "markdown",
   "metadata": {},
   "source": [
    "### Geometric <a class=\"anchor\" id=\"geom\"></a>\n",
    "\n",
    "X ~ G(p)\n",
    "\n",
    "A discrete random variable that gives the distribution of the number of independent trials before the first success occurs for independent Bernoulli trials with constant probability of success **p**. *Note: success is only semantic, works equally with 'failure' as long as associated probability is used* "
   ]
  },
  {
   "cell_type": "code",
   "execution_count": 7,
   "metadata": {},
   "outputs": [
    {
     "name": "stdout",
     "output_type": "stream",
     "text": [
      "Geometric distribution (p = 0.35)\n",
      " mean    = 2.8571\n",
      " std dev = 2.3035\n"
     ]
    }
   ],
   "source": [
    "# Illowsky - example 4.18\n",
    "# mean and variance\n",
    "p = 0.35\n",
    "mean, var = stats.geom.stats(p)\n",
    "print('Geometric distribution (p = {0})'.format(p))\n",
    "print(' mean    = {0:.4f}'.format(float(mean)))\n",
    "print(' std dev = {0:.4f}'.format(np.sqrt(var)))"
   ]
  },
  {
   "cell_type": "code",
   "execution_count": 8,
   "metadata": {},
   "outputs": [
    {
     "name": "stdout",
     "output_type": "stream",
     "text": [
      " probability first success occurs at exactly 3 trials = 0.1479\n",
      " probability first success occurs within 3 trials = 0.7254\n"
     ]
    }
   ],
   "source": [
    "# cumulative density function and probability mass function \n",
    "n = 3\n",
    "print(' probability first success occurs at exactly {0} trials = {1:.4f}'.format(n, stats.geom.pmf(n, p)))\n",
    "print(' probability first success occurs within {0} trials = {1:.4f}'.format(n, stats.geom.cdf(n, p)))"
   ]
  },
  {
   "cell_type": "code",
   "execution_count": 9,
   "metadata": {},
   "outputs": [
    {
     "data": {
      "image/png": "[encoded data removed]",
      "text/plain": [
       "<matplotlib.figure.Figure at 0x7f49d9137d30>"
      ]
     },
     "metadata": {},
     "output_type": "display_data"
    }
   ],
   "source": [
    "# graph Geometric \n",
    "p = 0.35\n",
    "\n",
    "x = np.arange(stats.geom.ppf(0.01, p), stats.geom.ppf(0.99, p))\n",
    "\n",
    "plt.figure()\n",
    "plt.scatter(x, stats.geom.pmf(x, p), s=32)\n",
    "plt.title('Geometric (p={0})'.format(p))\n",
    "plt.xlabel('Number before success')\n",
    "plt.ylabel('Probability')\n",
    "plt.show()\n",
    "plt.close()"
   ]
  },
  {
   "cell_type": "code",
   "execution_count": 10,
   "metadata": {},
   "outputs": [
    {
     "name": "stdout",
     "output_type": "stream",
     "text": [
      "[ 4  2  6  5  2  3  6  4  7  2  6  2  2  1  2  6  5  1 10  1]\n"
     ]
    }
   ],
   "source": [
    "# generate list of random numbers from geometric\n",
    "p = 0.35\n",
    "r = stats.geom.rvs(p, size=20)\n",
    "print(r)"
   ]
  },
  {
   "cell_type": "markdown",
   "metadata": {},
   "source": [
    "### Hypergeometric <a class=\"anchor\" id=\"hyperg\"></a>\n",
    "\n",
    "X ~ H(M, n, N)\n",
    "\n",
    "A discrete random variable that gives the distribution of the number of individuals from a subgroup expected in a sample taken without replacement.\n",
    "\n",
    "Scipy notation: p(k, M, n, N). *Alternative notations are common* <br>\n",
    "**k** = number of objects drawn from subgroup of interest (generally interested in p(k, M, n, N) vs. k) <br>\n",
    "**M** = number of objects in population <br>\n",
    "**n** = number of objects in subgroup of interest in the population <br>\n",
    "**N** = sample size (number of objects draw without replacement)\n"
   ]
  },
  {
   "cell_type": "code",
   "execution_count": 11,
   "metadata": {},
   "outputs": [
    {
     "name": "stdout",
     "output_type": "stream",
     "text": [
      "Hypergeometric distribution (M = 11, n = 6, N = 4)\n",
      " mean    = 2.1818\n",
      " std dev = 0.8332\n"
     ]
    }
   ],
   "source": [
    "# Illowsky - 4.25\n",
    "# mean and variance\n",
    "\n",
    "M = 6 + 5\n",
    "n = 6\n",
    "N = 4  \n",
    "mean, var = stats.hypergeom.stats(M, n, N)\n",
    "print('Hypergeometric distribution (M = {0}, n = {1}, N = {2})'.format(M, n, N))\n",
    "print(' mean    = {0:.4f}'.format(float(mean) )) # Expected value from group of interest\n",
    "print(' std dev = {0:.4f}'.format(np.sqrt(var)))"
   ]
  },
  {
   "cell_type": "code",
   "execution_count": 12,
   "metadata": {},
   "outputs": [
    {
     "name": "stdout",
     "output_type": "stream",
     "text": [
      " probability exactly 2 from group of interest = 0.4545\n",
      " probability of 2 or less from group of interest = 0.6515\n"
     ]
    }
   ],
   "source": [
    "# cumulative density function and probability mass function \n",
    "x = 2\n",
    "print(' probability exactly {0} from group of interest = {1:.4f}'\\\n",
    "      .format(x, stats.hypergeom.pmf(x, M, n, N)))\n",
    "print(' probability of {0} or less from group of interest = {1:.4f}'\\\n",
    "      .format(x, stats.hypergeom.cdf(x, M, n, N)))"
   ]
  },
  {
   "cell_type": "code",
   "execution_count": 13,
   "metadata": {},
   "outputs": [
    {
     "data": {
      "image/png": "[encoded data removed]",
      "text/plain": [
       "<matplotlib.figure.Figure at 0x7f49d90ef940>"
      ]
     },
     "metadata": {},
     "output_type": "display_data"
    }
   ],
   "source": [
    "# graph hypergeometric\n",
    "M = 6 + 5\n",
    "n = 6\n",
    "N = 4  \n",
    "\n",
    "# For this case, just showing entire range makes more sence\n",
    "# x = np.arange(stats.hypergeom.ppf(0.001, M, n, N), stats.hypergeom.ppf(0.999, M, n, N))\n",
    "x = np.arange(0,5)\n",
    "\n",
    "plt.figure()\n",
    "plt.bar(x, stats.hypergeom.pmf(x, M, n, N))\n",
    "plt.title('Hypergeometric (M={0}, n={1}, N={2})'.format(M, n, N))\n",
    "plt.xlabel('Number success')\n",
    "plt.ylabel('Probability')\n",
    "plt.show()\n",
    "plt.close()"
   ]
  },
  {
   "cell_type": "markdown",
   "metadata": {},
   "source": [
    "### Poisson<a class=\"anchor\" id=\"poisson\"></a>\n",
    "\n",
    "X ~ P($\\mu$)\n",
    "\n",
    "Probability of a number of occurances of a discrete, independent event given the average rate of that event, generally notated as $\\mu$ or $\\sigma$. *Note: the interval is defined by $\\mu$ (i.e. per day vs. per year)*   "
   ]
  },
  {
   "cell_type": "code",
   "execution_count": 14,
   "metadata": {},
   "outputs": [
    {
     "name": "stdout",
     "output_type": "stream",
     "text": [
      "Poisson (mu = 0.75)\n",
      " mean    = 0.7500\n",
      " std dev = 0.8660\n"
     ]
    }
   ],
   "source": [
    "# Illowsky - Example 4.29\n",
    "# mean and variance\n",
    "mu = (6 / 2) * 0.25  # given rate (6 in 2 hr, interested in 15 min (0.25 hr) interval)\n",
    "mean, var = stats.poisson.stats(mu)\n",
    "std_dev = np.sqrt(var)\n",
    "print('Poisson (mu = {0})'.format(mu))\n",
    "print(' mean    = {0:.4f}'.format(mean))\n",
    "print(' std dev = {0:.4f}'.format(std_dev))"
   ]
  },
  {
   "cell_type": "code",
   "execution_count": 15,
   "metadata": {},
   "outputs": [
    {
     "name": "stdout",
     "output_type": "stream",
     "text": [
      " probability of 1 or less = 0.8266\n",
      " probability of exactly 1 = 0.3543\n",
      " probability of more than 1 = 0.1734\n",
      " probability of more than 1 = 0.1734 (alternative calculation)\n"
     ]
    }
   ],
   "source": [
    "# cumulative density function and probability mass function \n",
    "x = 1\n",
    "\n",
    "print(' probability of {0} or less = {1:.4f}'.format(x, stats.poisson.cdf(x, mu))) # prob <= x\n",
    "print(' probability of exactly {0} = {1:.4f}'.format(x, stats.poisson.pmf(x, mu))) # prob = x\n",
    "print(' probability of more than {0} = {1:.4f}'.format(x, stats.poisson.sf(x, mu))) \n",
    "# (1 - .cdf) = .sf, but .sf method is more accurate\n",
    "print(' probability of more than {0} = {1:.4f} (alternative calculation)'.\\\n",
    "      format(x, 1 - stats.poisson.cdf(x, mu))) # prob < x"
   ]
  },
  {
   "cell_type": "code",
   "execution_count": 16,
   "metadata": {},
   "outputs": [
    {
     "data": {
      "image/png": "[encoded data removed]",
      "text/plain": [
       "<matplotlib.figure.Figure at 0x7f49d90154e0>"
      ]
     },
     "metadata": {},
     "output_type": "display_data"
    }
   ],
   "source": [
    "# graph Poisson\n",
    "\n",
    "x = np.arange(stats.poisson.ppf(0.01, mu), stats.poisson.ppf(0.999, mu))\n",
    "\n",
    "plt.figure()\n",
    "plt.bar(x, stats.poisson.pmf(x, mu))\n",
    "plt.title('Poisson (mu={0})'.format(mu))\n",
    "plt.xlabel('Number of occurances')\n",
    "plt.ylabel('Probability')\n",
    "plt.show()\n",
    "plt.close()"
   ]
  },
  {
   "cell_type": "code",
   "execution_count": 17,
   "metadata": {},
   "outputs": [
    {
     "data": {
      "image/png": "[encoded data removed]",
      "text/plain": [
       "<matplotlib.figure.Figure at 0x7f49d8fbf9e8>"
      ]
     },
     "metadata": {},
     "output_type": "display_data"
    }
   ],
   "source": [
    "# Poisson using equation rather than scipy method\n",
    "\n",
    "k_range = range(5)     #  list of k (numer of events) to look at\n",
    "lamb = 0.75            #  (events per interval (i.e. 0.75 per 15 min))\n",
    "\n",
    "p_k = [((np.e ** -lamb) * (lamb ** k)) / np.math.factorial(k) for k in k_range]\n",
    "\n",
    "plt.figure()\n",
    "plt.bar(k_range, p_k)\n",
    "plt.xticks(k_range)\n",
    "plt.xlabel('Number of occurances')\n",
    "plt.ylabel('Probability')\n",
    "plt.show()\n",
    "plt.close()"
   ]
  },
  {
   "cell_type": "markdown",
   "metadata": {},
   "source": [
    "## Continuous probability distributions <a class=\"anchor\" id=\"continuous\"></a>"
   ]
  },
  {
   "cell_type": "markdown",
   "metadata": {},
   "source": [
    "### Uniform<a class=\"anchor\" id=\"uni\"></a>"
   ]
  },
  {
   "cell_type": "markdown",
   "metadata": {},
   "source": [
    "X ~ U(a, b)\n",
    "\n",
    "A continuous probability distribution of events that are equally likely from lowest possible value **a** to highest **b**. *Note: scipy defines with loc=a and scale=b-a*\n",
    "\n",
    "The formula is relatively trivial without scipy functions. \n",
    "```\n",
    " mean = (a + b) / 2\n",
    " std = sqrt((1/12) * (b - a) ** 2)\n",
    " pdf = 1 / b - a\n",
    " cdf = 0  for x <= a,  \n",
    "     = (x - a)/(b - a) for a < x < b \n",
    "     = 1  for x >= b) \n",
    " ```"
   ]
  },
  {
   "cell_type": "code",
   "execution_count": 18,
   "metadata": {},
   "outputs": [
    {
     "name": "stdout",
     "output_type": "stream",
     "text": [
      "Uniform distribution (a=0, b=23)\n",
      " mean    =    11.50\n",
      " mean    =    11.50\n",
      " std dev =     6.64\n",
      " std dev =     6.64\n"
     ]
    }
   ],
   "source": [
    "# Illowsky - Example 5.2\n",
    "# mean and variance\n",
    "a = 0\n",
    "b = 23\n",
    "\n",
    "mean, var = stats.uniform.stats(loc=a, scale=b-a) # Defaults to loc=0 scale=1\n",
    "std_dev = np.sqrt(var)\n",
    "\n",
    "mean_formula = (a + b) / 2\n",
    "std_dev_formula = np.sqrt(((b - a) ** 2) / 12)\n",
    "\n",
    "print('Uniform distribution (a={0}, b={1})'.format(a, b))\n",
    "print(' mean    = {0:8.2f}'.format(mean))\n",
    "print(' mean    = {0:8.2f}'.format(mean_formula))\n",
    "print(' std dev = {0:8.2f}'.format(std_dev))\n",
    "print(' std dev = {0:8.2f}'.format(std_dev_formula))"
   ]
  },
  {
   "cell_type": "code",
   "execution_count": 19,
   "metadata": {},
   "outputs": [
    {
     "name": "stdout",
     "output_type": "stream",
     "text": [
      "data mean    =    11.65\n",
      "data std dev =     6.03\n"
     ]
    }
   ],
   "source": [
    "# Illowsky - Example 5.2\n",
    "# data\n",
    "data = [10.4, 19.6, 18.8, 13.9, 17.8, 16.8, 21.6, 17.9, 12.5, 11.1, \n",
    "         4.9, 12.8, 14.8, 22.8, 20.0, 15.9, 16.3, 13.4, 17.1, 14.5, \n",
    "        19.0, 22.8,  1.3,  0.7,  8.9, 11.9, 10.9,  7.3,  5.9,  3.7,\n",
    "        17.9, 19.2,  9.8,  5.8,  6.9,  2.6,  5.8, 21.7, 11.8,  3.4,\n",
    "         2.1,  4.5,  6.3, 10.7,  8.9,  9.4,  9.4,  7.6, 10.0,  3.3,\n",
    "         6.7,  7.8, 11.6, 13.8, 18.6]\n",
    "\n",
    "data = np.array(data)\n",
    "print('data mean    = {0:8.2f}'.format(data.mean()))\n",
    "print('data std dev = {0:8.2f}'.format(data.std()))"
   ]
  },
  {
   "cell_type": "code",
   "execution_count": 20,
   "metadata": {},
   "outputs": [
    {
     "name": "stdout",
     "output_type": "stream",
     "text": [
      " probability between 2 and 18 = 0.6957\n",
      " probability between 2 and 18 = 0.6957\n"
     ]
    }
   ],
   "source": [
    "# Illowsky - Example 5.3 (cont. from 5.2)\n",
    "x =  2\n",
    "y = 18\n",
    "\n",
    "prob = 1 - stats.uniform.cdf(x, a, b - a) - stats.uniform.sf(y, a, b - a)\n",
    "prob_formula = (y - x) * 1 / (b - a)\n",
    "\n",
    "print(' probability between {0} and {1} = {2:.4f}'.format(x, y, prob))\n",
    "print(' probability between {0} and {1} = {2:.4f}'.format(x, y, prob_formula))"
   ]
  },
  {
   "cell_type": "code",
   "execution_count": 21,
   "metadata": {},
   "outputs": [
    {
     "name": "stdout",
     "output_type": "stream",
     "text": [
      "The 90.0 percentile is at 20.7000\n",
      "The 90.0 percentile is at 20.7000\n"
     ]
    }
   ],
   "source": [
    "# Illowsky - Example 5.3b\n",
    "p = 0.90\n",
    "\n",
    "print('The {0} percentile is at {1:.4f}'.format(p * 100, stats.uniform.ppf(p, a, b - a)))\n",
    "print('The {0} percentile is at {1:.4f}'.format(p * 100, (p / (1 / (b - a))) + a)) # Formula\n"
   ]
  },
  {
   "cell_type": "code",
   "execution_count": 22,
   "metadata": {},
   "outputs": [
    {
     "name": "stdout",
     "output_type": "stream",
     "text": [
      "probability more than 12 given more that 8 = 0.7333\n",
      "probability more than 12 given more that 8 = 0.7333\n"
     ]
    }
   ],
   "source": [
    "# Illowsky - Example 5.3c\n",
    "#   conditional probability on uniform distribution\n",
    "\n",
    "# changing distribution to condition\n",
    "a =  8\n",
    "b = 23\n",
    "\n",
    "x = 12\n",
    "\n",
    "prob = stats.uniform.sf(x, a, b - a)\n",
    "print('probability more than {0} given more that {1} = {2:.4f}'.format(x, a, prob))\n",
    "\n",
    "\n",
    "# maintain distribution, use conditional probability P(E|F) = P(E,F) / P(F)\n",
    "a =  0\n",
    "b = 23\n",
    "\n",
    "given = 8\n",
    "x = 12\n",
    "\n",
    "prob_ef = stats.uniform.sf(x, a, b - a)\n",
    "prob_f = stats.uniform.sf(given, a, b - a)\n",
    "\n",
    "print('probability more than {0} given more that {1} = {2:.4f}'.format(x, given, prob_ef / prob_f))"
   ]
  },
  {
   "cell_type": "markdown",
   "metadata": {},
   "source": [
    "### Exponential<a class=\"anchor\" id=\"expo\"></a>\n",
    "\n",
    "X ~ E(m)\n",
    "\n",
    "A continuous probability distribution of the time until an event give the decay rate **m**.\n",
    " *Note: scipy defines with scale = $\\mu$ = 1/m\n",
    "\n",
    "The formula is relatively trivial without scipy functions. \n",
    "```\n",
    " mean = 1 / m = mu \n",
    " std = 1 / m = mu\n",
    " pdf = m * e^(-mx)\n",
    " cdf = 1 - e^(-mx)\n",
    " ```"
   ]
  },
  {
   "cell_type": "code",
   "execution_count": 23,
   "metadata": {},
   "outputs": [
    {
     "name": "stdout",
     "output_type": "stream",
     "text": [
      " mean    = 2.0000\n",
      " mean    = 2.0000\n",
      " std_dev = 2.0000\n",
      " std_dev = 2.0000\n",
      "\n",
      " mean time to 3 events = 6.0\n"
     ]
    }
   ],
   "source": [
    "# Illowsky - Example 5.11\n",
    "# mean and variance\n",
    "m = 30 / 60\n",
    "mu = 1 / m\n",
    "\n",
    "# scipy method\n",
    "mean, var = stats.expon.stats(scale = mu)\n",
    "std_dev = np.sqrt(var)\n",
    "\n",
    "# or just use mu\n",
    "print(' mean    = {0:.4f}'.format(mu))\n",
    "print(' mean    = {0:.4f}'.format(mu))\n",
    "print(' std_dev = {0:.4f}'.format(mean))\n",
    "print(' std_dev = {0:.4f}'.format(std_dev))\n",
    "print()\n",
    "\n",
    "# mean time to multiple events \n",
    "x = 3\n",
    "print(' mean time to {0} events = {1}'.format(x, x * mu))"
   ]
  },
  {
   "cell_type": "code",
   "execution_count": 24,
   "metadata": {},
   "outputs": [
    {
     "name": "stdout",
     "output_type": "stream",
     "text": [
      "probability of next event occuring in 1 time units or less = 0.3935\n",
      "probability of next event occuring in 1 time units or less = 0.3935\n",
      "\n",
      "probability of next event occuring in 5 time units or more = 0.0821\n",
      "probability of next event occuring in 5 time units or more = 0.0821\n",
      "\n",
      "70.0 percent of events occuring with 2.41 time units of the previous event\n"
     ]
    }
   ],
   "source": [
    "# cumulative density function and probability mass function \n",
    "x = 1\n",
    "# with scipy\n",
    "print('probability of next event occuring in {0} time units or less = {1:.4f}'.format(x, \n",
    "                                    stats.expon.cdf(x, scale = mu))) # prob <= x\n",
    "# using formula\n",
    "print('probability of next event occuring in {0} time units or less = {1:.4f}'.format(x, \n",
    "                                    1 - np.e ** (-m * x) )) # prob <= x\n",
    "print()\n",
    "\n",
    "\n",
    "x = 5\n",
    "# with scipy\n",
    "print('probability of next event occuring in {0} time units or more = {1:.4f}'.format(x, \n",
    "                                    stats.expon.sf(x, scale = mu))) # prob <= x\n",
    "# using formula\n",
    "print('probability of next event occuring in {0} time units or more = {1:.4f}'.format(x, \n",
    "                                    np.e ** (-m * x) )) # prob <= x\n",
    "print()\n",
    "\n",
    "x = 0.70\n",
    "print('{0} percent of events occuring with {1:.2f} time units of the previous event'.\\\n",
    "      format(x * 100, stats.expon.ppf(x, scale = mu)))"
   ]
  },
  {
   "cell_type": "code",
   "execution_count": 25,
   "metadata": {},
   "outputs": [
    {
     "data": {
      "image/png": "[encoded data removed]",
      "text/plain": [
       "<matplotlib.figure.Figure at 0x7f49d8f58518>"
      ]
     },
     "metadata": {},
     "output_type": "display_data"
    }
   ],
   "source": [
    "# Graph exponential\n",
    "\n",
    "# np.linspace similar to np.arrange, but determines step size from\n",
    "#  end points and number of points\n",
    "x = np.linspace(stats.expon.ppf(0.01), stats.expon.ppf(0.999), 100)\n",
    "\n",
    "plt.figure()\n",
    "plt.plot(x, stats.expon.pdf(x, scale=mu))\n",
    "plt.title('Exponential (m={0}, aka mu = {1})'.format(m, mu))\n",
    "plt.xlabel('Time to event')\n",
    "plt.ylabel('Probability')\n",
    "plt.show()\n",
    "plt.close()"
   ]
  },
  {
   "cell_type": "markdown",
   "metadata": {},
   "source": [
    "### Normal<a class=\"anchor\" id=\"normal\"></a>\n",
    "\n",
    "X ~ N($\\mu, \\sigma$)\n",
    "\n",
    "A continuous, bell-shapped, probability distribution. It is widely used in statistics as many phenomena follow it (though not as many phenomena as some people think). Additionally the central limit theorem says that the average or sum of independent and identically distributed distributions is approximated normally distributed, regardless of the underlying distribution.\n",
    "\n",
    "It is defined by its mean $\\mu$ which determins its center and standard deviation $\\sigma$ with large sigma resulting in shorter, fatter bells. It's cumulative density function is sigmoidal, centered at mu and has a sharper curve with decreasing sigma.\n"
   ]
  },
  {
   "cell_type": "code",
   "execution_count": 26,
   "metadata": {},
   "outputs": [
    {
     "data": {
      "image/png": "[encoded data removed]",
      "text/plain": [
       "<matplotlib.figure.Figure at 0x7f49d8f03128>"
      ]
     },
     "metadata": {},
     "output_type": "display_data"
    }
   ],
   "source": [
    "# normal distribution graphs\n",
    "mu_sigmas = [(0, 0.8), \n",
    "             (0, 1),\n",
    "             (0, 2),\n",
    "             (2, 1)]\n",
    "\n",
    "x = np.linspace(stats.norm.ppf(0.01, 0, 2), \n",
    "                stats.norm.ppf(0.99, 0, 2), 100)\n",
    "\n",
    "plt.figure()\n",
    "for mu, sigma in mu_sigmas:\n",
    "    plt.plot(x, stats.norm.pdf(x, mu, sigma), label=('mu={0}, sigma={1:.1f}'.format(mu, sigma)))\n",
    "    plt.title('Normal Distributions')\n",
    "    plt.xlabel('Value')\n",
    "    plt.ylabel('Probability')\n",
    "\n",
    "plt.legend()\n",
    "plt.show()\n",
    "plt.close()"
   ]
  },
  {
   "cell_type": "markdown",
   "metadata": {},
   "source": [
    "#### Standard normal distribution\n",
    "\n",
    "A normal distribution with $\\mu$ = 0 and $\\sigma$ = 1. A normal distribution can be converted to standard normal using z = (x - $\\mu$) / $\\sigma$. This facilitates comparison of distributions. A z-score for a value is equal to the number of standard deviations from the mean, regardles of the scale of the original distribution. "
   ]
  },
  {
   "cell_type": "code",
   "execution_count": null,
   "metadata": {},
   "outputs": [],
   "source": []
  },
  {
   "cell_type": "markdown",
   "metadata": {},
   "source": [
    "### Students t <a class=\"anchor\" id=\"tdist\"></a>"
   ]
  },
  {
   "cell_type": "code",
   "execution_count": null,
   "metadata": {},
   "outputs": [],
   "source": []
  },
  {
   "cell_type": "markdown",
   "metadata": {},
   "source": [
    "## Common scipy .stats distribution methods<a class=\"anchor\" id=\"scipy\"></a>\n",
    "\n",
    "Some of the methods inherited by the rv_discrete and rv_continuous classes in Scipy. See Scipy reference guide for detail.\n",
    "\n",
    "| method    | input\\* | returns                                                 |\n",
    "|:----------|:-------:|:--------------------------------------------------------|\n",
    "| .stats    |         | mean, standard_dev, skew, kurtosis                      |\n",
    "| .pmf      | x       | probability mass function (discrete distributions)      | \n",
    "| .pdf      | x       | probability density function (continuous distributions) |               \n",
    "| .cdf      | x       | cumulative density function (tail left of x)            |\n",
    "| .sf       | x       | survival function (1 - cdf) (tail right of x)           |\n",
    "| .ppf      | q       | percent point function (inverse of cdf)                 |\n",
    "| .interval | $\\alpha$| confidence interval                                     |\n",
    "| .rvs      |         | generate random numbers from distribution               |\n",
    "\n",
    ">\\* input typically includes distribution parameters as well"
   ]
  },
  {
   "cell_type": "markdown",
   "metadata": {},
   "source": [
    "## Sources<a class=\"anchor\" id=\"sources\"></a>\n",
    "\n",
    "Illowsky, Barbara; Dean, Susan. Introductory Statistics. OpenStax College. Kindle Edition\n",
    "https://openstax.org/details/introductory-statistics\n",
    "\n",
    "SciPy 1.0.0 Release Notes: https://docs.scipy.org/doc/scipy/reference/index.html"
   ]
  },
  {
   "cell_type": "code",
   "execution_count": null,
   "metadata": {},
   "outputs": [],
   "source": []
  }
 ],
 "metadata": {
  "kernelspec": {
   "display_name": "Python 3",
   "language": "python",
   "name": "python3"
  },
  "language_info": {
   "codemirror_mode": {
    "name": "ipython",
    "version": 3
   },
   "file_extension": ".py",
   "mimetype": "text/x-python",
   "name": "python",
   "nbconvert_exporter": "python",
   "pygments_lexer": "ipython3",
   "version": "3.6.3"
  }
 },
 "nbformat": 4,
 "nbformat_minor": 2
}
