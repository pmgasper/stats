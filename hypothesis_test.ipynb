{
 "cells": [
  {
   "cell_type": "code",
   "execution_count": 2,
   "metadata": {},
   "outputs": [],
   "source": [
    "from scipy import stats\n",
    "import numpy as np"
   ]
  },
  {
   "cell_type": "code",
   "execution_count": 8,
   "metadata": {},
   "outputs": [
    {
     "name": "stdout",
     "output_type": "stream",
     "text": [
      "0.2635446284327698\n",
      "0.7364553715672302\n",
      "0.7364553715672302\n"
     ]
    }
   ],
   "source": [
    "# Hypothesis testing with one sample\n",
    "\n",
    "# If the population standard deviation is somehow known, p-values can be\n",
    "# found using a normal distribution\n",
    "\n",
    "h = 15  # hypothesis, mu is <= 15\n",
    "\n",
    "n = 10\n",
    "mu = 15.1  # Observed average\n",
    "sigma = 0.5  # Population standard deviation\n",
    "\n",
    "pval = stats.norm.cdf(h, mu, (sigma / np.sqrt(n))) # Right tail test\n",
    "pval_lefttail1 = 1 - stats.norm.cdf(h, mu, (sigma / np.sqrt(n))) # Left tail test\n",
    "pval_lefttail2 = stats.norm.sf(h, mu, (sigma / np.sqrt(n))) # Left tail test\n",
    "\n",
    "print(pval)\n",
    "print(pval_lefttail1)\n",
    "print(pval_lefttail2)\n",
    "\n"
   ]
  },
  {
   "cell_type": "code",
   "execution_count": 9,
   "metadata": {},
   "outputs": [
    {
     "name": "stdout",
     "output_type": "stream",
     "text": [
      "0.018683635713606015\n"
     ]
    }
   ],
   "source": [
    "# another known sigma\n",
    "h = 16.43\n",
    "\n",
    "n = 15\n",
    "mu = 16\n",
    "sigma = 0.8\n",
    "\n",
    "pval = stats.norm.sf(h, mu, (sigma / np.sqrt(n)))\n",
    "\n",
    "print(pval)"
   ]
  },
  {
   "cell_type": "code",
   "execution_count": 41,
   "metadata": {},
   "outputs": [
    {
     "name": "stdout",
     "output_type": "stream",
     "text": [
      "0.27425311775007344 0.27425311775007344\n",
      "0.5485062355001469\n"
     ]
    }
   ],
   "source": [
    "# proportion, two-tailed\n",
    "\n",
    "h = 0.50  # 50 percent\n",
    "\n",
    "n = 100\n",
    "p = 0.53   # proportion observed\n",
    "\n",
    "# works, but there's probably a better way\n",
    "if h < p:\n",
    "    right_tail = (stats.norm.cdf(h, p, np.sqrt(h * (1 - h) / n)))\n",
    "    left_tail = (stats.norm.sf(h, h + (h - p), np.sqrt(h * (1 - h) / n)))\n",
    "else:\n",
    "    right_tail = (stats.norm.cdf(h, h + (h - p), np.sqrt(h * (1 - h) / n)))\n",
    "    left_tail = (stats.norm.sf(h, p, np.sqrt(h * (1 - h) / n)))\n",
    "    \n",
    "print(right_tail, left_tail)\n",
    "pval = right_tail + left_tail\n",
    "print(pval)\n",
    "\n",
    "\n"
   ]
  },
  {
   "cell_type": "code",
   "execution_count": 42,
   "metadata": {},
   "outputs": [
    {
     "name": "stdout",
     "output_type": "stream",
     "text": [
      "0.36078986254455536 0.36078986254455536\n",
      "0.7215797250891107\n"
     ]
    }
   ],
   "source": [
    "# another proportion\n",
    "h = 0.30  # 30 percent\n",
    "\n",
    "n = 150\n",
    "p = 43 / 150   # proportion observed\n",
    "\n",
    "# works, but there's probably a better way\n",
    "if h < p:\n",
    "    right_tail = (stats.norm.cdf(h, p, np.sqrt(h * (1 - h) / n)))\n",
    "    left_tail = (stats.norm.sf(h, h + (h - p), np.sqrt(h * (1 - h) / n)))\n",
    "else:\n",
    "    right_tail = (stats.norm.cdf(h, h + (h - p), np.sqrt(h * (1 - h) / n)))\n",
    "    left_tail = (stats.norm.sf(h, p, np.sqrt(h * (1 - h) / n)))\n",
    "    \n",
    "print(right_tail, left_tail)\n",
    "pval = right_tail + left_tail\n",
    "print(pval)"
   ]
  },
  {
   "cell_type": "code",
   "execution_count": 59,
   "metadata": {},
   "outputs": [
    {
     "name": "stdout",
     "output_type": "stream",
     "text": [
      "0.03586064860607561\n"
     ]
    }
   ],
   "source": [
    "# unknown sigma\n",
    "\n",
    "data = [1.11, 1.07, 1.11, 1.07, 1.12, 1.08, 0.98, 0.98, 1.02, 0.95, 0.95]\n",
    "h = 1.00 # null hypothesis - mean < 1\n",
    "\n",
    "n = len(data)\n",
    "mu = np.mean(data)\n",
    "sigma = np.std(data, ddof=1) # sample std so ddof = 1\n",
    "\n",
    "pval = stats.t.cdf(h, n - 1, mu, sigma / np.sqrt(n)) \n",
    "\n",
    "print(pval)\n",
    "\n",
    "\n",
    "\n"
   ]
  },
  {
   "cell_type": "code",
   "execution_count": 58,
   "metadata": {},
   "outputs": [
    {
     "name": "stdout",
     "output_type": "stream",
     "text": [
      "1.0399999999999998\n",
      "0.06587867636800247\n"
     ]
    }
   ],
   "source": [
    "print(mu)\n",
    "print(sigma)"
   ]
  },
  {
   "cell_type": "code",
   "execution_count": null,
   "metadata": {},
   "outputs": [],
   "source": []
  }
 ],
 "metadata": {
  "kernelspec": {
   "display_name": "Python 3",
   "language": "python",
   "name": "python3"
  },
  "language_info": {
   "codemirror_mode": {
    "name": "ipython",
    "version": 3
   },
   "file_extension": ".py",
   "mimetype": "text/x-python",
   "name": "python",
   "nbconvert_exporter": "python",
   "pygments_lexer": "ipython3",
   "version": "3.6.3"
  }
 },
 "nbformat": 4,
 "nbformat_minor": 2
}
