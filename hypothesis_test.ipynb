{
 "cells": [
  {
   "cell_type": "code",
   "execution_count": 1,
   "metadata": {},
   "outputs": [],
   "source": [
    "from scipy import stats\n",
    "import numpy as np"
   ]
  },
  {
   "cell_type": "markdown",
   "metadata": {},
   "source": [
    "### Hypothesis testing with one sample"
   ]
  },
  {
   "cell_type": "markdown",
   "metadata": {},
   "source": [
    "#### mean - known population standard deviation - use normal"
   ]
  },
  {
   "cell_type": "code",
   "execution_count": 2,
   "metadata": {},
   "outputs": [
    {
     "name": "stdout",
     "output_type": "stream",
     "text": [
      "0.897048394633965\n",
      "0.10295160536603498\n",
      "0.10295160536603498\n"
     ]
    }
   ],
   "source": [
    "# Left and right tail tests for the mean \n",
    "# When the population standard deviation is somehow known, p-values found using a normal distribution\n",
    "\n",
    "h = 15  # null hypothesis, mu <= h use right tail test, \n",
    "        #                  mu >= h use left tail test\n",
    "\n",
    "n = 10  # number of samples \n",
    "x_bar = 15.2  # Observed average\n",
    "sigma = 0.5  # Population standard deviation\n",
    "\n",
    "pval = stats.norm.cdf(x_bar, h, (sigma / np.sqrt(n))) # Left tail test\n",
    "pval_lefttail1 = 1 - stats.norm.cdf(x_bar, h, (sigma / np.sqrt(n))) # Right tail test\n",
    "pval_lefttail2 = stats.norm.sf(x_bar, h, (sigma / np.sqrt(n))) # More accurate right tail test\n",
    "\n",
    "print(pval) # if hypothesis were >=\n",
    "print(pval_lefttail1) # if hypothesis were >=\n",
    "print(pval_lefttail2)"
   ]
  },
  {
   "cell_type": "markdown",
   "metadata": {},
   "source": [
    "#### proportion - treat as binomial modeled as normal"
   ]
  },
  {
   "cell_type": "code",
   "execution_count": 3,
   "metadata": {},
   "outputs": [
    {
     "name": "stdout",
     "output_type": "stream",
     "text": [
      "0.5485062355001469\n",
      "0.5485062355001469\n"
     ]
    }
   ],
   "source": [
    "# proportion, two-tailed\n",
    "\n",
    "h = 0.50  # hypothesis proportion\n",
    "\n",
    "n = 100   # number of samples\n",
    "p = 0.53  # proportion observed\n",
    "\n",
    "\n",
    "sigma = np.sqrt(h * (1 - h) / n)  # for proportion from binomial\n",
    "\n",
    "# explainatory path to p-value \n",
    "if h < p:\n",
    "    right_tail = stats.norm.sf(p, h, sigma)\n",
    "    left_tail = stats.norm.cdf(h + (h - p), h, sigma)\n",
    "else:\n",
    "    right_tail = stats.norm.sf(h + (h - p), h, sigma)\n",
    "    left_tail = stats.norm.cdf(p, h, sigma)\n",
    "pval = right_tail + left_tail\n",
    "print(pval)\n",
    "\n",
    "# one line to p-value       \n",
    "pval = 2 * stats.norm.sf(h + np.abs(h - p), h, sigma)\n",
    "    \n",
    "print(pval)"
   ]
  },
  {
   "cell_type": "markdown",
   "metadata": {},
   "source": [
    "#### unknown population standard deviation - use t-test"
   ]
  },
  {
   "cell_type": "code",
   "execution_count": 4,
   "metadata": {},
   "outputs": [
    {
     "name": "stdout",
     "output_type": "stream",
     "text": [
      "1.0399999999999998\n",
      "0.03586064860607561\n",
      "Ttest_1sampResult(statistic=2.0137774303955394, pvalue=0.07172129721215122)\n",
      "0.03586064860607561\n",
      "0.9641393513939244\n"
     ]
    }
   ],
   "source": [
    "data = [1.11, 1.07, 1.11, 1.07, 1.12, 1.08, 0.98, 0.98, 1.02, 0.95, 0.95]\n",
    "h = 1.00 # null hypothesis: mean <= 1\n",
    "\n",
    "n = len(data)\n",
    "x_bar = np.mean(data)\n",
    "s = np.std(data, ddof=1) # sample std so ddof = 1\n",
    "print(x_bar)\n",
    "\n",
    "pval = stats.t.sf(x_bar, n - 1, h, s / np.sqrt(n)) \n",
    "\n",
    "print(pval)\n",
    "\n",
    "# Or just use scipy method\n",
    "#  Note: returns the test statistic, and 2 sided p-value \n",
    "print(stats.ttest_1samp(data, h)) \n",
    "\n",
    "# The one-tail that's interesting is half the two-tailed\n",
    "# * i.e. hypothesis mean <= 1 will never be rejected by a mean <= 1\n",
    "print(stats.ttest_1samp(data, h)[1] / 2) # \n",
    "\n",
    "# If you really want the one tail for the side that will never reject the null  \n",
    "print(1 - (stats.ttest_1samp(data, h)[1]) / 2) \n"
   ]
  },
  {
   "cell_type": "markdown",
   "metadata": {},
   "source": [
    "### Hypothesis testing with two independent samples"
   ]
  },
  {
   "cell_type": "code",
   "execution_count": 5,
   "metadata": {},
   "outputs": [
    {
     "name": "stdout",
     "output_type": "stream",
     "text": [
      "18.84659125336577\n",
      "0.005401921297382211\n"
     ]
    }
   ],
   "source": [
    "# Two populations\n",
    "\n",
    "n_x = 9      # number of x\n",
    "x_bar = 2    # average for x\n",
    "s_x = 0.866  # sample sigma for x\n",
    "\n",
    "n_y = 16     # number of y\n",
    "y_bar = 3.2  # average for y\n",
    "s_y = 1      # sample sigma for y\n",
    "\n",
    "# DOF - Welch Test\n",
    "dof = ((s_x ** 2 / n_x + s_y ** 2 / n_y) ** 2 / \n",
    "      (1 / (n_x - 1) * (s_x ** 2 / n_x) ** 2 + \n",
    "       1 / (n_y - 1) * (s_y ** 2 / n_y) ** 2))\n",
    "print(dof)\n",
    "\n",
    "# Standard Error\n",
    "std_err = np.sqrt((s_x ** 2 / n_x) + (s_y ** 2 / n_y))\n",
    "\n",
    "pval = (stats.t.sf(np.abs(x_bar - y_bar), dof, 0, std_err) +\n",
    "        stats.t.cdf(-1 * np.abs(x_bar - y_bar), dof, 0, std_err))\n",
    "\n",
    "print(pval)\n",
    "\n",
    "# If the data is available scipy.stats.ttest_ind(a, b, equal_var=False) can be used\n",
    "# Note: if equal_var: perform a student's independent 2 sample test \n",
    "#       (assumes equal population sizes and variances) \n",
    "#       if not equal_var: perform Welch’s t-test"
   ]
  },
  {
   "cell_type": "markdown",
   "metadata": {},
   "source": [
    "#### right tailed dist + Cohen's d"
   ]
  },
  {
   "cell_type": "code",
   "execution_count": 6,
   "metadata": {},
   "outputs": [
    {
     "name": "stdout",
     "output_type": "stream",
     "text": [
      "0.1928185434187067\n",
      "0.3841106397986879\n"
     ]
    }
   ],
   "source": [
    "# h0 mean of X less than mean of Y # right tailed distribution   \n",
    "\n",
    "n_x = 11\n",
    "x_bar = 4\n",
    "s_x = 1.5\n",
    "\n",
    "n_y = 9\n",
    "y_bar = 3.5\n",
    "s_y = 1\n",
    "\n",
    "# DOF - Welch Test\n",
    "dof = ((s_x ** 2 / n_x + s_y ** 2 / n_y) ** 2 / \n",
    "      (1 / (n_x - 1) * (s_x ** 2 / n_x) ** 2 + \n",
    "       1 / (n_y - 1) * (s_y ** 2 / n_y) ** 2))\n",
    "\n",
    "std_err = np.sqrt(s_x ** 2 / n_x + s_y ** 2 / n_y)\n",
    "\n",
    "pval = (stats.t.sf(x_bar - y_bar, dof, 0, std_err))\n",
    "\n",
    "print(pval)\n",
    "\n",
    "# cohen's d\n",
    "\n",
    "s_pooled = np.sqrt((((n_x - 1) * s_x ** 2) +\n",
    "                    ((n_y - 1) * s_y ** 2)) / \n",
    "                   (n_x + n_y - 2))\n",
    "\n",
    "cohen_d = (x_bar - y_bar) / s_pooled\n",
    "\n",
    "print(cohen_d)\n"
   ]
  },
  {
   "cell_type": "markdown",
   "metadata": {},
   "source": [
    "#### Two Independent Population Proportions"
   ]
  },
  {
   "cell_type": "code",
   "execution_count": 7,
   "metadata": {},
   "outputs": [
    {
     "name": "stdout",
     "output_type": "stream",
     "text": [
      "0.1403686607716731\n"
     ]
    }
   ],
   "source": [
    "x_a = 20\n",
    "n_a = 200\n",
    "x_b = 12\n",
    "n_b = 200\n",
    "\n",
    "p_a = (x_a / n_a)\n",
    "p_b = (x_b / n_b)\n",
    "p_c = (x_a + x_b) / (n_a + n_b)  # pooled proportion\n",
    "\n",
    "sigma = np.sqrt(p_c * (1 - p_c) * (1 / n_a + 1 / n_b))\n",
    "\n",
    "if p_a < p_b:\n",
    "    p_a, p_b = p_b, p_a\n",
    "p_val = (stats.norm.sf((p_a - p_b), 0, sigma) +\n",
    "         stats.norm.cdf(0 - (p_a - p_b), 0, sigma))\n",
    "\n",
    "print(p_val)\n",
    "\n",
    "# not sure you can one line this with scipy, but probably with stats models\n"
   ]
  },
  {
   "cell_type": "markdown",
   "metadata": {},
   "source": [
    "### Hypothesis testing with two dependent samples"
   ]
  },
  {
   "cell_type": "code",
   "execution_count": 8,
   "metadata": {},
   "outputs": [
    {
     "name": "stdout",
     "output_type": "stream",
     "text": [
      "[ 0.2 -4.1 -1.6 -1.8 -3.2 -2.  -2.9 -9.6]\n",
      "-3.1250000000000004 2.911430674329817\n",
      "0.009477987786306367\n"
     ]
    },
    {
     "data": {
      "text/plain": [
       "0.009477987786306376"
      ]
     },
     "execution_count": 8,
     "metadata": {},
     "output_type": "execute_result"
    }
   ],
   "source": [
    "data_before = [6.6, 6.5, 9.0, 10.3, 11.3, 8.1, 6.3, 11.6]\n",
    "data_after =  [6.8, 2.4, 7.4,  8.5,  8.1, 6.1, 3.4,  2.0]\n",
    "\n",
    "n = len(data_before)\n",
    "\n",
    "before_array = np.array(data_before)\n",
    "after_array = np.array(data_after)\n",
    "diff_array = after_array - before_array\n",
    "\n",
    "print(diff_array)\n",
    "\n",
    "x_bar_diff = diff_array.mean()\n",
    "s_diff = diff_array.std(ddof=1)\n",
    "print(x_bar_diff, s_diff)\n",
    "\n",
    "p_val = stats.t.cdf(x_bar_diff, n - 1, 0, s_diff / np.sqrt(n))\n",
    "\n",
    "print(p_val)\n",
    "\n",
    "# One line scipy stats method\n",
    "#   divide p-val by two for one tailed test\n",
    "stats.ttest_rel(data_after, data_before)[1] / 2\n"
   ]
  },
  {
   "cell_type": "code",
   "execution_count": 9,
   "metadata": {},
   "outputs": [
    {
     "name": "stdout",
     "output_type": "stream",
     "text": [
      "[90 11 -8 -8]\n",
      "0.2149441957535246\n",
      "0.2149441957535246\n",
      "0.2149441957535246\n"
     ]
    }
   ],
   "source": [
    "# right tailed\n",
    "\n",
    "data_before = [205, 241, 338, 368]\n",
    "data_after  = [295, 252, 330, 360]\n",
    "\n",
    "n = len(data_before)\n",
    "\n",
    "before_array = np.array(data_before)\n",
    "after_array = np.array(data_after)\n",
    "diff_array = after_array - before_array\n",
    "\n",
    "print(diff_array)\n",
    "\n",
    "x_bar_diff = diff_array.mean()\n",
    "s_diff = diff_array.std(ddof=1)\n",
    "\n",
    "p_val = stats.t.sf(x_bar_diff, n - 1, 0, s_diff / np.sqrt(n))\n",
    "\n",
    "print(p_val)\n",
    "\n",
    "print(stats.ttest_rel(data_after, data_before)[1] / 2) # divide by two for one tailed test \n",
    "print(stats.ttest_rel(data_before, data_after)[1] / 2) # ttest_rel tests the hypothesis that might be rejected\n",
    "\n"
   ]
  },
  {
   "cell_type": "markdown",
   "metadata": {},
   "source": [
    "### Chi-squared test"
   ]
  },
  {
   "cell_type": "markdown",
   "metadata": {},
   "source": [
    "#### Goodness-of-fit"
   ]
  },
  {
   "cell_type": "code",
   "execution_count": 10,
   "metadata": {},
   "outputs": [
    {
     "name": "stdout",
     "output_type": "stream",
     "text": [
      "0.5578254003710748\n",
      "Power_divergenceResult(statistic=3.0, pvalue=0.5578254003710748)\n"
     ]
    }
   ],
   "source": [
    "exp_dist = [12, 12, 12, 12, 12]  # Expected distribution\n",
    "obs_dist = [15, 12,  9,  9, 15]  # Oberved distribution\n",
    "\n",
    "dof = len(exp_dist) - 1\n",
    "\n",
    "exp = np.array(exp_dist)\n",
    "obs = np.array(obs_dist)\n",
    "\n",
    "chi_stat = sum(((obs - exp) ** 2) / exp)\n",
    "\n",
    "p_val = stats.chi2.sf(chi_stat, dof)\n",
    "\n",
    "print(p_val)\n",
    "\n",
    "\n",
    "# one line scipy stats method\n",
    "#   dof defaults to k - 1, method accepts ddof argument which will set dof to k - 1 - ddof\n",
    "print(stats.chisquare(obs_dist, exp_dist))\n",
    "\n"
   ]
  },
  {
   "cell_type": "markdown",
   "metadata": {},
   "source": [
    "#### Independence"
   ]
  },
  {
   "cell_type": "code",
   "execution_count": 29,
   "metadata": {},
   "outputs": [
    {
     "name": "stdout",
     "output_type": "stream",
     "text": [
      "[[ 90.57210965 115.19070322  49.23718713]\n",
      " [103.00357569 131.0011919   55.99523242]\n",
      " [104.42431466 132.80810489  56.76758045]]\n",
      "12.990918513170868\n",
      "0.011320253054188366\n",
      "\n",
      "(12.990918513170868, 0.011320253054188366, 4, array([[ 90.57210965, 115.19070322,  49.23718713],\n",
      "       [103.00357569, 131.0011919 ,  55.99523242],\n",
      "       [104.42431466, 132.80810489,  56.76758045]]))\n"
     ]
    }
   ],
   "source": [
    "data = np.array([[111, 96, 48],\n",
    "                 [96, 133, 61],\n",
    "                 [91, 150, 53]])\n",
    "\n",
    "n_terms = data.sum()\n",
    "n_rows = len(data[:, 0])\n",
    "n_cols = len(data[0, :])\n",
    "dof = (n_rows - 1) * (n_cols - 1)\n",
    "\n",
    "# Note - there's probably a better way to do this\n",
    "expected = np.array([[(data[:, j].sum() * data[i, :].sum()) / n_terms \n",
    "                      for j in range(n_cols)] for i in range(n_rows)])\n",
    "\n",
    "chi_stat = (((data - expected) ** 2) / expected).sum()\n",
    "\n",
    "p_val = stats.chi2.sf(chi_stat, dof)\n",
    "\n",
    "print(expected)\n",
    "print(chi_stat)\n",
    "print(p_val)\n",
    "print()\n",
    "\n",
    "# scipy stats method\n",
    "print(stats.chi2_contingency(data))"
   ]
  },
  {
   "cell_type": "markdown",
   "metadata": {},
   "source": [
    "#### Homogeneity\n",
    "\n",
    "This is the test for independence used to determine the probability that two populations have the same distribution."
   ]
  },
  {
   "cell_type": "code",
   "execution_count": 31,
   "metadata": {},
   "outputs": [
    {
     "name": "stdout",
     "output_type": "stream",
     "text": [
      "[[74.09090909 77.27272727 62.27272727 36.36363636]\n",
      " [88.90909091 92.72727273 74.72727273 43.63636364]]\n",
      "10.128696811826693\n",
      "0.017503254828611012\n",
      "\n"
     ]
    }
   ],
   "source": [
    "data = np.array([[72, 84, 49, 45],\n",
    "                 [91, 86, 88, 35]])\n",
    "\n",
    "n_terms = data.sum()\n",
    "n_rows = 2  # Should always be two here\n",
    "n_cols = len(data[0, :])\n",
    "dof = n_cols - 1\n",
    "\n",
    "# Note - there's probably a better way to do this\n",
    "expected = np.array([[(data[:,i].sum() * data[j,:].sum()) / n_terms \n",
    "                      for i in range(n_cols)] for j in range(n_rows)])\n",
    "\n",
    "chi_stat = (((data - expected) ** 2) / expected).sum()\n",
    "\n",
    "p_val = stats.chi2.sf(chi_stat, dof)\n",
    "\n",
    "print(expected)\n",
    "print(chi_stat)\n",
    "print(p_val)\n",
    "print()"
   ]
  },
  {
   "cell_type": "markdown",
   "metadata": {},
   "source": [
    "#### Test of a single variance"
   ]
  },
  {
   "cell_type": "code",
   "execution_count": 53,
   "metadata": {},
   "outputs": [
    {
     "name": "stdout",
     "output_type": "stream",
     "text": [
      "0.236304012345679\n",
      "0.3731116105280825\n"
     ]
    }
   ],
   "source": [
    "n = 25\n",
    "s = 3.5\n",
    "h = 7.2\n",
    "\n",
    "dof = n - 1\n",
    "\n",
    "chi_stat = ((n - 1) * s ** 2) / h ** 2\n",
    "\n",
    "print(chi_stat)\n",
    "\n",
    "p_val = stats.chi2.cdf(chi_stat, dof)  # left tailed\n",
    "\n",
    "print(p_val)"
   ]
  },
  {
   "cell_type": "code",
   "execution_count": 54,
   "metadata": {},
   "outputs": [
    {
     "name": "stdout",
     "output_type": "stream",
     "text": [
      "0.945216049382716\n",
      "0.082013899384776\n"
     ]
    }
   ],
   "source": [
    "# increasing n increase test statistic, but decreases p-val for both left and right handed tests,\n",
    "# guessing this is related to the change in distribution with dof?\n",
    "\n",
    "n = 50\n",
    "s = 3.5\n",
    "h = 7.2\n",
    "\n",
    "dof = n - 1\n",
    "\n",
    "chi_stat = ((n - 1) * s ** 2) / h ** 2\n",
    "\n",
    "print(chi_stat)\n",
    "\n",
    "p_val = stats.chi2.cdf(chi_stat, dof)  # left tailed\n",
    "\n",
    "print(p_val)"
   ]
  },
  {
   "cell_type": "code",
   "execution_count": 42,
   "metadata": {},
   "outputs": [
    {
     "name": "stdout",
     "output_type": "stream",
     "text": [
      "101.56408163265307\n",
      "1.623621440614767e-11\n"
     ]
    }
   ],
   "source": [
    "n = 25\n",
    "s = 7.2\n",
    "h = 3.5\n",
    "\n",
    "dof = n - 1\n",
    "\n",
    "chi_stat = ((n - 1) * s ** 2) / h ** 2\n",
    "\n",
    "print(chi_stat)\n",
    "\n",
    "p_val = stats.chi2.sf(chi_stat, dof)  # right tailed\n",
    "\n",
    "print(p_val)"
   ]
  },
  {
   "cell_type": "code",
   "execution_count": 51,
   "metadata": {},
   "outputs": [
    {
     "name": "stdout",
     "output_type": "stream",
     "text": [
      "207.36\n",
      "2.2435449579324275e-21\n"
     ]
    }
   ],
   "source": [
    "n = 50\n",
    "s = 7.2\n",
    "h = 3.5\n",
    "\n",
    "dof = n - 1\n",
    "\n",
    "chi_stat = ((n - 1) * s ** 2) / h ** 2\n",
    "\n",
    "print(chi_stat)\n",
    "\n",
    "p_val = stats.chi2.sf(chi_stat, dof)  # right tailed\n",
    "\n",
    "print(p_val)"
   ]
  },
  {
   "cell_type": "code",
   "execution_count": null,
   "metadata": {},
   "outputs": [],
   "source": []
  }
 ],
 "metadata": {
  "kernelspec": {
   "display_name": "Python 3",
   "language": "python",
   "name": "python3"
  },
  "language_info": {
   "codemirror_mode": {
    "name": "ipython",
    "version": 3
   },
   "file_extension": ".py",
   "mimetype": "text/x-python",
   "name": "python",
   "nbconvert_exporter": "python",
   "pygments_lexer": "ipython3",
   "version": "3.6.3"
  }
 },
 "nbformat": 4,
 "nbformat_minor": 2
}
