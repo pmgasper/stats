{
 "cells": [
  {
   "cell_type": "code",
   "execution_count": 7,
   "metadata": {},
   "outputs": [],
   "source": [
    "from scipy import stats\n",
    "import numpy as np"
   ]
  },
  {
   "cell_type": "markdown",
   "metadata": {},
   "source": [
    "### Hypothesis testing with one sample"
   ]
  },
  {
   "cell_type": "markdown",
   "metadata": {},
   "source": [
    "#### mean - known population standard deviation - use normal"
   ]
  },
  {
   "cell_type": "code",
   "execution_count": 39,
   "metadata": {},
   "outputs": [
    {
     "name": "stdout",
     "output_type": "stream",
     "text": [
      "0.897048394634\n",
      "0.102951605366\n",
      "0.102951605366\n"
     ]
    }
   ],
   "source": [
    "# Left and right tail tests for the mean \n",
    "# When the population standard deviation is somehow known, p-values found using a normal distribution\n",
    "\n",
    "h = 15  # null hypothesis, mu <= h use right tail test, \n",
    "        #                  mu >= h use left tail test\n",
    "\n",
    "n = 10  # number of samples \n",
    "mu = 15.2  # Observed average\n",
    "sigma = 0.5  # Population standard deviation\n",
    "\n",
    "pval = stats.norm.cdf(mu, h, (sigma / np.sqrt(n))) # Left tail test\n",
    "pval_lefttail1 = 1 - stats.norm.cdf(mu, h, (sigma / np.sqrt(n))) # Right tail test\n",
    "pval_lefttail2 = stats.norm.sf(mu, h, (sigma / np.sqrt(n))) # More accurate right tail test\n",
    "\n",
    "print(pval) # if hypothesis were >=\n",
    "print(pval_lefttail1) # if hypothesis were >=\n",
    "print(pval_lefttail2)"
   ]
  },
  {
   "cell_type": "markdown",
   "metadata": {},
   "source": [
    "#### proportion - treat as binomial modeled as normal"
   ]
  },
  {
   "cell_type": "code",
   "execution_count": 40,
   "metadata": {},
   "outputs": [
    {
     "name": "stdout",
     "output_type": "stream",
     "text": [
      "0.5485062355\n",
      "0.5485062355\n"
     ]
    }
   ],
   "source": [
    "# proportion, two-tailed\n",
    "\n",
    "h = 0.50  # hypothesis proportion\n",
    "\n",
    "n = 100   # number of samples\n",
    "p = 0.53  # proportion observed\n",
    "\n",
    "\n",
    "sigma = np.sqrt(h * (1 - h) / n)  # for proportion from binomial\n",
    "\n",
    "# explainatory path to p-value \n",
    "if h < p:\n",
    "    right_tail = stats.norm.sf(p, h, sigma)\n",
    "    left_tail = stats.norm.cdf(h + (h - p), h, sigma)\n",
    "else:\n",
    "    right_tail = stats.norm.sf(h + (h - p), h, sigma)\n",
    "    left_tail = stats.norm.cdf(p, h, sigma)\n",
    "pval = right_tail + left_tail\n",
    "print(pval)\n",
    "\n",
    "# one line to p-value       \n",
    "pval = 2 * stats.norm.sf(h + np.abs(h - p), h, sigma)\n",
    "    \n",
    "print(pval)"
   ]
  },
  {
   "cell_type": "markdown",
   "metadata": {},
   "source": [
    "#### unknown population standard deviation - use t-test"
   ]
  },
  {
   "cell_type": "code",
   "execution_count": 58,
   "metadata": {},
   "outputs": [
    {
     "name": "stdout",
     "output_type": "stream",
     "text": [
      "1.04\n",
      "0.0358606486061\n",
      "Ttest_1sampResult(statistic=2.0137774303955394, pvalue=0.071721297212151217)\n",
      "0.0358606486061\n",
      "0.964139351394\n"
     ]
    }
   ],
   "source": [
    "data = [1.11, 1.07, 1.11, 1.07, 1.12, 1.08, 0.98, 0.98, 1.02, 0.95, 0.95]\n",
    "h = 1.00 # null hypothesis: mean <= 1\n",
    "\n",
    "n = len(data)\n",
    "mu = np.mean(data)\n",
    "sigma = np.std(data, ddof=1) # sample std so ddof = 1\n",
    "print(mu)\n",
    "\n",
    "pval = stats.t.sf(mu, n - 1, h, sigma / np.sqrt(n)) \n",
    "\n",
    "print(pval)\n",
    "\n",
    "# Or just use scipy method\n",
    "#  Note: returns the test statistic, and 2 sided p-value \n",
    "print(stats.ttest_1samp(data, h)) \n",
    "\n",
    "# The one-tail that's interesting is half the two-tailed\n",
    "# * i.e. hypothesis mean <= 1 will never be rejected by a mean <= 1\n",
    "print(stats.ttest_1samp(data, h)[1] / 2) # \n",
    "\n",
    "# If you really want the one tail for the side that will never reject the null  \n",
    "print(1 - (stats.ttest_1samp(data, h)[1]) / 2) \n"
   ]
  },
  {
   "cell_type": "markdown",
   "metadata": {},
   "source": [
    "### Hypothesis testing with two samples"
   ]
  },
  {
   "cell_type": "code",
   "execution_count": 14,
   "metadata": {},
   "outputs": [
    {
     "name": "stdout",
     "output_type": "stream",
     "text": [
      "18.84659125336577\n"
     ]
    }
   ],
   "source": [
    "# Two populations\n",
    "\n",
    "n_g = 9      # number of girls\n",
    "mu_g = 2     # average for girls\n",
    "s_g = 0.866  # sample sigma for girls\n",
    "\n",
    "n_b = 16     # number of boys\n",
    "mu_b = 3.2   # average for boys\n",
    "s_b = 1      # sample sigma for boys\n",
    "\n",
    "nx = n_g\n",
    "vx = s_g ** 2\n",
    "ny = n_b\n",
    "vy = s_b ** 2\n",
    "\n",
    "#scipy.stats.ttest_ind(a, b, equal_var=True)\n",
    "# if equal_var: perform a standard independent 2 sample test that assumes equal population sizes and variances \n",
    "# if not equal_var: perform Welch’s t-test\n",
    "\n",
    "df = ((vx / nx + vy / ny) ** 2 / \n",
    "      (1 / (nx - 1) * (vx / nx) ** 2 + \n",
    "       1 / (ny - 1) * (vy / ny) ** 2))\n",
    "\n",
    "print(df)\n",
    "\n",
    "# dof 18.8462\n",
    "\n",
    "\n",
    "\n"
   ]
  },
  {
   "cell_type": "code",
   "execution_count": 15,
   "metadata": {},
   "outputs": [
    {
     "data": {
      "text/plain": [
       "0.784996"
      ]
     },
     "execution_count": 15,
     "metadata": {},
     "output_type": "execute_result"
    }
   ],
   "source": []
  },
  {
   "cell_type": "code",
   "execution_count": 60,
   "metadata": {},
   "outputs": [],
   "source": [
    "# https://gist.github.com/jdmonaco/5922991\n",
    "\n",
    "def t_welch(x, y, tails=2):\n",
    "    \"\"\"Welch's t-test for two unequal-size samples, not assuming equal variances\n",
    "    \"\"\"\n",
    "    assert tails in (1,2), \"invalid: tails must be 1 or 2, found %s\"%str(tails)\n",
    "    x, y = np.asarray(x), np.asarray(y)\n",
    "    nx, ny = x.size, y.size\n",
    "    vx, vy = x.var(), y.var()\n",
    "\n",
    "\n",
    "    df = int((vx/nx + vy/ny)**2 / # Welch-Satterthwaite equation\n",
    "        ((vx/nx)**2 / (nx - 1) + (vy/ny)**2 / (ny - 1)))\n",
    "    t_obs = (x.mean() - y.mean()) / np.sqrt(vx/nx + vy/ny)\n",
    "    p_value = tails * stats.t.sf(abs(t_obs), df)\n",
    "    return TtestResults(t_obs, p_value)"
   ]
  },
  {
   "cell_type": "code",
   "execution_count": null,
   "metadata": {
    "collapsed": true
   },
   "outputs": [],
   "source": []
  }
 ],
 "metadata": {
  "kernelspec": {
   "display_name": "Python 3",
   "language": "python",
   "name": "python3"
  },
  "language_info": {
   "codemirror_mode": {
    "name": "ipython",
    "version": 3
   },
   "file_extension": ".py",
   "mimetype": "text/x-python",
   "name": "python",
   "nbconvert_exporter": "python",
   "pygments_lexer": "ipython3",
   "version": "3.6.3"
  }
 },
 "nbformat": 4,
 "nbformat_minor": 2
}
