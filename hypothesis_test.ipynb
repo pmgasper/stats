{
 "cells": [
  {
   "cell_type": "code",
   "execution_count": 5,
   "metadata": {
    "collapsed": true
   },
   "outputs": [],
   "source": [
    "from scipy import stats\n",
    "import numpy as np"
   ]
  },
  {
   "cell_type": "markdown",
   "metadata": {},
   "source": [
    "### Hypothesis testing with one sample"
   ]
  },
  {
   "cell_type": "markdown",
   "metadata": {},
   "source": [
    "#### mean - known population standard deviation - use normal"
   ]
  },
  {
   "cell_type": "code",
   "execution_count": 39,
   "metadata": {},
   "outputs": [
    {
     "name": "stdout",
     "output_type": "stream",
     "text": [
      "0.897048394634\n",
      "0.102951605366\n",
      "0.102951605366\n"
     ]
    }
   ],
   "source": [
    "# Left and right tail tests for the mean \n",
    "# When the population standard deviation is somehow known, p-values found using a normal distribution\n",
    "\n",
    "h = 15  # null hypothesis, mu <= h use right tail test, \n",
    "        #                  mu >= h use left tail test\n",
    "\n",
    "n = 10  # number of samples \n",
    "mu = 15.2  # Observed average\n",
    "sigma = 0.5  # Population standard deviation\n",
    "\n",
    "pval = stats.norm.cdf(mu, h, (sigma / np.sqrt(n))) # Left tail test\n",
    "pval_lefttail1 = 1 - stats.norm.cdf(mu, h, (sigma / np.sqrt(n))) # Right tail test\n",
    "pval_lefttail2 = stats.norm.sf(mu, h, (sigma / np.sqrt(n))) # More accurate right tail test\n",
    "\n",
    "print(pval) # if hypothesis were >=\n",
    "print(pval_lefttail1) # if hypothesis were >=\n",
    "print(pval_lefttail2)"
   ]
  },
  {
   "cell_type": "markdown",
   "metadata": {},
   "source": [
    "#### proportion - treat as binomial modeled as normal"
   ]
  },
  {
   "cell_type": "code",
   "execution_count": 40,
   "metadata": {},
   "outputs": [
    {
     "name": "stdout",
     "output_type": "stream",
     "text": [
      "0.5485062355\n",
      "0.5485062355\n"
     ]
    }
   ],
   "source": [
    "# proportion, two-tailed\n",
    "\n",
    "h = 0.50  # hypothesis proportion\n",
    "\n",
    "n = 100   # number of samples\n",
    "p = 0.53  # proportion observed\n",
    "\n",
    "\n",
    "sigma = np.sqrt(h * (1 - h) / n)  # for proportion from binomial\n",
    "\n",
    "# explainatory path to p-value \n",
    "if h < p:\n",
    "    right_tail = stats.norm.sf(p, h, sigma)\n",
    "    left_tail = stats.norm.cdf(h + (h - p), h, sigma)\n",
    "else:\n",
    "    right_tail = stats.norm.sf(h + (h - p), h, sigma)\n",
    "    left_tail = stats.norm.cdf(p, h, sigma)\n",
    "pval = right_tail + left_tail\n",
    "print(pval)\n",
    "\n",
    "# one line to p-value       \n",
    "pval = 2 * stats.norm.sf(h + np.abs(h - p), h, sigma)\n",
    "    \n",
    "print(pval)"
   ]
  },
  {
   "cell_type": "markdown",
   "metadata": {},
   "source": [
    "#### unknown population standard deviation - use t-test"
   ]
  },
  {
   "cell_type": "code",
   "execution_count": 41,
   "metadata": {},
   "outputs": [
    {
     "name": "stdout",
     "output_type": "stream",
     "text": [
      "0.0358606486061\n"
     ]
    }
   ],
   "source": [
    "data = [1.11, 1.07, 1.11, 1.07, 1.12, 1.08, 0.98, 0.98, 1.02, 0.95, 0.95]\n",
    "h = 1.00 # null hypothesis - mean < 1\n",
    "\n",
    "n = len(data)\n",
    "mu = np.mean(data)\n",
    "sigma = np.std(data, ddof=1) # sample std so ddof = 1\n",
    "\n",
    "pval = stats.t.sf(mu, n - 1, h, sigma / np.sqrt(n)) \n",
    "\n",
    "print(pval)\n",
    "\n",
    "\n",
    "\n"
   ]
  },
  {
   "cell_type": "markdown",
   "metadata": {},
   "source": [
    "### Hypothesis testing with two samples"
   ]
  },
  {
   "cell_type": "code",
   "execution_count": 2,
   "metadata": {
    "collapsed": true
   },
   "outputs": [],
   "source": []
  },
  {
   "cell_type": "code",
   "execution_count": null,
   "metadata": {
    "collapsed": true
   },
   "outputs": [],
   "source": []
  }
 ],
 "metadata": {
  "kernelspec": {
   "display_name": "Python 2",
   "language": "python",
   "name": "python2"
  },
  "language_info": {
   "codemirror_mode": {
    "name": "ipython",
    "version": 2
   },
   "file_extension": ".py",
   "mimetype": "text/x-python",
   "name": "python",
   "nbconvert_exporter": "python",
   "pygments_lexer": "ipython2",
   "version": "2.7.13"
  }
 },
 "nbformat": 4,
 "nbformat_minor": 2
}
