{
 "cells": [
  {
   "cell_type": "markdown",
   "metadata": {},
   "source": [
    "import python modules"
   ]
  },
  {
   "cell_type": "code",
   "execution_count": 1,
   "metadata": {},
   "outputs": [
    {
     "name": "stderr",
     "output_type": "stream",
     "text": [
      "/home/paul/Software/anaconda2/envs/ds36_env/lib/python3.6/site-packages/statsmodels/compat/pandas.py:56: FutureWarning: The pandas.core.datetools module is deprecated and will be removed in a future version. Please use the pandas.tseries module instead.\n",
      "  from pandas.core import datetools\n"
     ]
    }
   ],
   "source": [
    "from scipy import stats\n",
    "import matplotlib.pylab as plt\n",
    "import numpy as np\n",
    "import pandas as pd\n",
    "import statsmodels.api as sm\n",
    "import statsmodels.formula.api as smf\n",
    "import warnings\n",
    "warnings.simplefilter(action=\"ignore\", category=FutureWarning)\n"
   ]
  },
  {
   "cell_type": "markdown",
   "metadata": {},
   "source": [
    "### Table of Contents\n",
    "1. [Background](#background)<br><br>\n",
    "2. [Hypothesis testing with one sample](#onesamp)<br>\n",
    "    2a. [if population sigma is unknown -> t distribution](#t_1s)<br>\n",
    "    2b. [if population sigma is known -> normal distribution](#norm_1s)<br>\n",
    "    2c. [for a poplation proportion -> binomial as normal](#bi_1s)<br><br>\n",
    "3. [Hypothesis testing with two independent samples](#twosamp_ind)<br>\n",
    "    3a. [Two independent population means](#twosamp_ind_means)<br>\n",
    "    3b. [Cohen's d and effect size](#cohen_d)<br>\n",
    "    3c. [Two independent population proportions](#ind_pro)<br><br>\n",
    "4. [Hypothesis testing with two dependent samples](#twosamp_dep)<br><br>\n",
    "5. [Chi squared test](#chi_sq)<br>\n",
    "    5a. [Goodness-of-fit](#chi_fit)<br>\n",
    "    5b. [Independence](#chi_ind)<br>\n",
    "    5c. [Homogeneity](#chi_homo)<br>\n",
    "    5d. [Single variance](#chi_var)<br><br>\n",
    "6. [ANOVA](#anova)<br>\n",
    "    6a. [One-way ANOVA](#oneway)<br>\n",
    "    6b. [Two-way ANOVA](#twoway)<br>\n",
    "    6c. [Test of Two Variances](#twovar)<br>"
   ]
  },
  {
   "cell_type": "markdown",
   "metadata": {},
   "source": [
    "### Background<a class=\"anchor\" id=\"background\"></a>\n",
    "\n",
    "A **hypothesis test** is a statistical inference that makes a decision about the validity of an assertion which has been translated into a statistic. It considers a **null hypothesis** $H_0$ against an **alternative hypothesis** $H_1$ or $H_a$. The null hypothesis represents some default position that the results of the test will either rejected or failed to reject in favor of the alternative hypothesis which is the opposite of the null.\n",
    "> $H_0$ null hypothesis<br>\n",
    "$H_1$ alternative hypothesis \n",
    "\n",
    "Before data collection, a **signifiance level**, $\\alpha$, is chosen. It represents the probability that the rest will incorrectly reject the null hypothesis (that is reject it even though it is true). After data collection, the signifiance level is compared against the **p-value** which is the probability of observing a test statistic at least as extreme as the one actually obsevered given that null hypothesis is true. \n",
    ">If p-value < $\\alpha$ then the null hypothesis is rejected at significance level $\\alpha$. Otherwise it is \"not rejected\" (this does not mean it is accepted as true)<br><br>\n",
    "Note: p-values are prone to misuse and a topic of debate. Here are a few quick points, further reading is recommended:\n",
    "1. $P(D|H_0) <> P(H_0|D)$. The former is what the p-value tells you. The latter is what you want to know, \n",
    "2. The choice of $\\alpha$ sets up a false dichotomy. A p-value = 0.051 vs. = 0.049 is probabilistically very similar, but give opposite conclusions at $\\alpha$ = 0.05.\n",
    "3. When comparing two groups the \"nil hypothesis,\" $\\bar{X_1}-\\bar{X_2} = 0$, is virtiually never true. There is always a difference however slight, so a large enough sample size will always be statistically significant.  \n",
    "4. Temptation to introduce bias through \"data peeking\". That is, running more exmeriments after the planned number gives a p-value is just over $\\alpha$ or terminating experiments early if the p-value is alright significant.\n",
    "5. With many studies being preformed, some will appear significany by chance. In the case of $\\alpha$ = 0.05, 1 in 20 experiments would be false positives. This situation is made worse by a lack of reporting negative results (the \"file drawer problem\").\n",
    "\n",
    "The **signifiance** of a test is the probability of making a **type 1 error** or **false positive**. Also of interest is the probability failing to reject the null hypothesis when it is false $\\beta$. That is a **type 2 error** or **false negative**. This is more commonly expression as the probability of *not* making a type 2 error or the **power** of the test $1 - \\beta$.<br>\n",
    ">$\\alpha$ = P(type 1)<br>\n",
    "$\\beta$ = P(type 2)<br><br>\n",
    "signifiance = $\\alpha$<br>\n",
    "power = $1 - \\beta$\n",
    "\n",
    "Tests can be left-tailed, right-tailed or two-tailed depending on the hypothesis:<br>\n",
    ">Left-tailed: p-value is in the left tail of the distribution\n",
    "$H_0$: $\\mu >= x$ and $H_1$: $\\mu < x$<br>\n",
    "Right-tailed: p-value is in the right tail of the distribution\n",
    "$H_0$: $\\mu <= x$ and $H_1$: $\\mu > x$<br>\n",
    "Two-tailed: p-value split evenly between both tails of the distribution\n",
    "$H_0$: $\\mu = x$ and $H_1$: $\\mu <> x$<br> "
   ]
  },
  {
   "cell_type": "markdown",
   "metadata": {},
   "source": [
    "### Hypothesis testing with one sample<a class=\"anchor\" id=\"onesamp\"></a>\n",
    "\n",
    "Tests comparing a sample statistic to a hypothesized value for the corresponding population parameter."
   ]
  },
  {
   "cell_type": "markdown",
   "metadata": {},
   "source": [
    "#### single population mean -  unknown population standard deviation <a class=\"anchor\" id=\"t_1s\"></a> \n",
    "\n",
    "When the population standard deviation is unknown (as is usually the case) a Students t-test should be used \n",
    "\n",
    "**prerequisites:**\n",
    "1. The data must come from a simple random sample. That is, any group of n individuals from the population was equally likely to be chosen for the sample). \n",
    "2. The sample mean distribution must be approximately normal. That is, if n is small the population distribution should be normal where if n is large this is not required.\n",
    "\n",
    "**the t-distribution:**\n",
    "1. Select the t distribution with n - 1 degrees of freedom: $t_{dof} = n-1$\n",
    "2. The hypothesis value is the center of the t distribution: $t_{\\mu} = h_0$\n",
    "3. The sample standard deviation of the mean approximates sigma: $t_{\\sigma} = \\large \\frac{s}{\\sqrt{n}}$<br>\n",
    "4. Alternatively, calculate the t-score: $t_{score} = \\large\\frac{|{\\bar{x}-h_0}|}{\\frac{s}{\\sqrt{n}}}$<br>\n",
    "*Either way remember to use n - 1 in the denominator when calculating s.*\n",
    "\n",
    "**the p-value:**\n",
    "1. Find the probability of observing a value at least as extreme as $\\bar{x}$ using the appropriate tail(s) of the t-distribution. This can be done using the Scipy stats.ttest_1samp method, which returns a tuple (test_statistic, p-value). \n",
    "2. The p-value returned by stats.ttest_1samp is for a two tailed t-test. For a one tailed test divide by two. This gives the tail that might be interesting (x_bar > $h_0$ right-tail, x_bar < $h_0$ left tail). The test statistic is the number of standard deviations $\\bar{x}$ is from ${h_0}$. "
   ]
  },
  {
   "cell_type": "code",
   "execution_count": 2,
   "metadata": {},
   "outputs": [
    {
     "name": "stdout",
     "output_type": "stream",
     "text": [
      "The p-value is 0.0359 (using a scaled t-distribution)\n",
      "The p-value is 0.0359 (using a t-score)\n",
      "The p-value is 0.0359 (using scipy method, dividing by twofor 1 tailed test)\n"
     ]
    }
   ],
   "source": [
    "# Illowsky - Example 9.20\n",
    "# right tailed t-test\n",
    "data = [1.11, 1.07, 1.11, 1.07, 1.12, 1.08, 0.98, 0.98, 1.02, 0.95, 0.95]\n",
    "h = 1.00 # null hypothesis: mean <= 1\n",
    "\n",
    "# using scaled t-distribution (long way for explainatory purposes)\n",
    "n = len(data)\n",
    "x_bar = np.mean(data)\n",
    "s = np.std(data, ddof=1) # sample std -> ddof = 1\n",
    "pval = stats.t.sf(x_bar, n - 1, h, s / np.sqrt(n)) \n",
    "print('The p-value is {0:.4f} (using a scaled t-distribution)'.format(pval))\n",
    "\n",
    "# using a t-score (another long way for explainatory purposes)\n",
    "t_score = np.abs(x_bar - h) / (s / np.sqrt(n))\n",
    "pval = stats.t.sf(t_score, n - 1)\n",
    "print('The p-value is {0:.4f} (using a t-score)'.format(pval))\n",
    "\n",
    "# using scipy method\n",
    "t_score, pval = stats.ttest_1samp(data, h)\n",
    "pval = pval / 2\n",
    "print('The p-value is {0:.4f} (using scipy method, dividing by two'\n",
    "      'for 1 tailed test)'.format(pval))\n",
    "# The one-tail that's interesting is half the two-tailed\n",
    "#  i.e. hypothesis mean <= 1 will never be rejected by a mean <= 1\n",
    "#  If you really want the one tail for the side that will never reject the null  \n",
    "#  print(1 - (stats.ttest_1samp(data, h)[1]) / 2) "
   ]
  },
  {
   "cell_type": "markdown",
   "metadata": {},
   "source": [
    "#### single population mean - known population standard deviation<a class=\"anchor\" id=\"norm_1s\"></a> \n",
    "\n",
    "When the population standard deviation is known (rarely the case) the p-value should be calculated similar to the t-test described above, except using a normal distribution and the population standard deviation. This is sometimes called a z-test.\n",
    "\n",
    "$$\\bar{X} \\sim N(\\mu_X, \\frac{\\sigma_X}{{\\sqrt{n}}})$$"
   ]
  },
  {
   "cell_type": "code",
   "execution_count": 3,
   "metadata": {},
   "outputs": [
    {
     "name": "stdout",
     "output_type": "stream",
     "text": [
      "For the sample mean = 17\n",
      "  If the null hypothesis was a population mean <= 15, the p-value = 1.0000\n",
      "  If the null hypothesis was a population mean >= 15, the p-value = 0.0000\n"
     ]
    }
   ],
   "source": [
    "# Illowsky - Example 9.9\n",
    "#  null hypothesis mu >= h -> use left tail test\n",
    "#  right tail test included for playing with inputs \n",
    "h = 15  \n",
    "n = 10\n",
    "x_bar = 17   # Sample mean\n",
    "sigma = 0.5  # Known population standard deviation\n",
    "\n",
    "pval_righttail = stats.norm.cdf(x_bar, h, (sigma / np.sqrt(n))) # Left tail test\n",
    "#pval_lefttail = 1 - stats.norm.cdf(x_bar, h, (sigma / np.sqrt(n))) # Right tail test\n",
    "pval_lefttail = stats.norm.sf(x_bar, h, (sigma / np.sqrt(n))) # More accurate right tail test\n",
    "\n",
    "print('For the sample mean = {0}'.format(x_bar))\n",
    "print('  If the null hypothesis was a population mean <= {0}, the p-value = {1:.4f}'\\\n",
    "         .format(h, pval_righttail))\n",
    "print('  If the null hypothesis was a population mean >= {0}, the p-value = {1:.4f}'\\\n",
    "         .format(h, pval_lefttail))\n",
    "\n",
    "# The z-test is not implemented in scipy. \n",
    "# The statsmodels module has an implementation, but it uses the sample standard deviation which\n",
    "# defeats using it when the population standard deviation is known."
   ]
  },
  {
   "cell_type": "code",
   "execution_count": 4,
   "metadata": {},
   "outputs": [
    {
     "name": "stdout",
     "output_type": "stream",
     "text": [
      "  For the null hypothesis of a population mean <= 16.43, the p-value = 0.0187\n"
     ]
    }
   ],
   "source": [
    "# Illowsky - Example 9.14 \n",
    "#  null hypothesis mu <= h -> use right tail test\n",
    "#  see previous example 9.9 for mu >= h\n",
    "h = 16.43  \n",
    "n = 15\n",
    "x_bar = 16   # Sample mean\n",
    "sigma = 0.8  # Known population standard deviation\n",
    "\n",
    "pval_righttail = stats.norm.cdf(x_bar, h, (sigma / np.sqrt(n))) # Left tail test\n",
    "pval_lefttail = stats.norm.sf(x_bar, h, (sigma / np.sqrt(n))) # More accurate right tail test\n",
    "\n",
    "print('  For the null hypothesis of a population mean <= {0}, the p-value = {1:.4f}'\\\n",
    "         .format(h, pval_righttail))"
   ]
  },
  {
   "cell_type": "markdown",
   "metadata": {},
   "source": [
    "#### single population proportion<a class=\"anchor\" id=\"bi_1s\"></a> \n",
    "\n",
    "Approximate the proportion as a normal distribution for a binomial divided by n.<br><br>\n",
    "$$\\large{P}' \\sim N(p, \\sqrt{\\normalsize\\frac{p q}{n}})$$\n",
    "\n",
    "Note: Use the p and q from the hypothesis in determining $\\sigma$ of the distribution.<br>\n",
    "Note: Requires np > 5 and nq > 5 for an accurate result.<br>\n",
    "Note: Also requires data to come from a simple random sample."
   ]
  },
  {
   "cell_type": "code",
   "execution_count": 5,
   "metadata": {},
   "outputs": [
    {
     "name": "stdout",
     "output_type": "stream",
     "text": [
      " For the null hypothesis of a population proportion of 0.5 the p-value = 0.5485\n",
      " For the null hypothesis of a population proportion of 0.5 the p-value = 0.5485\n"
     ]
    }
   ],
   "source": [
    "# Illowsky - Example 9.17\n",
    "# two-tailed test - single population proportion\n",
    "h = 0.50  # hypothesis proportion\n",
    "n = 100   # number of samples\n",
    "p = 0.53  # proportion observed\n",
    "\n",
    "sigma = np.sqrt(h * (1 - h) / n)  # for a proportion\n",
    "\n",
    "# more explainatory code to p-value \n",
    "if h < p:\n",
    "    right_tail = stats.norm.sf(p, h, sigma)\n",
    "    left_tail = stats.norm.cdf(h + (h - p), h, sigma)\n",
    "else:\n",
    "    right_tail = stats.norm.sf(h + (h - p), h, sigma)\n",
    "    left_tail = stats.norm.cdf(p, h, sigma)\n",
    "pval = right_tail + left_tail\n",
    "print(' For the null hypothesis of a population proportion of {0} the p-value = {1:.4f}'.format(h, pval))\n",
    "\n",
    "# one line to p-value       \n",
    "pval = 2 * stats.norm.sf(h + np.abs(h - p), h, sigma)\n",
    "print(' For the null hypothesis of a population proportion of {0} the p-value = {1:.4f}'.format(h, pval))"
   ]
  },
  {
   "cell_type": "markdown",
   "metadata": {},
   "source": [
    "### Hypothesis testing with two samples<a class=\"anchor\" id=\"twosamp_ind\"></a> \n",
    "\n",
    "Tests comparing a sample statistics across two groups. The test are treated differently depending on whether the groups consist of unrelated individuals (independent samples) or matched pairs (dependent samples). "
   ]
  },
  {
   "cell_type": "markdown",
   "metadata": {},
   "source": [
    "#### Population means for two independent samples<a class=\"anchor\" id=\"twosamp_ind_means\"></a> \n",
    "\n",
    "**prerequisites:**\n",
    "1. Simple random samples from two independent populations\n",
    "2. The distribution of the sample means should be normal. That is, if sample sizes are small the population distributions must be normal.\n",
    "\n",
    "**the p-value:**\n",
    "1. Generally the null hypothesis is that the sample means are the same: $\\bar{X_1}-\\bar{X_2} = 0$\n",
    "2. Select the t-distribution degrees of freedom depending on whether the population standard deviations are known to be equal.\n",
    "> If the populations have equal standard deviations, then a pooled standard deviation may be used with $dof = n1 + n2 - 2$<br>\n",
    "> If the populations standard deviations may be different, then the **Aspin-Welch** test should be used. The $dof$ equation is somewhat involved to input here, but easily searched up and coded in the example below.\n",
    "3. Calculate the t-score test statistic as the difference in sample means divided by the standard error:<br>\n",
    "$$\\frac{\\bar{X_1}-\\bar{X_2}}{\\sigma}$$<br>\n",
    "$$\\sigma = \\sqrt{\\frac{s_1^2}{n_1}+\\frac{s_2^2}{n_2}}$$\n",
    "4. Find the probability of observing a value at least as extreme as $\\bar{x}$. This can be done using the Scipy stats.ttest_ind method, which returns a tuple (test_statistic, p-value). Note method parameter equal_var should be set to False if the populations may have unequal variences or different sizes."
   ]
  },
  {
   "cell_type": "code",
   "execution_count": 6,
   "metadata": {},
   "outputs": [
    {
     "name": "stdout",
     "output_type": "stream",
     "text": [
      "The number of degrees of freedom using the Welch test = 18.85\n",
      "The p-value for the two population means being the same = 0.0054\n"
     ]
    }
   ],
   "source": [
    "# Illowsky - Example 10.1\n",
    "#  Two independent samples, unknown, possibly different, standard deviations\n",
    "#  two-tailed test\n",
    "n_x = 9      # number of x\n",
    "x_bar = 2    # average for x\n",
    "s_x = 0.866  # sample sigma for x\n",
    "\n",
    "n_y = 16     # number of y\n",
    "y_bar = 3.2  # average for y\n",
    "s_y = 1      # sample sigma for y\n",
    "\n",
    "h = 0        # Hypothesis X1_bar - X2_bar = 0\n",
    "\n",
    "# DOF - Welch Test\n",
    "dof = ((s_x ** 2 / n_x + s_y ** 2 / n_y) ** 2 / \n",
    "      (1 / (n_x - 1) * (s_x ** 2 / n_x) ** 2 + \n",
    "       1 / (n_y - 1) * (s_y ** 2 / n_y) ** 2))\n",
    "print('The number of degrees of freedom using the Welch test = {0:.2f}'.format(dof))\n",
    "\n",
    "std_err = np.sqrt((s_x ** 2 / n_x) + (s_y ** 2 / n_y))\n",
    "t_score = (np.abs(x_bar - y_bar)) / std_err\n",
    "pval = stats.t.sf(t_score, dof) * 2   # * 2 for two-tailed test\n",
    "print('The p-value for the two population means being the same = {0:.4f}'.format(pval))\n",
    "\n",
    "# If the data is available scipy.stats.ttest_ind(a, b, equal_var=False) can be used\n",
    "# (see Example 10.3)"
   ]
  },
  {
   "cell_type": "code",
   "execution_count": 7,
   "metadata": {},
   "outputs": [
    {
     "name": "stdout",
     "output_type": "stream",
     "text": [
      "The p-value for the first population mean being greater than the face-to-face population mean = 0.1928\n",
      "The p-value for the first population mean being greater than the face-to-face population mean = 0.1928\n",
      "\n",
      "The Cohen's d = 0.384\n"
     ]
    }
   ],
   "source": [
    "# Illowsky - Example 10.2 and 10.4\n",
    "# h0: X_bar > Y_bar (right-tailed distribution)  \n",
    "n_x = 11\n",
    "x_bar = 4\n",
    "s_x = 1.5\n",
    "\n",
    "n_y = 9\n",
    "y_bar = 3.5\n",
    "s_y = 1\n",
    "\n",
    "# DOF - Welch Test\n",
    "dof = ((s_x ** 2 / n_x + s_y ** 2 / n_y) ** 2 / \n",
    "      (1 / (n_x - 1) * (s_x ** 2 / n_x) ** 2 + \n",
    "       1 / (n_y - 1) * (s_y ** 2 / n_y) ** 2))\n",
    "\n",
    "std_err = np.sqrt(s_x ** 2 / n_x + s_y ** 2 / n_y)\n",
    "pval = (stats.t.sf(x_bar - y_bar, dof, 0, std_err))\n",
    "\n",
    "# If raw data are available scipy stats.ttest_ind can be used. See example 10.3\n",
    "print('The p-value for the first population mean being greater than the face-to-face '\n",
    "      'population mean = {0:.4f}'.format(pval))\n",
    "\n",
    "# Using t_score on standard t_dof\n",
    "t_score = abs(x_bar - y_bar) / std_err\n",
    "pval = (stats.t.sf(t_score, dof))\n",
    "print('The p-value for the first population mean being greater than the face-to-face '\n",
    "      'population mean = {0:.4f}'.format(pval))\n",
    "print()\n",
    "\n",
    "# Example 10.4 \n",
    "# cohen's d (see discription below)\n",
    "s_pooled = np.sqrt((((n_x - 1) * s_x ** 2) + ((n_y - 1) * s_y ** 2)) / (n_x + n_y - 2))\n",
    "cohen_d = np.abs(x_bar - y_bar) / s_pooled\n",
    "\n",
    "print(\"The Cohen's d = {0:.3f}\".format(cohen_d))\n"
   ]
  },
  {
   "cell_type": "code",
   "execution_count": 8,
   "metadata": {},
   "outputs": [
    {
     "name": "stdout",
     "output_type": "stream",
     "text": [
      "The p-value for the online population mean being less than the face-to-face population mean = 0.0011\n",
      "The Cohen's d = 0.834\n"
     ]
    }
   ],
   "source": [
    "# Illowsky - Example 10.3 and 10.5\n",
    "data_online = np.array(\n",
    "    [67.6, 41.2, 85.3, 55.9, 82.4, 91.2, 73.5, 94.1, 64.7, 64.7,\n",
    "     70.6, 38.2, 61.8, 88.2, 70.6, 58.8, 91.2, 73.5, 82.4, 35.5,\n",
    "     94.1, 88.2, 64.7, 55.9, 88.2, 97.1, 85.3, 61.8, 79.4, 79.4])\n",
    "\n",
    "data_face = np.array(\n",
    "    [77.9, 95.3, 81.2, 74.1, 98.8, 88.2, 85.9, 92.9, 87.1, 88.2,\n",
    "     69.4, 57.6, 69.4, 67.1, 97.6, 85.9, 88.2, 91.8, 78.8, 71.8,\n",
    "     98.8, 61.2, 92.9, 90.6, 97.6, 100,  95.3, 83.5, 92.9, 89.4])\n",
    "\n",
    "t_score, pval = (stats.ttest_ind(data_online, data_face, equal_var=False))\n",
    "# Note: for possibly unequal population variances or sizes, argument equal_var=False\n",
    "\n",
    "# For left tailed test (H0: data_online >= data_face)\n",
    "if np.mean(data_online) < np.mean(data_face):\n",
    "    pval = pval / 2\n",
    "else:\n",
    "    pval = 1 - (pval / 2)\n",
    "    \n",
    "print('The p-value for the online population mean being less than the face-to-face '\n",
    "      'population mean = {0:.4f}'.format(pval))\n",
    "\n",
    "# Cohen's d - example 10.5 (see discription below)\n",
    "n_x = len(data_online)\n",
    "x_bar = np.mean(data_online)\n",
    "s_x = np.std(data_online, ddof=1)\n",
    "n_y = len(data_face)\n",
    "y_bar = np.mean(data_face)\n",
    "s_y = np.std(data_face, ddof=1)\n",
    "\n",
    "s_pooled = np.sqrt((((n_x - 1) * s_x ** 2) + ((n_y - 1) * s_y ** 2)) / (n_x + n_y - 2))\n",
    "cohen_d = np.abs(x_bar - y_bar) / s_pooled\n",
    "\n",
    "print(\"The Cohen's d = {0:.3f}\".format(cohen_d))\n"
   ]
  },
  {
   "cell_type": "markdown",
   "metadata": {},
   "source": [
    "#### Cohen's d and effect size<a class=\"anchor\" id=\"cohen_d\"></a> \n",
    "\n",
    "While p-values can test for statistical signifiance in the difference of two populations, they do not report on the **effect size** or magnitude of this difference.\n",
    "\n",
    "**Cohen's d** is a common measure of effect size equal to the difference of two means divided by their pooled standard deviation. Standards for interpreting a Cohen's d are: 0.2 is small, 0.5 is medium and 0.8 is large."
   ]
  },
  {
   "cell_type": "code",
   "execution_count": 9,
   "metadata": {},
   "outputs": [],
   "source": [
    "# Examples (10.4 and 10.5) in previous section"
   ]
  },
  {
   "cell_type": "markdown",
   "metadata": {},
   "source": [
    "#### two independent population proportions<a class=\"anchor\" id=\"ind_pro\"></a> \n",
    "\n",
    "**prerequisites:**\n",
    "1. Simple random samples from two independent populations\n",
    "2. Number of success and number of failures >5 for each sample.\n",
    "3. The population sizes > 10 times the sample sizes.\n",
    "\n",
    "**the p-value:**\n",
    "1. Select the null and alternative hypothesis. For two populations A and B. Generally that the proportions are the same.<br> \n",
    "$H_0$: $p_a - p_b = 0$<br>\n",
    "$p_a = \\large\\frac{x_a}{n_a}$<br>\n",
    "$x_a =$ number of individuals meeting the condition in group A<br>\n",
    "$n_a =$ total number of individuals in group A<br>\n",
    "(likewise for group B)<br><br>\n",
    "2. Use a pooled proportion and sample number to calculate the test statistic.<br><br>\n",
    "pooled proportion: $p_c = \\large\\frac{x_a + x_b}{n_a + n_b}$<br><br>\n",
    "test statistic: z-score $= \\large\\frac{p_a - p_b}{\\sqrt{p_c (1 - p_c) (\\large\\frac{1}{n_a}+\\frac{1}{n_b}}\\normalsize)}$\n"
   ]
  },
  {
   "cell_type": "code",
   "execution_count": 10,
   "metadata": {},
   "outputs": [
    {
     "name": "stdout",
     "output_type": "stream",
     "text": [
      "The p-value for the proportion = 0.1404\n",
      "The p-value for the proportion = 0.1404 (using statsmodels module)\n"
     ]
    }
   ],
   "source": [
    "# Illowsky - Example 10.8 \n",
    "x_a = 20\n",
    "n_a = 200\n",
    "x_b = 12\n",
    "n_b = 200\n",
    "\n",
    "p_a = (x_a / n_a)\n",
    "p_b = (x_b / n_b)\n",
    "p_c = (x_a + x_b) / (n_a + n_b)  # pooled proportion\n",
    "sigma = np.sqrt(p_c * (1 - p_c) * (1 / n_a + 1 / n_b))\n",
    "z_score = (p_a - p_b) / sigma\n",
    "p_val = (stats.norm.sf(z_score) * 2)\n",
    "print('The p-value for the proportion = {0:.4f}'.format(p_val))\n",
    "\n",
    "# The statsmodels module has a function for this\n",
    "z_score, p_val = sm.stats.proportions_ztest([x_a, x_b], [n_a, n_b])\n",
    "print('The p-value for the proportion = {0:.4f} (using statsmodels module)'.format(p_val))"
   ]
  },
  {
   "cell_type": "markdown",
   "metadata": {},
   "source": [
    "### Hypothesis testing with two dependent samples<a class=\"anchor\" id=\"twosamp_dep\"></a>\n",
    "\n",
    "**prerequisites:**\n",
    "1. Simple random samples from two populations with matched pairs of samples drawn from the source.\n",
    "2. The distribution of the sample means should be normal. That is, if sample sizes are small the population distributions must be normal.\n",
    "\n",
    "**the p-value:**\n",
    "1. Generally the null hypothesis is that there is no difference between the two groups\n",
    "2. The differences of the matched pairs are used for the hypothesis test essientially making it a test for one sample where that sample is the differences.\n",
    "t-score $=\\large\\frac{\\bar{x}_d}{\\Large(\\frac{s_d}{\\sqrt{n}})}$<br>\n",
    "$\\bar{x}_d$ = the mean difference of the samples<br>\n",
    "${s_d}$ = the standard deviation of the difference of the samples<br>"
   ]
  },
  {
   "cell_type": "code",
   "execution_count": 11,
   "metadata": {},
   "outputs": [
    {
     "name": "stdout",
     "output_type": "stream",
     "text": [
      "The p-value is 0.0095\n",
      "The p-value is 0.0095 (using scipy ttest_rel)\n"
     ]
    }
   ],
   "source": [
    "# Illowsky - Example 10.11\n",
    "# left-tailed, two dependent samples\n",
    "data_before = np.array([6.6, 6.5, 9.0, 10.3, 11.3, 8.1, 6.3, 11.6])\n",
    "data_after  = np.array([6.8, 2.4, 7.4,  8.5,  8.1, 6.1, 3.4,  2.0])\n",
    "\n",
    "# Uncomment to test directionality (matters for single tail tests) \n",
    "# data_before, data_after = data_after, data_before\n",
    "\n",
    "diff = data_after - data_before\n",
    "n = len(diff)  \n",
    "x_bar = diff.mean()\n",
    "s = diff.std(ddof=1)\n",
    "t_score = x_bar / (s / np.sqrt(n))\n",
    "p_val = stats.t.cdf(t_score, n - 1)\n",
    "print('The p-value is {0:.4f}'.format(p_val))\n",
    "\n",
    "# scipy stats method ttest_rel\n",
    "t_score, p_val = stats.ttest_rel(data_after, data_before)\n",
    "# adjust of left-tailed test, h0 = after - before < 0 (after < before)\n",
    "if x_bar < 0:\n",
    "    p_val = p_val / 2   # divide p-val by two for one tailed test\n",
    "else:\n",
    "    p_val = 1 - (p_val / 2)\n",
    "print('The p-value is {0:.4f} (using scipy ttest_rel)'.format(p_val))"
   ]
  },
  {
   "cell_type": "code",
   "execution_count": 12,
   "metadata": {},
   "outputs": [
    {
     "name": "stdout",
     "output_type": "stream",
     "text": [
      "The p-value is 0.2149\n",
      "The p-value is 0.2149 (using scipy ttest_rel)\n"
     ]
    }
   ],
   "source": [
    "# Illowsky - Example 10.12 \n",
    "# right-tailed, two dependent samples\n",
    "data_before = np.array([205, 241, 338, 368])\n",
    "data_after  = np.array([295, 252, 330, 360])\n",
    "\n",
    "diff = data_after - data_before\n",
    "n = len(diff)\n",
    "x_bar = diff.mean()\n",
    "s = diff.std(ddof=1)\n",
    "t_score = x_bar / (s / np.sqrt(n))\n",
    "p_val = stats.t.sf(t_score, n - 1)\n",
    "print('The p-value is {0:.4f}'.format(p_val))\n",
    "\n",
    "t_score, p_val = stats.ttest_rel(data_after, data_before)\n",
    "# adjust of left-tailed test, h0 = after - before > 0 (after > before)\n",
    "if x_bar > 0:\n",
    "    p_val = p_val / 2\n",
    "else:\n",
    "    p_val = 1 - (p_val / 2)\n",
    "print('The p-value is {0:.4f} (using scipy ttest_rel)'.format(p_val))"
   ]
  },
  {
   "cell_type": "markdown",
   "metadata": {},
   "source": [
    "### Chi-squared test<a class=\"anchor\" id=\"chi_sq\"></a> \n",
    "\n",
    "Chi-squared hypothesis testing is used for assessing the probability of independence in categorical data. This extends to goodness-of-fit, homogeneity and single variance tests. It uses the chi-squared distribution which is the sum of k independent, squared standard normal distributions, where k equals the degrees of freedom. The resulting distribution is always greater than 0, nonsymmetric and skewed right.The formula for dof depends on the application.\n",
    "\n",
    "$\\chi^2_{df}$<br> \n",
    "$\\mu = df$<br>\n",
    "$\\sigma = \\sqrt{2 df}$"
   ]
  },
  {
   "cell_type": "markdown",
   "metadata": {},
   "source": [
    "#### Goodness-of-fit<a class=\"anchor\" id=\"chi_fit\"></a> \n",
    "\n",
    "Test to determine how well data fits a particular distribution (commonly a uniform or normal distribution). It involves a bin by bin comparison of expected vs. observed frequencies.\n",
    "\n",
    "$\\large\\sum_k \\large(\\frac{(O\\ -\\ E)^2}{E})$<br>\n",
    "O = observed<br>\n",
    "E = expected<br>\n",
    "k = number of different bins<br>\n",
    "df = k - 1<br>\n",
    "\n",
    "*note: the expected value for each bin must be at least 5*\n",
    "\n",
    "*note: the test is nearly always right tailed (since the chi-squared distribution is always positive, the probability of observing a deviation from observed equal to expected that is at least as large as the deviation seen in the data)*"
   ]
  },
  {
   "cell_type": "code",
   "execution_count": 13,
   "metadata": {},
   "outputs": [
    {
     "name": "stdout",
     "output_type": "stream",
     "text": [
      "The chi^2 p-value = 0.5578\n",
      "The chi^2 p-value = 0.5578 (using stats.chisquare method)\n"
     ]
    }
   ],
   "source": [
    "# Illowsky - Example 11.2\n",
    "#  Goodness-of-fit to uniform distribution\n",
    "obs = np.array([15, 12,  9,  9, 15])  # Oberved distribution\n",
    "\n",
    "# Note, expected value and validity check for uniform distribution\n",
    "#   could be rewriten as array to handle other distributions\n",
    "exp = np.mean(obs) # Expected distribution\n",
    "if exp < 5:\n",
    "    raise UserWarning('''The expected value < 5''')\n",
    "\n",
    "dof = len(obs) - 1\n",
    "chi2_score = sum(((obs - exp) ** 2) / exp)\n",
    "p_val = stats.chi2.sf(chi2_score, dof)\n",
    "print('The chi^2 p-value = {0:.4f}'.format(p_val))\n",
    "\n",
    "# one line scipy stats method\n",
    "#   dof defaults to k - 1, method accepts ddof argument which will set dof to k - 1 - ddof\n",
    "chi2_score, p_val = stats.chisquare(obs, exp)\n",
    "print('The chi^2 p-value = {0:.4f} (using stats.chisquare method)'.format(p_val))"
   ]
  },
  {
   "cell_type": "markdown",
   "metadata": {},
   "source": [
    "#### Independence<a class=\"anchor\" id=\"chi_ind\"></a> \n",
    "\n",
    "A chi-squared test that determines whether multiple distributions are independent. It compares the observed contingency table against an expected contingency table calculated assuming independence. \n",
    "\n",
    "$\\large\\sum_{i,\\ j}\\large(\\frac{(O\\ -\\ E)^2}{E})$<br><br>\n",
    "$O = observed$<br>\n",
    "$E = expected = \\large\\frac{row\\_total \\ \\bullet \\ column\\_total}{ total\\_surveyed}$ <br><br>\n",
    "$k = number\\_of\\_bins$<br>\n",
    "$df = (number\\_of\\_columns - 1)(number\\_of\\_rows - 1)$<br>\n",
    "\n",
    "Notes:<br>\n",
    "1. The expected value for each bin must be at least 5<br>\n",
    "2. The categories must be mutually exclusive (each individual count occurs in exactly 1 bin)\n",
    "3. Choosing categories that make sence is important and not always obvious. Compare example 11.6 and 11.6 - extended below.\n",
    "4. The chi-squared test only informs on the existance (or lack) of independence amoung the categories and not any of the details such as strength of dependence. "
   ]
  },
  {
   "cell_type": "code",
   "execution_count": 14,
   "metadata": {},
   "outputs": [
    {
     "name": "stdout",
     "output_type": "stream",
     "text": [
      "The chi^2 p-value = 0.0113\n",
      "The chi^2 p-value = 0.0113 (stats.chi2_contingency method)\n"
     ]
    }
   ],
   "source": [
    "# Illowsky - Example 11.6\n",
    "data = np.array([[111,  96,  48],\n",
    "                 [ 96, 133,  61],\n",
    "                 [ 91, 150,  53]])\n",
    "\n",
    "n_terms = data.sum()\n",
    "n_rows = len(data[:, 0])\n",
    "n_cols = len(data[0, :])\n",
    "dof = (n_rows - 1) * (n_cols - 1)\n",
    "\n",
    "expected = np.array([[(data[:, j].sum() * data[i, :].sum()) / n_terms \n",
    "                      for j in range(n_cols)] for i in range(n_rows)])\n",
    "\n",
    "chi2_score = (((data - expected) ** 2) / expected).sum()\n",
    "p_val = stats.chi2.sf(chi2_score, dof)\n",
    "print('The chi^2 p-value = {0:.4f}'.format(p_val))\n",
    "\n",
    "# scipy stats method chi2_contingency\n",
    "chi2_score, p_val, dof, expected = stats.chi2_contingency(data)\n",
    "print('The chi^2 p-value = {0:.4f} (stats.chi2_contingency method)'.format(p_val))\n",
    "\n",
    "# make sure all expected data values are >= 5\n",
    "if np.any(expected < 5):\n",
    "    raise UserWarning('''An expected data value is < 5.''')"
   ]
  },
  {
   "cell_type": "code",
   "execution_count": 15,
   "metadata": {},
   "outputs": [
    {
     "name": "stdout",
     "output_type": "stream",
     "text": [
      "The chi^2 p-value = 0.0851\n",
      "The chi^2 p-value = 0.0851 (stats.chi2_contingency method)\n"
     ]
    }
   ],
   "source": [
    "# Illowsky - Example 11.6 - extended\n",
    "#   Having selected groups so the second was split into 3 similar groups\n",
    "#   might have changed statistical significance\n",
    "data = np.array([[111,  96,  48],\n",
    "                 [ 29,  38,  19],\n",
    "                 [ 31,  43,  20],\n",
    "                 [ 33,  52,  22],\n",
    "                 [ 91, 150,  53]])\n",
    "\n",
    "n_terms = data.sum()\n",
    "n_rows = len(data[:, 0])\n",
    "n_cols = len(data[0, :])\n",
    "dof = (n_rows - 1) * (n_cols - 1)\n",
    "\n",
    "expected = np.array([[(data[:, j].sum() * data[i, :].sum()) / n_terms \n",
    "                      for j in range(n_cols)] for i in range(n_rows)])\n",
    "\n",
    "chi2_score = (((data - expected) ** 2) / expected).sum()\n",
    "p_val = stats.chi2.sf(chi2_score, dof)\n",
    "print('The chi^2 p-value = {0:.4f}'.format(p_val))\n",
    "\n",
    "# scipy stats method chi2_contingency\n",
    "chi2_score, p_val, dof, expected = stats.chi2_contingency(data)\n",
    "print('The chi^2 p-value = {0:.4f} (stats.chi2_contingency method)'.format(p_val))\n",
    "\n",
    "# make sure all expected data values are >= 5\n",
    "if np.any(expected < 5):\n",
    "    raise UserWarning('''An expected data value is < 5.''')"
   ]
  },
  {
   "cell_type": "markdown",
   "metadata": {},
   "source": [
    "#### Homogeneity<a class=\"anchor\" id=\"chi_homo\"></a> \n",
    "\n",
    "A chi-squared test that determines the probability that two populations have the same, unknown, distribution. It follow the same proceedure as the test for [independence](#chi_ind). The contingency table always has two rows, one for each distribution, making the dof = number of columns."
   ]
  },
  {
   "cell_type": "code",
   "execution_count": 16,
   "metadata": {},
   "outputs": [
    {
     "name": "stdout",
     "output_type": "stream",
     "text": [
      "The chi^2 p-value = 0.0175\n",
      "The chi^2 p-value = 0.0175 (stats.chi2_contingency method)\n"
     ]
    }
   ],
   "source": [
    "# Illowsky - Example 11.8\n",
    "data = np.array([[72, 84, 49, 45],\n",
    "                 [91, 86, 88, 35]])\n",
    "\n",
    "n_terms = data.sum()\n",
    "n_cols = len(data[0, :])\n",
    "dof = n_cols - 1\n",
    "\n",
    "expected = np.array([[(data[:,i].sum() * data[j,:].sum()) / n_terms \n",
    "                      for i in range(n_cols)] for j in range(2)])\n",
    "\n",
    "chi2_score = (((data - expected) ** 2) / expected).sum()\n",
    "p_val = stats.chi2.sf(chi2_score, dof)\n",
    "print('The chi^2 p-value = {0:.4f}'.format(p_val))\n",
    "\n",
    "# scipy stats method chi2_contingency\n",
    "chi2_score, p_val, dof, expected = stats.chi2_contingency(data)\n",
    "print('The chi^2 p-value = {0:.4f} (stats.chi2_contingency method)'.format(p_val))\n",
    "\n",
    "# make sure all expected data values are >= 5\n",
    "if np.any(expected < 5):\n",
    "    raise UserWarning('''An expected data value is < 5.''')"
   ]
  },
  {
   "cell_type": "markdown",
   "metadata": {},
   "source": [
    "#### Test of a single variance<a class=\"anchor\" id=\"chi_var\"></a> \n",
    "\n",
    "A chi-squared test that determines whther the population variance is different than a hypothesized value. Unlike other common chi-squared tests mentioned above, it is not for categorical and the choice of tail (left-, right- or two-tailed) varies with the hypothesis.<br><br>\n",
    "$\\large\\frac{(n-1)\\ s^2}{\\sigma^2}$<br><br>\n",
    "$n$ = number of data points<br>\n",
    "$s^2$ = sample variance<br>\n",
    "$\\sigma^2$ = population variance (hypothesized value)<br>\n",
    "$dof$ = n - 1<br>\n",
    "\n",
    "Note: Assumes that the underlying distribution is normal."
   ]
  },
  {
   "cell_type": "code",
   "execution_count": 17,
   "metadata": {},
   "outputs": [
    {
     "name": "stdout",
     "output_type": "stream",
     "text": [
      "For n = 25, s = 3.5 and hypothesized sigma = 7.2, the p-value = 0.00004213\n"
     ]
    }
   ],
   "source": [
    "# Illowsky - Example 11.11\n",
    "#   left tailed - H0: s^2 < sigma*2\n",
    "n = 25\n",
    "s = 3.5\n",
    "h = 7.2\n",
    "\n",
    "dof = n - 1\n",
    "chi_stat = ((n - 1) * s ** 2) / h ** 2\n",
    "p_val = stats.chi2.cdf(chi_stat, dof)  # left tailed\n",
    "\n",
    "print('For n = {0}, s = {1} and hypothesized sigma = {2}, the p-value = {3:.8f}'\\\n",
    "      .format(n, s, h, p_val))"
   ]
  },
  {
   "cell_type": "code",
   "execution_count": 18,
   "metadata": {},
   "outputs": [
    {
     "name": "stdout",
     "output_type": "stream",
     "text": [
      "For n = 25, s = 7.2 and hypothesized sigma = 3.5, the p-value = 0.0000000000162362\n"
     ]
    }
   ],
   "source": [
    "# Illowsky - Example 11.11\n",
    "#   right tailed - H0: s^2 < sigma*2\n",
    "n = 25\n",
    "s = 7.2\n",
    "h = 3.5\n",
    "\n",
    "dof = n - 1\n",
    "chi_stat = ((n - 1) * s ** 2) / h ** 2\n",
    "p_val = stats.chi2.sf(chi_stat, dof)  # right tailed\n",
    "\n",
    "print('For n = {0}, s = {1} and hypothesized sigma = {2}, the p-value = {3:.16f}'\\\n",
    "      .format(n, s, h, p_val))"
   ]
  },
  {
   "cell_type": "markdown",
   "metadata": {},
   "source": [
    "### Test for correlation coefficient significance\n",
    "Tests null hypothesis that the population correlation coefficient is 0"
   ]
  },
  {
   "cell_type": "code",
   "execution_count": 19,
   "metadata": {},
   "outputs": [
    {
     "name": "stdout",
     "output_type": "stream",
     "text": [
      "r = 0.6631, r^2 = 0.4397, p_val = 0.0262\n"
     ]
    }
   ],
   "source": [
    "x = [ 65,  67,  71,  71,  66,  75,  67,  70,  71,  69,  69]\n",
    "y = [175, 133, 185, 163, 126, 198, 153, 163, 159, 151, 159]\n",
    "\n",
    "r, p_val = stats.pearsonr(x, y)\n",
    "print('r = {0:.4f}, r^2 = {1:.4f}, p_val = {2:.4f}'.format(r, r ** 2, p_val))"
   ]
  },
  {
   "cell_type": "markdown",
   "metadata": {},
   "source": [
    "### ANOVA<a class=\"anchor\" id=\"anova\"></a>\n",
    "\n",
    "Analysis of variance (ANOVA) is a hypothesis test to determine whether a statistically significant difference existis amoung several population means. The null hypothesis is that all groups are drawn from populations with the same mean.\n"
   ]
  },
  {
   "cell_type": "markdown",
   "metadata": {},
   "source": [
    "#### One-way ANOVA<a class=\"anchor\" id=\"oneway\"></a>\n",
    "\n",
    "One-way, or single-factor ANOVA, tests the dependence of a continuous output variable on a single categorical input variable. It does this by comparing the ratio of systematic variance (between categories) to unsystematic variance (within categories). It can be seen as a regression model with a single categorical predictor.\n",
    "\n",
    "Assumptions:<br>\n",
    "1) Each population from which a sample is taken is normal<br>\n",
    "2) All samples are randomly selected and independent<br>\n",
    "3) The populations have equal standard deviations (homogeneity of variance)<br>\n",
    "4) The single factor is a categorical variable<br>\n",
    "5) The response is a numerical variable on an interval or ratio scale<br>\n",
    "\n",
    "Calculation:<br>\n",
    "1) A p-value is calculated using an f-distribution.<br>\n",
    "2) An f-ratio, the test statistic, is a the variance of the sample means and the mean of the sample variances (see text or code below for calculation details).<br>\n",
    "3) It has two sets of degrees of freedom; one for the numerator (dfn = k - 1) and one for the denominator (dfd = n - k).<br>\n",
    "\n",
    "> $F = \\large\\frac{MS_{between}}{MS_{within}}$<br>\n",
    "$MS_{between}$ = mean square variance between groups<br>\n",
    "$MS_{within}$ = mean square variance within groups<br>\n",
    "dfn = degrees of freedom in $MS_{between} = k - 1$<br>\n",
    "dfd = degrees of freedom in $MS_{within} = n - k$<br>\n",
    "k = number of groups<br>\n",
    "n = total number of samples<br>"
   ]
  },
  {
   "cell_type": "code",
   "execution_count": 20,
   "metadata": {},
   "outputs": [
    {
     "name": "stdout",
     "output_type": "stream",
     "text": [
      "The p-value = 0.6991\n",
      "The p-value = 0.6991 (using SciPy method)\n"
     ]
    }
   ],
   "source": [
    "# Illowsky 13.1\n",
    "#  one-way ANOVA\n",
    "data = ([[5, 4.5, 4, 3],\n",
    "         [3.5, 7, 4.5],\n",
    "         [8, 4, 3.5]])\n",
    "\n",
    "n = sum([len(row) for row in data])\n",
    "k = len(data)\n",
    "\n",
    "ss_between = (sum([sum(row) ** 2 / len(row) for row in data]) - \n",
    "              sum([sum(row) for row in data]) ** 2 / n)\n",
    "\n",
    "ss_total = (sum([value ** 2 for row in data for value in row]) - \n",
    "           sum(value for row in data for value in row) ** 2 / n)\n",
    "\n",
    "ss_within = ss_total - ss_between\n",
    "\n",
    "f_ratio = (ss_between / (k - 1)) / (ss_within / (n - k))\n",
    "p_val = stats.f.sf(f_ratio, (k - 1), (n - k))  # always right-tailed \n",
    "print('The p-value = {0:.4f}'.format(p_val))\n",
    "\n",
    "# SciPy method\n",
    "f_score, p_val = stats.f_oneway(*data)\n",
    "print('The p-value = {0:.4f} (using SciPy method)'.format(p_val))"
   ]
  },
  {
   "cell_type": "code",
   "execution_count": 21,
   "metadata": {},
   "outputs": [
    {
     "name": "stdout",
     "output_type": "stream",
     "text": [
      "The p-value = 0.1241 (using SciPy method)\n"
     ]
    }
   ],
   "source": [
    "# Illowsky - Example 13.3\n",
    "#  one-way ANOVA - data grouped by column - scipy method\n",
    "data = np.array([[2.17, 2.63, 2.63, 3.79],\n",
    "                 [1.85, 1.77, 3.78, 3.45],\n",
    "                 [2.83, 3.25, 4.00, 3.08],\n",
    "                 [1.69, 1.86, 2.55, 2.26],\n",
    "                 [3.33, 2.21, 2.45, 3.18]])\n",
    "data = data.transpose() # Data given with groups as columns\n",
    "f_score, p_val = stats.f_oneway(*data)\n",
    "print('The p-value = {0:.4f} (using SciPy method)'.format(p_val))"
   ]
  },
  {
   "cell_type": "code",
   "execution_count": 34,
   "metadata": {},
   "outputs": [
    {
     "data": {
      "text/html": [
       "<div>\n",
       "<style scoped>\n",
       "    .dataframe tbody tr th:only-of-type {\n",
       "        vertical-align: middle;\n",
       "    }\n",
       "\n",
       "    .dataframe tbody tr th {\n",
       "        vertical-align: top;\n",
       "    }\n",
       "\n",
       "    .dataframe thead th {\n",
       "        text-align: right;\n",
       "    }\n",
       "</style>\n",
       "<table border=\"1\" class=\"dataframe\">\n",
       "  <thead>\n",
       "    <tr style=\"text-align: right;\">\n",
       "      <th></th>\n",
       "      <th>weight</th>\n",
       "      <th>group</th>\n",
       "    </tr>\n",
       "  </thead>\n",
       "  <tbody>\n",
       "    <tr>\n",
       "      <th>1</th>\n",
       "      <td>4.17</td>\n",
       "      <td>ctrl</td>\n",
       "    </tr>\n",
       "    <tr>\n",
       "      <th>2</th>\n",
       "      <td>5.58</td>\n",
       "      <td>ctrl</td>\n",
       "    </tr>\n",
       "    <tr>\n",
       "      <th>3</th>\n",
       "      <td>5.18</td>\n",
       "      <td>ctrl</td>\n",
       "    </tr>\n",
       "    <tr>\n",
       "      <th>28</th>\n",
       "      <td>6.15</td>\n",
       "      <td>trt2</td>\n",
       "    </tr>\n",
       "    <tr>\n",
       "      <th>29</th>\n",
       "      <td>5.80</td>\n",
       "      <td>trt2</td>\n",
       "    </tr>\n",
       "    <tr>\n",
       "      <th>30</th>\n",
       "      <td>5.26</td>\n",
       "      <td>trt2</td>\n",
       "    </tr>\n",
       "  </tbody>\n",
       "</table>\n",
       "</div>"
      ],
      "text/plain": [
       "    weight group\n",
       "1     4.17  ctrl\n",
       "2     5.58  ctrl\n",
       "3     5.18  ctrl\n",
       "28    6.15  trt2\n",
       "29    5.80  trt2\n",
       "30    5.26  trt2"
      ]
     },
     "execution_count": 34,
     "metadata": {},
     "output_type": "execute_result"
    }
   ],
   "source": [
    "# Marsja - plantgrowth example\n",
    "data = pd.read_csv('data/PlantGrowth.csv', index_col=0)\n",
    "data.iloc[np.r_[:3, -3:0]] "
   ]
  },
  {
   "cell_type": "code",
   "execution_count": 35,
   "metadata": {},
   "outputs": [
    {
     "data": {
      "image/png": "[encoded data removed]",
      "text/plain": [
       "<matplotlib.figure.Figure at 0x7fc7d8c1ca58>"
      ]
     },
     "metadata": {},
     "output_type": "display_data"
    }
   ],
   "source": [
    "# Data exploration - boxplot\n",
    "data.boxplot('weight', by='group', figsize=(8, 5))\n",
    "plt.show()\n",
    "plt.close()"
   ]
  },
  {
   "cell_type": "code",
   "execution_count": 36,
   "metadata": {},
   "outputs": [
    {
     "name": "stdout",
     "output_type": "stream",
     "text": [
      "The p-value = 0.0159 (using SciPy method)\n"
     ]
    }
   ],
   "source": [
    "# Using SciPy method\n",
    "#  simple, but doesn't give effect sizes\n",
    "grps = pd.unique(data.group.values)\n",
    "d_data = {grp:data['weight'][data.group == grp] for grp in grps}\n",
    "f_score, p_val = stats.f_oneway(d_data['ctrl'], d_data['trt1'], d_data['trt2'])\n",
    "print('The p-value = {0:.4f} (using SciPy method)'.format(p_val))"
   ]
  },
  {
   "cell_type": "code",
   "execution_count": 39,
   "metadata": {},
   "outputs": [
    {
     "data": {
      "text/html": [
       "<div>\n",
       "<style scoped>\n",
       "    .dataframe tbody tr th:only-of-type {\n",
       "        vertical-align: middle;\n",
       "    }\n",
       "\n",
       "    .dataframe tbody tr th {\n",
       "        vertical-align: top;\n",
       "    }\n",
       "\n",
       "    .dataframe thead th {\n",
       "        text-align: right;\n",
       "    }\n",
       "</style>\n",
       "<table border=\"1\" class=\"dataframe\">\n",
       "  <thead>\n",
       "    <tr style=\"text-align: right;\">\n",
       "      <th></th>\n",
       "      <th>sum_sq</th>\n",
       "      <th>df</th>\n",
       "      <th>F</th>\n",
       "      <th>PR(&gt;F)</th>\n",
       "      <th>eta_sq</th>\n",
       "      <th>omega_sq</th>\n",
       "    </tr>\n",
       "  </thead>\n",
       "  <tbody>\n",
       "    <tr>\n",
       "      <th>group</th>\n",
       "      <td>3.7663</td>\n",
       "      <td>2.0</td>\n",
       "      <td>4.8461</td>\n",
       "      <td>0.0159</td>\n",
       "      <td>0.2641</td>\n",
       "      <td>0.2041</td>\n",
       "    </tr>\n",
       "    <tr>\n",
       "      <th>Residual</th>\n",
       "      <td>10.4921</td>\n",
       "      <td>27.0</td>\n",
       "      <td>NaN</td>\n",
       "      <td>NaN</td>\n",
       "      <td>NaN</td>\n",
       "      <td>NaN</td>\n",
       "    </tr>\n",
       "  </tbody>\n",
       "</table>\n",
       "</div>"
      ],
      "text/plain": [
       "           sum_sq    df       F  PR(>F)  eta_sq  omega_sq\n",
       "group      3.7663   2.0  4.8461  0.0159  0.2641    0.2041\n",
       "Residual  10.4921  27.0     NaN     NaN     NaN       NaN"
      ]
     },
     "execution_count": 39,
     "metadata": {},
     "output_type": "execute_result"
    }
   ],
   "source": [
    "# Using Statsmodules\n",
    "model = smf.ols('weight ~ group', data=data).fit()\n",
    "aov_table = sm.stats.anova_lm(model, typ=2)\n",
    "\n",
    "# Effect size\n",
    "def eta_squared(aov):\n",
    "    aov['eta_sq'] = 'NaN'\n",
    "    aov['eta_sq'] = aov[:-1]['sum_sq']/sum(aov['sum_sq'])\n",
    "    return aov\n",
    " \n",
    "def omega_squared(aov):\n",
    "    mse = aov['sum_sq'][-1] / aov['df'][-1]\n",
    "    aov['omega_sq'] = 'NaN'\n",
    "    aov['omega_sq'] = ((aov[:-1]['sum_sq'] - (aov[:-1]['df']*mse)) / \n",
    "                       (sum(aov['sum_sq']) + mse))\n",
    "    return aov\n",
    " \n",
    "eta_squared(aov_table)\n",
    "omega_squared(aov_table)\n",
    "\n",
    "# ANOVA Table w/ effectsize\n",
    "aov_table.astype(float).round(4)"
   ]
  },
  {
   "cell_type": "markdown",
   "metadata": {},
   "source": [
    "#### Two-way ANOVA<a class=\"anchor\" id=\"twoway\"></a>\n",
    "\n",
    "Two-way, or two-factor ANOVA, tests the dependence of a continuous output variable on two categorical input variables (one-way ANOVA done twice) and on any interaction between those input variables (the additional information provided by not just doing one-way ANOVA twice).\n",
    "\n",
    "The process is similar, but $MS_between$ the mean square varience between groups is spilt into group A, group B and a term for the interaction between A and B. Also, it has the additional restriction that the number of observations in each cell of the contingency table must be balanced (equal)."
   ]
  },
  {
   "cell_type": "code",
   "execution_count": 26,
   "metadata": {},
   "outputs": [
    {
     "data": {
      "text/html": [
       "<div>\n",
       "<style scoped>\n",
       "    .dataframe tbody tr th:only-of-type {\n",
       "        vertical-align: middle;\n",
       "    }\n",
       "\n",
       "    .dataframe tbody tr th {\n",
       "        vertical-align: top;\n",
       "    }\n",
       "\n",
       "    .dataframe thead th {\n",
       "        text-align: right;\n",
       "    }\n",
       "</style>\n",
       "<table border=\"1\" class=\"dataframe\">\n",
       "  <thead>\n",
       "    <tr style=\"text-align: right;\">\n",
       "      <th></th>\n",
       "      <th>Unnamed: 0</th>\n",
       "      <th>len</th>\n",
       "      <th>supp</th>\n",
       "      <th>dose</th>\n",
       "    </tr>\n",
       "  </thead>\n",
       "  <tbody>\n",
       "    <tr>\n",
       "      <th>0</th>\n",
       "      <td>1</td>\n",
       "      <td>4.2</td>\n",
       "      <td>VC</td>\n",
       "      <td>0.5</td>\n",
       "    </tr>\n",
       "    <tr>\n",
       "      <th>1</th>\n",
       "      <td>2</td>\n",
       "      <td>11.5</td>\n",
       "      <td>VC</td>\n",
       "      <td>0.5</td>\n",
       "    </tr>\n",
       "    <tr>\n",
       "      <th>2</th>\n",
       "      <td>3</td>\n",
       "      <td>7.3</td>\n",
       "      <td>VC</td>\n",
       "      <td>0.5</td>\n",
       "    </tr>\n",
       "    <tr>\n",
       "      <th>57</th>\n",
       "      <td>58</td>\n",
       "      <td>27.3</td>\n",
       "      <td>OJ</td>\n",
       "      <td>2.0</td>\n",
       "    </tr>\n",
       "    <tr>\n",
       "      <th>58</th>\n",
       "      <td>59</td>\n",
       "      <td>29.4</td>\n",
       "      <td>OJ</td>\n",
       "      <td>2.0</td>\n",
       "    </tr>\n",
       "    <tr>\n",
       "      <th>59</th>\n",
       "      <td>60</td>\n",
       "      <td>23.0</td>\n",
       "      <td>OJ</td>\n",
       "      <td>2.0</td>\n",
       "    </tr>\n",
       "  </tbody>\n",
       "</table>\n",
       "</div>"
      ],
      "text/plain": [
       "    Unnamed: 0   len supp  dose\n",
       "0            1   4.2   VC   0.5\n",
       "1            2  11.5   VC   0.5\n",
       "2            3   7.3   VC   0.5\n",
       "57          58  27.3   OJ   2.0\n",
       "58          59  29.4   OJ   2.0\n",
       "59          60  23.0   OJ   2.0"
      ]
     },
     "execution_count": 26,
     "metadata": {},
     "output_type": "execute_result"
    }
   ],
   "source": [
    "# Marsja - Two-way ANOVA example\n",
    "#   load data\n",
    "data = pd.read_csv('data/ToothGrowth.csv')\n",
    "data.iloc[np.r_[:3, -3:0]]  # Show top and bottom of data frame"
   ]
  },
  {
   "cell_type": "code",
   "execution_count": 27,
   "metadata": {},
   "outputs": [
    {
     "data": {
      "image/png": "[encoded data removed]",
      "text/plain": [
       "<matplotlib.figure.Figure at 0x7fc7e0355208>"
      ]
     },
     "metadata": {},
     "output_type": "display_data"
    }
   ],
   "source": [
    "#   Data exploration - statsmodels interaction plot\n",
    "#     simplifies plotting of factors from pandas dataframe\n",
    "#     points are averages by factor grouped by trace\n",
    "from statsmodels.graphics.factorplots import interaction_plot\n",
    "fig = interaction_plot(data.dose, data.supp, data.len,\n",
    "             colors=['red','blue'], markers=['D','^'], ms='10')\n",
    "plt.show()\n",
    "plt.close()"
   ]
  },
  {
   "cell_type": "code",
   "execution_count": 28,
   "metadata": {},
   "outputs": [
    {
     "data": {
      "image/png": "[encoded data removed]",
      "text/plain": [
       "<matplotlib.figure.Figure at 0x7fc7e02897f0>"
      ]
     },
     "metadata": {},
     "output_type": "display_data"
    },
    {
     "data": {
      "image/png": "[encoded data removed]",
      "text/plain": [
       "<matplotlib.figure.Figure at 0x7fc7e029f588>"
      ]
     },
     "metadata": {},
     "output_type": "display_data"
    }
   ],
   "source": [
    "#  Data exploration - violin plots\n",
    "from statsmodels.graphics.boxplots import violinplot\n",
    "\n",
    "for supp in data.loc[:, 'supp'].unique():\n",
    "    supp_data = data.loc[data.loc[:, 'supp'] == supp]\n",
    "    positions = supp_data.loc[:, 'dose'].unique()\n",
    "    plot_data = []\n",
    "    for position in positions:\n",
    "        plot_data.append(supp_data.loc[supp_data.loc[:, 'dose'] == position, 'len'])\n",
    "    fig = violinplot([*plot_data], positions=positions)\n",
    "    plt.title('supp = {0}'.format(supp))\n",
    "    \n",
    "plt.show()\n",
    "plt.close()"
   ]
  },
  {
   "cell_type": "code",
   "execution_count": 29,
   "metadata": {},
   "outputs": [
    {
     "data": {
      "text/html": [
       "<div>\n",
       "<style scoped>\n",
       "    .dataframe tbody tr th:only-of-type {\n",
       "        vertical-align: middle;\n",
       "    }\n",
       "\n",
       "    .dataframe tbody tr th {\n",
       "        vertical-align: top;\n",
       "    }\n",
       "\n",
       "    .dataframe thead th {\n",
       "        text-align: right;\n",
       "    }\n",
       "</style>\n",
       "<table border=\"1\" class=\"dataframe\">\n",
       "  <thead>\n",
       "    <tr style=\"text-align: right;\">\n",
       "      <th></th>\n",
       "      <th>sum_sq</th>\n",
       "      <th>df</th>\n",
       "      <th>F</th>\n",
       "      <th>PR(&gt;F)</th>\n",
       "      <th>eta_sq</th>\n",
       "      <th>omega_sq</th>\n",
       "    </tr>\n",
       "  </thead>\n",
       "  <tbody>\n",
       "    <tr>\n",
       "      <th>supp</th>\n",
       "      <td>205.35</td>\n",
       "      <td>1.0</td>\n",
       "      <td>15.572</td>\n",
       "      <td>0.0002</td>\n",
       "      <td>0.06</td>\n",
       "      <td>0.06</td>\n",
       "    </tr>\n",
       "    <tr>\n",
       "      <th>dose</th>\n",
       "      <td>2426.43</td>\n",
       "      <td>2.0</td>\n",
       "      <td>92.000</td>\n",
       "      <td>0.0000</td>\n",
       "      <td>0.70</td>\n",
       "      <td>0.69</td>\n",
       "    </tr>\n",
       "    <tr>\n",
       "      <th>supp:dose</th>\n",
       "      <td>108.32</td>\n",
       "      <td>2.0</td>\n",
       "      <td>4.107</td>\n",
       "      <td>0.0219</td>\n",
       "      <td>0.03</td>\n",
       "      <td>0.02</td>\n",
       "    </tr>\n",
       "    <tr>\n",
       "      <th>Residual</th>\n",
       "      <td>712.11</td>\n",
       "      <td>54.0</td>\n",
       "      <td>NaN</td>\n",
       "      <td>NaN</td>\n",
       "      <td>NaN</td>\n",
       "      <td>NaN</td>\n",
       "    </tr>\n",
       "  </tbody>\n",
       "</table>\n",
       "</div>"
      ],
      "text/plain": [
       "            sum_sq    df       F  PR(>F)  eta_sq  omega_sq\n",
       "supp        205.35   1.0  15.572  0.0002    0.06      0.06\n",
       "dose       2426.43   2.0  92.000  0.0000    0.70      0.69\n",
       "supp:dose   108.32   2.0   4.107  0.0219    0.03      0.02\n",
       "Residual    712.11  54.0     NaN     NaN     NaN       NaN"
      ]
     },
     "execution_count": 29,
     "metadata": {},
     "output_type": "execute_result"
    }
   ],
   "source": [
    "# Two-way ANOVA using SciPy and Pandas\n",
    "n = len(data.len)\n",
    "\n",
    "# degrees of freedom\n",
    "df_a = len(data.supp.unique()) - 1  \n",
    "df_b = len(data.dose.unique()) - 1\n",
    "df_axb = df_a * df_b\n",
    "df_w = n - (len(data.supp.unique()) * len(data.dose.unique()))\n",
    "\n",
    "# sums of squares\n",
    "grand_mean = data['len'].mean()\n",
    "ssq_a = sum([(data[data.supp == supp].len.mean() - grand_mean) ** 2 \n",
    "             for supp in data.supp])\n",
    "ssq_b = sum([(data[data.dose == dose].len.mean() - grand_mean) ** 2\n",
    "             for dose in data.dose])\n",
    "ssq_t = sum((data.len - grand_mean) ** 2)\n",
    "\n",
    "vc = data[data.supp == 'VC']\n",
    "oj = data[data.supp == 'OJ']\n",
    "vc_dose_means = [vc[vc.dose == dose].len.mean() for dose in vc.dose]\n",
    "oj_dose_means = [oj[oj.dose == dose].len.mean() for dose in oj.dose]\n",
    "ssq_w = sum((oj.len - oj_dose_means) ** 2) + sum((vc.len - vc_dose_means) ** 2)\n",
    "\n",
    "ssq_axb = ssq_t - ssq_a - ssq_b - ssq_w\n",
    "\n",
    "# mean squares\n",
    "ms_a = ssq_a / df_a\n",
    "ms_b = ssq_b / df_b\n",
    "ms_axb = ssq_axb / df_axb\n",
    "ms_w = ssq_w / df_w\n",
    "\n",
    "# f-ratio\n",
    "f_a = ms_a / ms_w\n",
    "f_b = ms_b / ms_w\n",
    "f_axb = ms_axb / ms_w\n",
    "\n",
    "# p-values\n",
    "p_a = stats.f.sf(f_a, df_a, df_w)\n",
    "p_b = stats.f.sf(f_b, df_b, df_w)\n",
    "p_axb = stats.f.sf(f_axb, df_axb, df_w)\n",
    "\n",
    "# ANOVA table\n",
    "results = {'sum_sq':[ssq_a, ssq_b, ssq_axb, ssq_w],\n",
    "           'df':[df_a, df_b, df_axb, df_w],\n",
    "           'F':[f_a, f_b, f_axb, 'NaN'],\n",
    "           'PR(>F)':[p_a, p_b, p_axb, 'NaN']}\n",
    "columns=['sum_sq', 'df', 'F', 'PR(>F)']\n",
    "index=['supp', 'dose', 'supp:dose', 'Residual']\n",
    "aov_table1 = pd.DataFrame(results, columns=columns, index=index)\n",
    "\n",
    "# Effect size\n",
    "def eta_squared(aov):\n",
    "    aov['eta_sq'] = 'NaN'\n",
    "    aov['eta_sq'] = aov[:-1]['sum_sq']/sum(aov['sum_sq'])\n",
    "    return aov\n",
    " \n",
    "def omega_squared(aov):\n",
    "    mse = aov['sum_sq'][-1] / aov['df'][-1]\n",
    "    aov['omega_sq'] = 'NaN'\n",
    "    aov['omega_sq'] = ((aov[:-1]['sum_sq'] - (aov[:-1]['df']*mse)) / \n",
    "                       (sum(aov['sum_sq']) + mse))\n",
    "    return aov\n",
    " \n",
    "eta_squared(aov_table1)\n",
    "omega_squared(aov_table1)\n",
    "\n",
    "# ANOVA Table w/ effectsize\n",
    "aov_table1.astype(float).round({'sum_sq':2, 'F':4, 'PR(>F)':4, \n",
    "                                'eta_sq':2, 'omega_sq':2})"
   ]
  },
  {
   "cell_type": "code",
   "execution_count": 30,
   "metadata": {},
   "outputs": [
    {
     "data": {
      "text/html": [
       "<div>\n",
       "<style scoped>\n",
       "    .dataframe tbody tr th:only-of-type {\n",
       "        vertical-align: middle;\n",
       "    }\n",
       "\n",
       "    .dataframe tbody tr th {\n",
       "        vertical-align: top;\n",
       "    }\n",
       "\n",
       "    .dataframe thead th {\n",
       "        text-align: right;\n",
       "    }\n",
       "</style>\n",
       "<table border=\"1\" class=\"dataframe\">\n",
       "  <thead>\n",
       "    <tr style=\"text-align: right;\">\n",
       "      <th></th>\n",
       "      <th>sum_sq</th>\n",
       "      <th>df</th>\n",
       "      <th>F</th>\n",
       "      <th>PR(&gt;F)</th>\n",
       "      <th>eta_sq</th>\n",
       "      <th>omega_sq</th>\n",
       "    </tr>\n",
       "  </thead>\n",
       "  <tbody>\n",
       "    <tr>\n",
       "      <th>supp</th>\n",
       "      <td>205.35</td>\n",
       "      <td>1.0</td>\n",
       "      <td>15.572</td>\n",
       "      <td>0.0002</td>\n",
       "      <td>0.06</td>\n",
       "      <td>0.06</td>\n",
       "    </tr>\n",
       "    <tr>\n",
       "      <th>dose</th>\n",
       "      <td>2426.43</td>\n",
       "      <td>2.0</td>\n",
       "      <td>92.000</td>\n",
       "      <td>0.0000</td>\n",
       "      <td>0.70</td>\n",
       "      <td>0.69</td>\n",
       "    </tr>\n",
       "    <tr>\n",
       "      <th>supp:dose</th>\n",
       "      <td>108.32</td>\n",
       "      <td>2.0</td>\n",
       "      <td>4.107</td>\n",
       "      <td>0.0219</td>\n",
       "      <td>0.03</td>\n",
       "      <td>0.02</td>\n",
       "    </tr>\n",
       "    <tr>\n",
       "      <th>Residual</th>\n",
       "      <td>712.11</td>\n",
       "      <td>54.0</td>\n",
       "      <td>NaN</td>\n",
       "      <td>NaN</td>\n",
       "      <td>NaN</td>\n",
       "      <td>NaN</td>\n",
       "    </tr>\n",
       "  </tbody>\n",
       "</table>\n",
       "</div>"
      ],
      "text/plain": [
       "            sum_sq    df       F  PR(>F)  eta_sq  omega_sq\n",
       "supp        205.35   1.0  15.572  0.0002    0.06      0.06\n",
       "dose       2426.43   2.0  92.000  0.0000    0.70      0.69\n",
       "supp:dose   108.32   2.0   4.107  0.0219    0.03      0.02\n",
       "Residual    712.11  54.0     NaN     NaN     NaN       NaN"
      ]
     },
     "execution_count": 30,
     "metadata": {},
     "output_type": "execute_result"
    }
   ],
   "source": [
    "# Using statsmodels with statsmodels.formula\n",
    "formula = 'len ~ C(supp) + C(dose) + C(supp):C(dose)'\n",
    "model = smf.ols(formula, data).fit()\n",
    "aov_table = sm.stats.anova_lm(model, typ=2)\n",
    "\n",
    "# Effect size\n",
    "def eta_squared(aov):\n",
    "    aov['eta_sq'] = 'NaN'\n",
    "    aov['eta_sq'] = aov[:-1]['sum_sq']/sum(aov['sum_sq'])\n",
    "    return aov\n",
    " \n",
    "def omega_squared(aov):\n",
    "    mse = aov['sum_sq'][-1]/aov['df'][-1]\n",
    "    aov['omega_sq'] = 'NaN'\n",
    "    aov['omega_sq'] = (aov[:-1]['sum_sq']-(aov[:-1]['df']*mse))/(sum(aov['sum_sq'])+mse)\n",
    "    return aov\n",
    "\n",
    "eta_squared(aov_table)\n",
    "omega_squared(aov_table)\n",
    "\n",
    "aov_table1.astype(float).round({'sum_sq':2, 'F':4, 'PR(>F)':4, \n",
    "                                'eta_sq':2, 'omega_sq':2})"
   ]
  },
  {
   "cell_type": "code",
   "execution_count": 31,
   "metadata": {},
   "outputs": [
    {
     "data": {
      "image/png": "[encoded data removed]",
      "text/plain": [
       "<matplotlib.figure.Figure at 0x7fc7d8f8cd30>"
      ]
     },
     "metadata": {},
     "output_type": "display_data"
    }
   ],
   "source": [
    "# Q-Q plot\n",
    "res = model.resid \n",
    "fig = sm.qqplot(res, line='s')\n",
    "plt.show()"
   ]
  },
  {
   "cell_type": "markdown",
   "metadata": {},
   "source": [
    "\\# using pyvttbl<br>\n",
    "*Marsja also demonstrates a simpler, more informative method using the pyvttbl module. Unfortunately, pyvttbl is incompatable with Python3 and no longer actively maintained.*"
   ]
  },
  {
   "cell_type": "markdown",
   "metadata": {},
   "source": [
    "#### Test of two variances<a class=\"anchor\" id=\"twovar\"></a>\n",
    "\n",
    "The f-distribution is also used in the hypothesis test for two sample variances. The test assumes the populations are normally distributed and independent and is very sensitive to deviations from normality.\n",
    "\n",
    "$F = \\Large\\frac{(s_1)^2}{(s_2)^2}$<br><br>\n",
    "where $(s_1)^2$ and $(s_2)^2$ are the sample variances<br>\n",
    "and the dof for the f-distribution are dfn = $n_1 - 1$ and dfd = $n_2 - 1$<br>"
   ]
  },
  {
   "cell_type": "code",
   "execution_count": 32,
   "metadata": {},
   "outputs": [
    {
     "name": "stdout",
     "output_type": "stream",
     "text": [
      "The p-value = 0.0753\n",
      "The p-value = 0.0753\n"
     ]
    }
   ],
   "source": [
    "# Illowsky 13.5\n",
    "#  null hypothesis: s1 >= s2\n",
    "#  alternative hypothesis: s1 < s2  # left-tailed test\n",
    "n1 = 30\n",
    "n2 = 30\n",
    "s1 = 52.3\n",
    "s2 = 89.9\n",
    "\n",
    "f_ratio = s1 / s2\n",
    "p_val = stats.f.cdf(f_ratio, (n1 - 1), (n2 - 1))\n",
    "print('The p-value = {0:.4f}'.format(p_val))\n",
    "\n",
    "# Flipping the ratio and the tail gives the same p-value\n",
    "f_ratio = s2 / s1\n",
    "p_val = stats.f.sf(f_ratio, (n2 - 1), (n1 - 1))\n",
    "print('The p-value = {0:.4f}'.format(p_val))\n"
   ]
  },
  {
   "cell_type": "markdown",
   "metadata": {},
   "source": [
    "## Sources<a class=\"anchor\" id=\"sources\"></a>\n",
    "\n",
    "Illowsky, Barbara; Dean, Susan. Introductory Statistics. OpenStax College. Kindle Edition\n",
    "https://openstax.org/details/introductory-statistics\n",
    "\n",
    "SciPy 1.0.0 Release Notes https://docs.scipy.org/doc/scipy/reference/index.html\n",
    "\n",
    "Cohen Jacob. The Earth Is Round (p < .05) https://www.ics.uci.edu/~sternh/courses/210/cohen94_pval.pdf\n",
    "\n",
    "Marsja, Erik. https://www.marsja.se/four-ways-to-conduct-one-way-anovas-using-python/\n",
    "\n",
    "Marsja Erik. https://www.marsja.se/three-ways-to-carry-out-2-way-anova-with-python/\n"
   ]
  }
 ],
 "metadata": {
  "kernelspec": {
   "display_name": "Python 3",
   "language": "python",
   "name": "python3"
  },
  "language_info": {
   "codemirror_mode": {
    "name": "ipython",
    "version": 3
   },
   "file_extension": ".py",
   "mimetype": "text/x-python",
   "name": "python",
   "nbconvert_exporter": "python",
   "pygments_lexer": "ipython3",
   "version": "3.6.3"
  }
 },
 "nbformat": 4,
 "nbformat_minor": 2
}
