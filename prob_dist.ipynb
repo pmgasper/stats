{
 "cells": [
  {
   "cell_type": "markdown",
   "metadata": {},
   "source": [
    "# Probability distributions"
   ]
  },
  {
   "cell_type": "code",
   "execution_count": 1,
   "metadata": {},
   "outputs": [
    {
     "data": {
      "text/html": [
       "<style>\n",
       "table {margin-left: 20px !important;}\n",
       "</style> "
      ],
      "text/plain": [
       "<IPython.core.display.HTML object>"
      ]
     },
     "metadata": {},
     "output_type": "display_data"
    }
   ],
   "source": [
    "%%html\n",
    "<style>\n",
    "table {margin-left: 20px !important;}\n",
    "</style> "
   ]
  },
  {
   "cell_type": "markdown",
   "metadata": {},
   "source": [
    "### Table of Contents\n",
    "\n",
    "I. [Background](#background)\n",
    "\n",
    "II. [Discrete probability distributions](#discrete)\n",
    "\n",
    " | Distribution              | Parameters   | scipy.stats   |\n",
    " |:--------------------------|:------------:|:--------------|\n",
    " | [Binomial](#binom)        | n, p         | .binom        |\n",
    " | [Geometric](#geom)        | p            | .geom         |\n",
    " | [Hypergeometric](#hyperg) | M, n, N      | .hypergeom    |\n",
    " | [Poisson](#poisson)       | $\\mu$        | .poisson      | \n",
    "\n",
    "III. [Continuous probability distributions](#continuous)\n",
    "\n",
    "| Distribution              | Parameters   | scipy.stats   |\n",
    "|:--------------------------|:------------:|:--------------|\n",
    "| [Uniform](#uni)           |              |               |\n",
    "| [Exponential](#expo)      | $\\mu$        | .expon        |\n",
    "| [Normal](#normal)         | $\\mu, \\sigma$| .norm         |\n"
   ]
  },
  {
   "cell_type": "markdown",
   "metadata": {},
   "source": [
    "##  Background<a class=\"anchor\" id=\"background\"></a>\n",
    "\n",
    "A **random variable** discribes all of the possible numerical outcomes of a random phenomenon.\n",
    "\n",
    "A statistical experiment determines a specific value of a random variable which can chage on repitition of the experiment. A **probability distribution** gives all posssible values of a random variable and their corresponding probabilities.   \n",
    "\n",
    "Uppercase X, Y denote random variables (description as text)\n",
    "Lowercase x, y denote a value of a random variable (a given number)"
   ]
  },
  {
   "cell_type": "code",
   "execution_count": 2,
   "metadata": {},
   "outputs": [],
   "source": [
    "# Imports\n",
    "import matplotlib.pylab as plt\n",
    "import numpy as np\n",
    "from scipy import stats"
   ]
  },
  {
   "cell_type": "markdown",
   "metadata": {},
   "source": [
    "## Discrete probability distributions <a class=\"anchor\" id=\"discrete\"></a>\n",
    "\n",
    "A **probability mass function (pmf)** gives the probability of a discrete random variable for different exact values. Each probability is between 0 and 1, inclusive. The sum of the probabilities is 1. *Note: pmfs are also sometimes called probability distribution functions which gives the same acronym used for probability density functions (pdf), the analogous functions of continous probability distributions.* \n",
    "\n",
    "A **cumulative distribution function (cdf)** gives the probability that a random variable is less than or equal to a given value."
   ]
  },
  {
   "cell_type": "markdown",
   "metadata": {},
   "source": [
    "### Binomial  <a class=\"anchor\" id=\"binom\"></a> \n",
    "X ~ B(n, p)<br>\n",
    "  Number of successes <br>\n",
    "  **n** = number of trials (IDD Bernoulli trials)i <br>\n",
    "  **p** = probability of success"
   ]
  },
  {
   "cell_type": "code",
   "execution_count": 3,
   "metadata": {},
   "outputs": [
    {
     "name": "stdout",
     "output_type": "stream",
     "text": [
      "mean = 2.56 (calculated by scipy)\n",
      "mean = 2.56 (calculated as n * p)\n",
      "standard_deviation:1.5897 (calculated from scipy variance)\n",
      "standard_deviation:1.5897 (calculated as (sqrt(npq)))\n"
     ]
    }
   ],
   "source": [
    "# Mean and variance\n",
    "n = 200\n",
    "p = 0.0128\n",
    "mean, var = stats.binom.stats(n, p)\n",
    "mean2 = n * p\n",
    "std_dev = np.sqrt(var)\n",
    "std_dev2 = np.sqrt(n * p * (1 - p)) \n",
    "print('mean = {0} (calculated by scipy)'.format(mean))\n",
    "print('mean = {0} (calculated as n * p)'.format(mean2))\n",
    "print('standard_deviation:{0:.4f} (calculated from scipy variance)'.format(std_dev))\n",
    "print('standard_deviation:{0:.4f} (calculated as (sqrt(npq)))'.format(std_dev))"
   ]
  },
  {
   "cell_type": "code",
   "execution_count": 4,
   "metadata": {},
   "outputs": [
    {
     "name": "stdout",
     "output_type": "stream",
     "text": [
      "0.9549616980515235\n",
      "0.07065497815138377\n"
     ]
    }
   ],
   "source": [
    "# Cumulative density function and Probability mass function \n",
    "x = 5\n",
    "n = 200\n",
    "p = 0.0128\n",
    "print(stats.binom.cdf(x, n, p)) # prob <= x\n",
    "print(stats.binom.pmf(x, n, p)) # prob = x"
   ]
  },
  {
   "cell_type": "markdown",
   "metadata": {},
   "source": [
    "### Geometric <a class=\"anchor\" id=\"geom\"></a>"
   ]
  },
  {
   "cell_type": "code",
   "execution_count": 5,
   "metadata": {},
   "outputs": [
    {
     "name": "stdout",
     "output_type": "stream",
     "text": [
      "2.857 2.304\n"
     ]
    }
   ],
   "source": [
    "p = 0.35\n",
    "mean, var = stats.geom.stats(p)\n",
    "print('{0:.3f} {1:.3f}'.format(float(mean), np.sqrt(var)))"
   ]
  },
  {
   "cell_type": "code",
   "execution_count": 6,
   "metadata": {},
   "outputs": [
    {
     "name": "stdout",
     "output_type": "stream",
     "text": [
      "0.147875\n",
      "0.725375\n"
     ]
    }
   ],
   "source": [
    "p = 0.35\n",
    "n = 3\n",
    "print(stats.geom.pmf(n, p))  # Probability first failure occurs at n\n",
    "print(stats.geom.cdf(n, p))  # Probability first failure occurs in n"
   ]
  },
  {
   "cell_type": "markdown",
   "metadata": {},
   "source": [
    "### Hypergeometric <a class=\"anchor\" id=\"hyperg\"></a>"
   ]
  },
  {
   "cell_type": "code",
   "execution_count": 7,
   "metadata": {},
   "outputs": [
    {
     "name": "stdout",
     "output_type": "stream",
     "text": [
      "1.800 1.158\n"
     ]
    }
   ],
   "source": [
    "M = 100 # total number of objects\n",
    "n = 18  # number of objects in group 1 \n",
    "N = 10   # number drawn without replacement\n",
    "mean, var = stats.hypergeom.stats(M, n, N)\n",
    "print('{0:.3f} {1:.3f}'.format(float(mean), np.sqrt(var))) # Expected value from group n"
   ]
  },
  {
   "cell_type": "code",
   "execution_count": 8,
   "metadata": {},
   "outputs": [
    {
     "name": "stdout",
     "output_type": "stream",
     "text": [
      "0.31502296054685713\n",
      "0.743335223971568\n"
     ]
    }
   ],
   "source": [
    "x = 2\n",
    "print(stats.hypergeom.pmf(x, M, n, N))  # Probability drew exactly x \n",
    "print(stats.hypergeom.cdf(x, M, n, N))  # Probability drew <= x"
   ]
  },
  {
   "cell_type": "markdown",
   "metadata": {},
   "source": [
    "### Poisson<a class=\"anchor\" id=\"poisson\"></a>\n",
    "\n",
    "Probability of a number of occurances of a discrete, independent event given the average rate of that event."
   ]
  },
  {
   "cell_type": "code",
   "execution_count": 9,
   "metadata": {},
   "outputs": [
    {
     "name": "stdout",
     "output_type": "stream",
     "text": [
      "[0.1353352832366127, 0.2706705664732254, 0.2706705664732254, 0.1804470443154836, 0.0902235221577418]\n"
     ]
    },
    {
     "data": {
      "image/png": "[encoded data removed]",
      "text/plain": [
       "<matplotlib.figure.Figure at 0x7fd1c59809e8>"
      ]
     },
     "metadata": {},
     "output_type": "display_data"
    }
   ],
   "source": [
    "k_range = range(5)     #  list of k (numer of events) to look at\n",
    "lamb = 2               #  (events per interval (i.e. 1 per 100 years))\n",
    "\n",
    "p_k = [((np.e ** -lamb) * (lamb ** k)) / np.math.factorial(k) for k in k_range]\n",
    "\n",
    "print(p_k)\n",
    "\n",
    "plt.figure()\n",
    "plt.scatter(k_range, p_k)\n",
    "plt.xticks(k_range)\n",
    "plt.show()\n",
    "plt.close()"
   ]
  },
  {
   "cell_type": "code",
   "execution_count": 10,
   "metadata": {},
   "outputs": [
    {
     "name": "stdout",
     "output_type": "stream",
     "text": [
      "mean:3.0 \n",
      "standard_deviation:1.7321\n"
     ]
    }
   ],
   "source": [
    "mu = 3  # rate of occurance (i.e. 0.75 per 15 min)\n",
    "mean, var = stats.poisson.stats(mu)\n",
    "std_dev = np.sqrt(var)\n",
    "print('mean:{0} \\nstandard_deviation:{1:.4f}'.format(mean, std_dev))"
   ]
  },
  {
   "cell_type": "code",
   "execution_count": 11,
   "metadata": {},
   "outputs": [
    {
     "name": "stdout",
     "output_type": "stream",
     "text": [
      "6.293710352933338e-10\n",
      "\n",
      "3.541157347948532e-09\n",
      "0.07066085287803281\n"
     ]
    }
   ],
   "source": [
    "mu = 32\n",
    "\n",
    "print(stats.poisson.cdf(4, mu)) # prob <= x\n",
    "print()\n",
    "\n",
    "print(stats.poisson.pmf(5, mu)) # prob = x\n",
    "print(1 - stats.poisson.cdf(40, mu)) # prob = x"
   ]
  },
  {
   "cell_type": "markdown",
   "metadata": {},
   "source": [
    "## Continuous probability distributions <a class=\"anchor\" id=\"continuous\"></a>"
   ]
  },
  {
   "cell_type": "markdown",
   "metadata": {},
   "source": [
    "### Uniform<a class=\"anchor\" id=\"uni\"></a>"
   ]
  },
  {
   "cell_type": "code",
   "execution_count": null,
   "metadata": {},
   "outputs": [],
   "source": []
  },
  {
   "cell_type": "markdown",
   "metadata": {},
   "source": [
    "### Exponential<a class=\"anchor\" id=\"expo\"></a>"
   ]
  },
  {
   "cell_type": "code",
   "execution_count": 12,
   "metadata": {},
   "outputs": [
    {
     "name": "stdout",
     "output_type": "stream",
     "text": [
      "mean:23.0 \n",
      "standard_deviation:23.0000\n",
      "0.01831319643314241\n",
      "0.5971096784708669\n",
      "\n"
     ]
    }
   ],
   "source": [
    "mu = 23\n",
    "\n",
    "mean, var, skew, kurt = stats.expon.stats(scale = mu, moments='mvsk')\n",
    "std_dev = np.sqrt(var)\n",
    "print('mean:{0} \\nstandard_deviation:{1:.4f}'.format(mean, std_dev))\n",
    "\n",
    "mu = 22\n",
    "x = 20\n",
    "print(stats.expon.pdf(x, scale = mu)) # prob = x\n",
    "print(stats.expon.cdf(x, scale = mu)) # prob <= x\n",
    "#print(stats.expon.cdf(5, scale = mu)) # prob <= x\n",
    "print()\n",
    "#print(stats.expon.ppf(0.5, scale = mu)) # prob <= x"
   ]
  },
  {
   "cell_type": "markdown",
   "metadata": {},
   "source": [
    "### Normal<a class=\"anchor\" id=\"normal\"></a>"
   ]
  },
  {
   "cell_type": "code",
   "execution_count": 36,
   "metadata": {},
   "outputs": [
    {
     "name": "stdout",
     "output_type": "stream",
     "text": [
      "0.8185946141203637\n",
      "54.71356676106994\n",
      "\n",
      "-1.9599639845400545\n",
      "1.959963984540054\n",
      "(0.8808656297226961, 1.1671343702773038)\n",
      "217.0\n"
     ]
    }
   ],
   "source": [
    "mu = 36.9\n",
    "sigma = 13.9\n",
    "x = 23\n",
    "x2 = 64.7\n",
    "per = 0.90 # percentile\n",
    "print(stats.norm.cdf(x2, mu, sigma) - stats.norm.cdf(x, mu, sigma))\n",
    "print(stats.norm.ppf(per, mu, sigma)) #  Inverse of cdf\n",
    "print()\n",
    "\n",
    "# Confidence interval bounds in SDs\n",
    "  # note, techincally requires known population SD to apply\n",
    "\n",
    "# z-scores (multiple by standard error of the mean)\n",
    "print(stats.norm.ppf(0.025, 0, 1)) # lower bound z-score\n",
    "print(stats.norm.ppf(0.975, 0, 1)) # upper bound z-score\n",
    "\n",
    "# or go straight to getting bounds with .interval\n",
    "x_bar = 1.024\n",
    "sigma = 0.337\n",
    "n = 30\n",
    "print(stats.norm.interval(0.98, x_bar, (sigma / np.sqrt(n)))) \n",
    "\n",
    "# n required for desired confidence and bounds \n",
    "ebm = 2\n",
    "conf = 0.95\n",
    "sigma = 15\n",
    "\n",
    "alpha = (1 - conf)\n",
    "z = (stats.norm.ppf((alpha / 2), 0, 1)) \n",
    "n = np.ceil((z ** 2 * sigma ** 2) / (ebm ** 2))\n",
    "print(n)\n"
   ]
  },
  {
   "cell_type": "markdown",
   "metadata": {},
   "source": [
    "### Sources\n",
    "\n",
    "Illowsk, Barbara; Dean, Susan. Introductory Statistics. OpenStax College. Kindle Edition\n",
    "\n",
    "SciPy 1.0.0 Release Notes"
   ]
  },
  {
   "cell_type": "code",
   "execution_count": null,
   "metadata": {},
   "outputs": [],
   "source": []
  }
 ],
 "metadata": {
  "kernelspec": {
   "display_name": "Python 3",
   "language": "python",
   "name": "python3"
  },
  "language_info": {
   "codemirror_mode": {
    "name": "ipython",
    "version": 3
   },
   "file_extension": ".py",
   "mimetype": "text/x-python",
   "name": "python",
   "nbconvert_exporter": "python",
   "pygments_lexer": "ipython3",
   "version": "3.6.3"
  }
 },
 "nbformat": 4,
 "nbformat_minor": 2
}
