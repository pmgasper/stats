{
 "cells": [
  {
   "cell_type": "markdown",
   "metadata": {},
   "source": [
    "# Probability distributions"
   ]
  },
  {
   "cell_type": "markdown",
   "metadata": {},
   "source": [
    "Set Jupyter table style"
   ]
  },
  {
   "cell_type": "code",
   "execution_count": 2,
   "metadata": {},
   "outputs": [
    {
     "data": {
      "text/html": [
       "<style>\n",
       "table {margin-left: 20px !important;}\n",
       "th {text-align: left !important;}\n",
       "</style>"
      ],
      "text/plain": [
       "<IPython.core.display.HTML object>"
      ]
     },
     "metadata": {},
     "output_type": "display_data"
    }
   ],
   "source": [
    "%%html\n",
    "<style>\n",
    "table {margin-left: 20px !important;}\n",
    "th {text-align: left !important;}\n",
    "</style>"
   ]
  },
  {
   "cell_type": "markdown",
   "metadata": {},
   "source": [
    "Import python modules"
   ]
  },
  {
   "cell_type": "code",
   "execution_count": 3,
   "metadata": {},
   "outputs": [],
   "source": [
    "import matplotlib.pylab as plt\n",
    "import numpy as np\n",
    "from scipy import stats"
   ]
  },
  {
   "cell_type": "markdown",
   "metadata": {},
   "source": [
    "### Table of Contents\n",
    "\n",
    "I. [Background](#background)\n",
    "\n",
    "II. [Discrete probability distributions](#discrete)\n",
    "\n",
    " | Distribution              | Parameters   | scipy.stats   |\n",
    " |:--------------------------|:------------:|:--------------|\n",
    " | [Binomial](#binom)        | n, p         | .binom        |\n",
    " | [Geometric](#geom)        | p            | .geom         |\n",
    " | [Hypergeometric](#hyperg) | M, n, N      | .hypergeom    |\n",
    " | [Poisson](#poisson)       | $\\mu$        | .poisson      | \n",
    "\n",
    "III. [Continuous probability distributions](#continuous)\n",
    "\n",
    "| Distribution              | Parameters   | scipy.stats   |\n",
    "|:--------------------------|:------------:|:--------------|\n",
    "| [Uniform](#uni)           |              |               |\n",
    "| [Exponential](#expo)      | $\\mu$        | .expon        |\n",
    "| [Normal](#normal)         | $\\mu, \\sigma$| .norm         |\n",
    "| [Student's t](#tdist)     | df           | .t            |\n",
    "\n",
    "IV. [Common scipy.stats distribution methods](#scipy)\n",
    "\n",
    "V. [Sources](#sources)"
   ]
  },
  {
   "cell_type": "markdown",
   "metadata": {},
   "source": [
    "##  Background<a class=\"anchor\" id=\"background\"></a>\n",
    "\n",
    "A **random variable** discribes all of the possible numerical outcomes of a random phenomenon.\n",
    "\n",
    "A statistical experiment determines a specific value of a random variable which can chage on repitition of the experiment. A **probability distribution** gives all posssible values of a random variable and their corresponding probabilities.   \n",
    "\n",
    "Uppercase X, Y denote random variables (a description given as text) <br>\n",
    "Lowercase x, y denote a value of a random variable (an instance given as a number)"
   ]
  },
  {
   "cell_type": "markdown",
   "metadata": {},
   "source": [
    "## Discrete probability distributions <a class=\"anchor\" id=\"discrete\"></a>\n",
    "\n",
    "A **probability mass function (pmf)** gives the probability of a discrete random variable for different exact values. Each probability is between 0 and 1, inclusive. The sum of the probabilities is 1. *Note: pmfs are also sometimes called probability distribution functions which gives the same acronym used for probability density functions (pdf), the analogous functions of continous probability distributions.* \n",
    "\n",
    "A **cumulative distribution function (cdf)** gives the probability that a random variable is less than or equal to a given value."
   ]
  },
  {
   "cell_type": "markdown",
   "metadata": {},
   "source": [
    "### Binomial  <a class=\"anchor\" id=\"binom\"></a> \n",
    "\n",
    "X ~ B(n, p)<br>\n",
    "\n",
    "A discrete random variable that gives the distribution of the number of successes in **n** independent and identically distributed Bernoulli trials with probability of success **p**"
   ]
  },
  {
   "cell_type": "code",
   "execution_count": 66,
   "metadata": {},
   "outputs": [
    {
     "name": "stdout",
     "output_type": "stream",
     "text": [
      "Binomial distribution (n=200, p=0.0128)\n",
      " mean    = 2.5600 (calculated by scipy)\n",
      " mean    = 2.5600 (calculated as n * p)\n",
      " std dev = 1.5897 (calculated from scipy variance)\n",
      " std dev = 1.5897 (calculated as (sqrt(npq)))\n"
     ]
    }
   ],
   "source": [
    "# Illowsky - example 4.15 part b \n",
    "# Mean and variance \n",
    "n = 200\n",
    "p = 0.0128\n",
    "mean, var = stats.binom.stats(n, p)\n",
    "mean_formula = n * p\n",
    "std_dev = np.sqrt(var)\n",
    "std_dev_formula = np.sqrt(n * p * (1 - p)) \n",
    "print('Binomial distribution (n={0}, p={1})'.format(n, p))\n",
    "print(' mean    = {0:.4f} (calculated by scipy)'.format(mean))\n",
    "print(' mean    = {0:.4f} (calculated as n * p)'.format(mean_formula))\n",
    "print(' std dev = {0:.4f} (calculated from scipy variance)'.format(std_dev))\n",
    "print(' std dev = {0:.4f} (calculated as (sqrt(npq)))'.format(std_dev_formula))"
   ]
  },
  {
   "cell_type": "code",
   "execution_count": 67,
   "metadata": {},
   "outputs": [
    {
     "name": "stdout",
     "output_type": "stream",
     "text": [
      " probability of 8 or less successes = 0.9988\n",
      " probability of exactly 5 successes = 0.0707\n",
      " probability of exactly 6 successes = 0.0298\n"
     ]
    }
   ],
   "source": [
    "# cumulative density function and probability mass function \n",
    "x = 8\n",
    "print(' probability of {0} or less successes = {1:.4f}'.format(x, stats.binom.cdf(x, n, p))) # prob <= x\n",
    "\n",
    "for x in [5, 6]:\n",
    "    print(' probability of exactly {0} successes = {1:.4f}'.format(x, stats.binom.pmf(x, n, p))) # prob = x"
   ]
  },
  {
   "cell_type": "code",
   "execution_count": 69,
   "metadata": {},
   "outputs": [
    {
     "data": {
      "image/png": "[encoded data removed]",
      "text/plain": [
       "<matplotlib.figure.Figure at 0x7fafdc1da2e8>"
      ]
     },
     "metadata": {},
     "output_type": "display_data"
    }
   ],
   "source": [
    "# graph binomial \n",
    "n = 200\n",
    "p = 0.0128\n",
    "\n",
    "# x = np.arange(0, n) # entire range not practile\n",
    "# Instead chose range within some probability threshold\n",
    "x = np.arange(stats.binom.ppf(0.001, n, p), stats.binom.ppf(0.999, n, p))\n",
    "\n",
    "plt.figure()\n",
    "plt.scatter(x, stats.binom.pmf(x, n, p), s=32)\n",
    "plt.title('Binomial (n={0}, p={1})'.format(n, p))\n",
    "plt.xlabel('Number success')\n",
    "plt.ylabel('Probability')\n",
    "plt.show()\n",
    "plt.close()\n",
    "\n",
    "# Alternatively, the distribution object can be called (as a function) to fix the shape and location.\n",
    "# This returns a “frozen” RV object holding the given parameters fixed."
   ]
  },
  {
   "cell_type": "code",
   "execution_count": 58,
   "metadata": {},
   "outputs": [
    {
     "name": "stdout",
     "output_type": "stream",
     "text": [
      "[1 4 2 2 3 6 3 4 2 2 1 5 2 2 4 3 0 3 6 1]\n"
     ]
    }
   ],
   "source": [
    "# Generate list of random numbers from binomial\n",
    "n = 200\n",
    "p = 0.0128\n",
    "r = stats.binom.rvs(n, p, size=20)\n",
    "print(r)"
   ]
  },
  {
   "cell_type": "markdown",
   "metadata": {},
   "source": [
    "### Geometric <a class=\"anchor\" id=\"geom\"></a>\n",
    "\n",
    "X ~ G(p)\n",
    "\n",
    "A discrete random variable that gives the distribution of the number of independent trials before the first success occurs for independent Bernoulli trials with constant probability of success **p**. *Note: success is only semantic, works equally with 'failure' as long as associated probability is used* "
   ]
  },
  {
   "cell_type": "code",
   "execution_count": 59,
   "metadata": {},
   "outputs": [
    {
     "name": "stdout",
     "output_type": "stream",
     "text": [
      "Geometric distribution (p = 0.35)\n",
      " mean    = 2.8571\n",
      " std dev = 2.3035\n"
     ]
    }
   ],
   "source": [
    "# Illowsky - example 4.18\n",
    "# mean and variance\n",
    "p = 0.35\n",
    "mean, var = stats.geom.stats(p)\n",
    "print('Geometric distribution (p = {0})'.format(p))\n",
    "print(' mean    = {0:.4f}'.format(float(mean)))\n",
    "print(' std dev = {0:.4f}'.format(np.sqrt(var)))"
   ]
  },
  {
   "cell_type": "code",
   "execution_count": 61,
   "metadata": {},
   "outputs": [
    {
     "name": "stdout",
     "output_type": "stream",
     "text": [
      " probability first success occurs at exactly 3 trials = 0.1479\n",
      " probability first success occurs within 3 trials = 0.7254\n"
     ]
    }
   ],
   "source": [
    "# cumulative density function and probability mass function \n",
    "n = 3\n",
    "print(' probability first success occurs at exactly {0} trials = {1:.4f}'.format(n, stats.geom.pmf(n, p)))\n",
    "print(' probability first success occurs within {0} trials = {1:.4f}'.format(n, stats.geom.cdf(n, p)))"
   ]
  },
  {
   "cell_type": "code",
   "execution_count": 33,
   "metadata": {},
   "outputs": [
    {
     "data": {
      "image/png": "[encoded data removed]",
      "text/plain": [
       "<matplotlib.figure.Figure at 0x7fafdc498eb8>"
      ]
     },
     "metadata": {},
     "output_type": "display_data"
    }
   ],
   "source": [
    "# graph Geometric \n",
    "p = 0.35\n",
    "\n",
    "x = np.arange(stats.geom.ppf(0.01, p), stats.geom.ppf(0.99, p))\n",
    "\n",
    "plt.figure()\n",
    "plt.scatter(x, stats.geom.pmf(x, p), s=32)\n",
    "plt.title('Geometric (p={0})'.format(p))\n",
    "plt.xlabel('Number before success')\n",
    "plt.ylabel('Probability')\n",
    "plt.show()\n",
    "plt.close()"
   ]
  },
  {
   "cell_type": "code",
   "execution_count": 36,
   "metadata": {},
   "outputs": [
    {
     "name": "stdout",
     "output_type": "stream",
     "text": [
      "[1 1 2 2 1 4 4 1 2 3 2 3 1 1 4 1 1 3 2 1]\n"
     ]
    }
   ],
   "source": [
    "# generate list of random numbers from geometric\n",
    "p = 0.35\n",
    "r = stats.geom.rvs(p, size=20)\n",
    "print(r)"
   ]
  },
  {
   "cell_type": "markdown",
   "metadata": {},
   "source": [
    "### Hypergeometric <a class=\"anchor\" id=\"hyperg\"></a>\n",
    "\n",
    "X ~ H(M, n, N)\n",
    "\n",
    "A discrete random variable that gives the distribution of the number of individuals from a subgroup expected in a sample taken without replacement.\n",
    "\n",
    "Scipy notation: p(k, M, n, N). *Alternative notations are common* <br>\n",
    "**k** = number of objects drawn from subgroup of interest (generally interested in p(k, M, n, N) vs. k) <br>\n",
    "**M** = number of objects in population <br>\n",
    "**n** = number of objects in subgroup of interest in the population <br>\n",
    "**N** = sample size (number of objects draw without replacement)\n"
   ]
  },
  {
   "cell_type": "code",
   "execution_count": 70,
   "metadata": {},
   "outputs": [
    {
     "name": "stdout",
     "output_type": "stream",
     "text": [
      "Hypergeometric distribution (M = 11, n = 6, N = 4)\n",
      " mean    = 2.1818\n",
      " std dev = 0.8332\n"
     ]
    }
   ],
   "source": [
    "# Illowsky - 4.25\n",
    "# mean and variance\n",
    "\n",
    "M = 6 + 5\n",
    "n = 6\n",
    "N = 4  \n",
    "mean, var = stats.hypergeom.stats(M, n, N)\n",
    "print('Hypergeometric distribution (M = {0}, n = {1}, N = {2})'.format(M, n, N))\n",
    "print(' mean    = {0:.4f}'.format(float(mean) )) # Expected value from group of interest\n",
    "print(' std dev = {0:.4f}'.format(np.sqrt(var)))"
   ]
  },
  {
   "cell_type": "code",
   "execution_count": 54,
   "metadata": {},
   "outputs": [
    {
     "name": "stdout",
     "output_type": "stream",
     "text": [
      " probability exactly 2 from group of interest = 0.4545\n",
      " probability of 2 or less from group of interest = 0.6515\n"
     ]
    }
   ],
   "source": [
    "# cumulative density function and probability mass function \n",
    "x = 2\n",
    "print(' probability exactly {0} from group of interest = {1:.4f}'\\\n",
    "      .format(x, stats.hypergeom.pmf(x, M, n, N)))\n",
    "print(' probability of {0} or less from group of interest = {1:.4f}'\\\n",
    "      .format(x, stats.hypergeom.cdf(x, M, n, N)))"
   ]
  },
  {
   "cell_type": "code",
   "execution_count": 108,
   "metadata": {},
   "outputs": [
    {
     "data": {
      "image/png": "[encoded data removed]",
      "text/plain": [
       "<matplotlib.figure.Figure at 0x7fafdc1fda58>"
      ]
     },
     "metadata": {},
     "output_type": "display_data"
    }
   ],
   "source": [
    "# graph hypergeometric\n",
    "M = 6 + 5\n",
    "n = 6\n",
    "N = 4  \n",
    "\n",
    "# For this case, just showing entire range makes more sence\n",
    "# x = np.arange(stats.hypergeom.ppf(0.001, M, n, N), stats.hypergeom.ppf(0.999, M, n, N))\n",
    "x = np.arange(0,5)\n",
    "\n",
    "plt.figure()\n",
    "plt.bar(x, stats.hypergeom.pmf(x, M, n, N))\n",
    "plt.title('Hypergeometric (M={0}, n={1}, N={2})'.format(M, n, N))\n",
    "plt.xlabel('Number success')\n",
    "plt.ylabel('Probability')\n",
    "plt.show()\n",
    "plt.close()"
   ]
  },
  {
   "cell_type": "markdown",
   "metadata": {},
   "source": [
    "### Poisson<a class=\"anchor\" id=\"poisson\"></a>\n",
    "\n",
    "X ~ P($\\mu$)\n",
    "\n",
    "Probability of a number of occurances of a discrete, independent event given the average rate of that event, generally notated as $\\mu$ or $\\sigma$. *Note: the interval is defined by $\\mu$ (i.e. per day vs. per year)*   "
   ]
  },
  {
   "cell_type": "code",
   "execution_count": 109,
   "metadata": {},
   "outputs": [
    {
     "name": "stdout",
     "output_type": "stream",
     "text": [
      "Poisson (mu = 0.75)\n",
      " mean    = 0.7500\n",
      " std dev = 0.8660\n"
     ]
    }
   ],
   "source": [
    "# Illowsky - Example 4.29\n",
    "# mean and variance\n",
    "mu = (6 / 2) * 0.25  # given rate (6 in 2 hr, interested in 15 min (0.25 hr) interval)\n",
    "mean, var = stats.poisson.stats(mu)\n",
    "std_dev = np.sqrt(var)\n",
    "print('Poisson (mu = {0})'.format(mu))\n",
    "print(' mean    = {0:.4f}'.format(mean))\n",
    "print(' std dev = {0:.4f}'.format(std_dev))"
   ]
  },
  {
   "cell_type": "code",
   "execution_count": 110,
   "metadata": {},
   "outputs": [
    {
     "name": "stdout",
     "output_type": "stream",
     "text": [
      " probability of 1 or less = 0.8266\n",
      " probability of exactly 1 = 0.3543\n",
      " probability of more than 1 = 0.1734\n",
      " probability of more than 1 = 0.1734 (alternative calculation)\n"
     ]
    }
   ],
   "source": [
    "# cumulative density function and probability mass function \n",
    "x = 1\n",
    "\n",
    "print(' probability of {0} or less = {1:.4f}'.format(x, stats.poisson.cdf(x, mu))) # prob <= x\n",
    "print(' probability of exactly {0} = {1:.4f}'.format(x, stats.poisson.pmf(x, mu))) # prob = x\n",
    "print(' probability of more than {0} = {1:.4f}'.format(x, stats.poisson.sf(x, mu))) \n",
    "# (1 - .cdf) = .sf, but .sf method is more accurate\n",
    "print(' probability of more than {0} = {1:.4f} (alternative calculation)'.\\\n",
    "      format(x, 1 - stats.poisson.cdf(x, mu))) # prob < x"
   ]
  },
  {
   "cell_type": "code",
   "execution_count": 107,
   "metadata": {},
   "outputs": [
    {
     "data": {
      "image/png": "[encoded data removed]",
      "text/plain": [
       "<matplotlib.figure.Figure at 0x7fafdc407c88>"
      ]
     },
     "metadata": {},
     "output_type": "display_data"
    }
   ],
   "source": [
    "# graph Poisson\n",
    "\n",
    "x = np.arange(stats.poisson.ppf(0.01, mu), stats.poisson.ppf(0.999, mu))\n",
    "\n",
    "plt.figure()\n",
    "plt.bar(x, stats.poisson.pmf(x, mu))\n",
    "plt.title('Poisson (mu={0})'.format(mu))\n",
    "plt.xlabel('Number of occurances')\n",
    "plt.ylabel('Probability')\n",
    "plt.show()\n",
    "plt.close()"
   ]
  },
  {
   "cell_type": "code",
   "execution_count": 113,
   "metadata": {},
   "outputs": [
    {
     "data": {
      "image/png": "[encoded data removed]",
      "text/plain": [
       "<matplotlib.figure.Figure at 0x7fafdc26fe80>"
      ]
     },
     "metadata": {},
     "output_type": "display_data"
    }
   ],
   "source": [
    "# Poisson using equation rather than scipy method\n",
    "\n",
    "k_range = range(5)     #  list of k (numer of events) to look at\n",
    "lamb = 2               #  (events per interval (i.e. 1 per 100 years))\n",
    "\n",
    "p_k = [((np.e ** -lamb) * (lamb ** k)) / np.math.factorial(k) for k in k_range]\n",
    "\n",
    "plt.figure()\n",
    "plt.bar(k_range, p_k)\n",
    "plt.xticks(k_range)\n",
    "plt.show()\n",
    "plt.close()"
   ]
  },
  {
   "cell_type": "markdown",
   "metadata": {},
   "source": [
    "## Continuous probability distributions <a class=\"anchor\" id=\"continuous\"></a>"
   ]
  },
  {
   "cell_type": "markdown",
   "metadata": {},
   "source": [
    "### Uniform<a class=\"anchor\" id=\"uni\"></a>"
   ]
  },
  {
   "cell_type": "code",
   "execution_count": null,
   "metadata": {},
   "outputs": [],
   "source": []
  },
  {
   "cell_type": "markdown",
   "metadata": {},
   "source": [
    "### Exponential<a class=\"anchor\" id=\"expo\"></a>"
   ]
  },
  {
   "cell_type": "code",
   "execution_count": 12,
   "metadata": {},
   "outputs": [
    {
     "name": "stdout",
     "output_type": "stream",
     "text": [
      "mean:23.0 \n",
      "standard_deviation:23.0000\n",
      "0.01831319643314241\n",
      "0.5971096784708669\n",
      "\n"
     ]
    }
   ],
   "source": [
    "mu = 23\n",
    "\n",
    "mean, var, skew, kurt = stats.expon.stats(scale = mu, moments='mvsk')\n",
    "std_dev = np.sqrt(var)\n",
    "print('mean:{0} \\nstandard_deviation:{1:.4f}'.format(mean, std_dev))\n",
    "\n",
    "mu = 22\n",
    "x = 20\n",
    "print(stats.expon.pdf(x, scale = mu)) # prob = x\n",
    "print(stats.expon.cdf(x, scale = mu)) # prob <= x\n",
    "#print(stats.expon.cdf(5, scale = mu)) # prob <= x\n",
    "print()\n",
    "#print(stats.expon.ppf(0.5, scale = mu)) # prob <= x"
   ]
  },
  {
   "cell_type": "markdown",
   "metadata": {},
   "source": [
    "### Normal<a class=\"anchor\" id=\"normal\"></a>"
   ]
  },
  {
   "cell_type": "code",
   "execution_count": 13,
   "metadata": {},
   "outputs": [
    {
     "name": "stdout",
     "output_type": "stream",
     "text": [
      "0.8185946141203637\n",
      "54.71356676106994\n",
      "\n",
      "-1.9599639845400545\n",
      "1.959963984540054\n",
      "(0.8808656297226961, 1.1671343702773038)\n"
     ]
    }
   ],
   "source": [
    "mu = 36.9\n",
    "sigma = 13.9\n",
    "x = 23\n",
    "x2 = 64.7\n",
    "per = 0.90 # percentile\n",
    "print(stats.norm.cdf(x2, mu, sigma) - stats.norm.cdf(x, mu, sigma))\n",
    "print(stats.norm.ppf(per, mu, sigma)) #  Inverse of cdf\n",
    "print()\n",
    "\n",
    "# Confidence interval bounds in SDs\n",
    "  # note, techincally requires known population SD to apply\n",
    "\n",
    "# z-scores (multiple by standard error of the mean)\n",
    "print(stats.norm.ppf(0.025, 0, 1)) # lower bound z-score\n",
    "print(stats.norm.ppf(0.975, 0, 1)) # upper bound z-score\n",
    "\n",
    "# or go straight to getting bounds with .interval\n",
    "x_bar = 1.024\n",
    "sigma = 0.337\n",
    "n = 30\n",
    "print(stats.norm.interval(0.98, x_bar, (sigma / np.sqrt(n)))) "
   ]
  },
  {
   "cell_type": "code",
   "execution_count": 14,
   "metadata": {},
   "outputs": [
    {
     "name": "stdout",
     "output_type": "stream",
     "text": [
      "217.0\n"
     ]
    }
   ],
   "source": [
    "# n required for desired confidence and bounds of mean\n",
    "ebm = 2\n",
    "conf = 0.95\n",
    "sigma = 15\n",
    "\n",
    "alpha = (1 - conf)\n",
    "z = (stats.norm.ppf((alpha / 2), 0, 1)) \n",
    "n = np.ceil((z ** 2 * sigma ** 2) / (ebm ** 2))\n",
    "print(n)"
   ]
  },
  {
   "cell_type": "code",
   "execution_count": 15,
   "metadata": {},
   "outputs": [
    {
     "name": "stdout",
     "output_type": "stream",
     "text": [
      "0.8100296288520179 0.873970371147982\n",
      "(0.8100296288520179, 0.873970371147982)\n"
     ]
    }
   ],
   "source": [
    "# confidence interval of a proprotion\n",
    "#  not using +4 method here (see below)\n",
    "\n",
    "n = 500\n",
    "p = 421 / n\n",
    "cl = 0.95\n",
    "\n",
    "alpha = 1 - cl\n",
    "z_lower = stats.norm.ppf(alpha / 2)\n",
    "z_upper = stats.norm.ppf(1 - (alpha / 2))\n",
    "\n",
    "s = np.sqrt((p * (1 - p)) / n)\n",
    "\n",
    "ebp = z_upper * s\n",
    "\n",
    "print(p - ebp, p + ebp)\n",
    "\n",
    "print(stats.norm.interval(cl, p, s))"
   ]
  },
  {
   "cell_type": "code",
   "execution_count": 16,
   "metadata": {},
   "outputs": [
    {
     "name": "stdout",
     "output_type": "stream",
     "text": [
      "0.11319271756780241 0.43853142036323206\n",
      "(0.11319271756780241, 0.43853142036323206)\n"
     ]
    }
   ],
   "source": [
    "# confidence interval of a proprotion\n",
    "#  using +4 method here\n",
    "\n",
    "n = 25     # number of samples\n",
    "pn = 6     # number of successes\n",
    "cl = 0.95  # confidence level\n",
    "\n",
    "n += 4     # applying +4 method\n",
    "p = (pn + 2) / n   # probability of success, applying +4 method\n",
    "\n",
    "alpha = 1 - cl\n",
    "z_lower = stats.norm.ppf(alpha / 2)\n",
    "z_upper = stats.norm.ppf(1 - (alpha / 2))\n",
    "\n",
    "s = np.sqrt(p * (1 - p) / n)\n",
    "\n",
    "ebp = z_upper * s\n",
    "\n",
    "print(p - ebp, p + ebp)\n",
    "\n",
    "print(stats.norm.interval(cl, p, s))\n"
   ]
  },
  {
   "cell_type": "code",
   "execution_count": 17,
   "metadata": {},
   "outputs": [
    {
     "name": "stdout",
     "output_type": "stream",
     "text": [
      "752.0\n"
     ]
    }
   ],
   "source": [
    "# n required for desired confidence and bounds of proportion\n",
    "ebm = 0.03\n",
    "conf = 0.90\n",
    "\n",
    "alpha = (1 - conf)\n",
    "z = (stats.norm.ppf((alpha / 2), 0, 1))\n",
    "n = np.ceil((z ** 2 * 0.25) / (ebm ** 2))\n",
    "print(n)"
   ]
  },
  {
   "cell_type": "markdown",
   "metadata": {},
   "source": [
    "### Students t <a class=\"anchor\" id=\"tdist\"></a>"
   ]
  },
  {
   "cell_type": "code",
   "execution_count": 18,
   "metadata": {},
   "outputs": [
    {
     "name": "stdout",
     "output_type": "stream",
     "text": [
      "15 8.226666666666667 1.6722383060978339\n",
      "7.300611959652363 9.15272137368097\n",
      "(7.300611959652363, 9.15272137368097)\n"
     ]
    }
   ],
   "source": [
    "data = [8.6, 9.4, 7.9, 6.8, 8.3, 7.3, 9.2, 9.6, 8.7, 11.4, 10.3, 5.4, 8.1, 5.5, 6.9]\n",
    "cl = 0.95\n",
    "\n",
    "mu = np.mean(data) # sample mean\n",
    "s = np.std(data, ddof=1) # sample standard deviation\n",
    "n = len(data)\n",
    "print(n, mu, s)\n",
    "\n",
    "alpha = 1 - cl\n",
    "t_lower = (stats.t.ppf((alpha / 2), n - 1)) \n",
    "t_upper = (stats.t.ppf((1 - (alpha / 2)), n - 1)) \n",
    "ebm = t_upper * (s / np.sqrt(n))\n",
    "print(mu - ebm, mu + ebm)\n",
    "\n",
    "print(stats.t.interval(1 - alpha, n - 1, loc=mu, scale=(s / np.sqrt(n))))\n"
   ]
  },
  {
   "cell_type": "code",
   "execution_count": 19,
   "metadata": {},
   "outputs": [
    {
     "name": "stdout",
     "output_type": "stream",
     "text": [
      "20 127.45 25.964500055997508\n",
      "117.41093378346815 137.48906621653185\n",
      "(117.41093378346815, 137.48906621653185)\n"
     ]
    }
   ],
   "source": [
    "data = [ 79, 145, 147, 160, 116, 100, 159, 151, 156, 126,\n",
    "        137,  83, 156,  94, 121, 144, 123, 114, 139,  99]\n",
    "cl = 0.90\n",
    "\n",
    "n = len(data)\n",
    "mu = np.mean(data) # sample mean\n",
    "s = np.std(data, ddof=1) # sample standard deviation\n",
    "print(n, mu, s)\n",
    "\n",
    "alpha = 1 - cl\n",
    "t_lower = stats.t.ppf((alpha / 2), n - 1)\n",
    "t_upper = stats.t.ppf((1 - alpha / 2), n - 1)\n",
    "ebm = t_upper * (s / np.sqrt(n))\n",
    "print(mu - ebm, mu + ebm)\n",
    "\n",
    "print(stats.t.interval(cl, n - 1, loc=mu, scale=(s / np.sqrt(n))))"
   ]
  },
  {
   "cell_type": "markdown",
   "metadata": {},
   "source": [
    "## Common scipy .stats distribution methods<a class=\"anchor\" id=\"scipy\"></a>\n",
    "\n",
    "| method    | input\\* | returns                                                 |\n",
    "|:----------|:-------:|:--------------------------------------------------------|\n",
    "| .stats    |         | mean, standard_dev, skew, kurtosis                      |\n",
    "| .pmf      | x       | probability mass function (discrete distributions)      | \n",
    "| .pdf      | x       | probability density function (continuous distributions) |               \n",
    "| .cdf      | x       | cumulative density function / tail left of x            |\n",
    "| .sf       | x       | (1 - cumulative density function) / tail right of x     |\n",
    "| .ppf      | q       | percent point function (inverse of cdf)                 |\n",
    "| .interval | $\\alpha$| confidence interval                                     |\n",
    "| .rvs      |         | generate random numbers from distribution               |\n",
    "\n",
    ">\\* input typically includes distribution parameters as well"
   ]
  },
  {
   "cell_type": "markdown",
   "metadata": {},
   "source": [
    "## Sources<a class=\"anchor\" id=\"sources\"></a>\n",
    "\n",
    "Illowsky, Barbara; Dean, Susan. Introductory Statistics. OpenStax College. Kindle Edition\n",
    "https://openstax.org/details/introductory-statistics\n",
    "\n",
    "SciPy 1.0.0 Release Notes: https://docs.scipy.org/doc/scipy/reference/index.html"
   ]
  },
  {
   "cell_type": "code",
   "execution_count": null,
   "metadata": {},
   "outputs": [],
   "source": []
  }
 ],
 "metadata": {
  "kernelspec": {
   "display_name": "Python 3",
   "language": "python",
   "name": "python3"
  },
  "language_info": {
   "codemirror_mode": {
    "name": "ipython",
    "version": 3
   },
   "file_extension": ".py",
   "mimetype": "text/x-python",
   "name": "python",
   "nbconvert_exporter": "python",
   "pygments_lexer": "ipython3",
   "version": "3.6.3"
  }
 },
 "nbformat": 4,
 "nbformat_minor": 2
}
