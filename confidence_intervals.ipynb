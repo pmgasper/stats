{
 "cells": [
  {
   "cell_type": "markdown",
   "metadata": {},
   "source": [
    "# Confidence intervals"
   ]
  },
  {
   "cell_type": "markdown",
   "metadata": {},
   "source": [
    "Import python modules"
   ]
  },
  {
   "cell_type": "code",
   "execution_count": 1,
   "metadata": {},
   "outputs": [],
   "source": [
    "import matplotlib.pylab as plt\n",
    "import numpy as np\n",
    "from scipy import stats"
   ]
  },
  {
   "cell_type": "markdown",
   "metadata": {},
   "source": [
    "### Table of Contents\n",
    "\n",
    "1. [Background](#background)<br><br>\n",
    "2. [Single population mean CI](#popmean)<br>\n",
    "    2a. [if population sigma is known -> Normal distribution](#norm_ci)<br>\n",
    "    2b. [sampling (n) required for desired CI](#norm_ci_n)<br>\n",
    "    2c. [if population sigma is unknown -> t distribution](#t_ci)<br><br>\n",
    "3. [Population proportion CI](#bi_ci)<br>\n",
    "    3a. [using a binomial approximated as normal](#bi_ci)<br>\n",
    "    3b. [+4 correction](#plus4)<br>\n",
    "    3c. [sampling (n) required for desired confidence level](#norm_ci_n)<br>"
   ]
  },
  {
   "cell_type": "markdown",
   "metadata": {},
   "source": [
    "### Background<a class=\"anchor\" id=\"background\"></a>\n",
    "\n",
    "A **confidence interval (CI)** is a range estimate into which the population mean falls with some probability, the **confidence level (CL)**. More accurately, the CL is the percent of confidence intervals that would contain the true population parameter if repeated samples are taken."
   ]
  },
  {
   "cell_type": "markdown",
   "metadata": {},
   "source": [
    "### Population mean CIs<a class=\"anchor\" id=\"popmean\"></a>"
   ]
  },
  {
   "cell_type": "markdown",
   "metadata": {},
   "source": [
    "#### For unknown population standard deviation <a class=\"anchor\" id=\"t_ci\"></a>\n",
    "\n",
    "When the population standard deviation is unknown, a Students t test should be used to calculate a confidence interval for the mean.\n",
    "\n",
    "The confidence interval is $\\bar{x}$ ± EBM<br>\n",
    "EBM = Error bound of the mean = t_df($\\alpha$/2) \\* (s / $\\sqrt{n}$)\n",
    "\n",
    "s = sample standard deviation *note: calculated using $\\sqrt{n-1}$ in demoninator*<br>\n",
    "t_df = A Students t distribution for degrees of freedom (n-1)<br>\n",
    "t($\\alpha$/2) = t-score on t_df for (1 - CL) / 2. *note: divide by two for two-tailed test*"
   ]
  },
  {
   "cell_type": "code",
   "execution_count": 4,
   "metadata": {},
   "outputs": [
    {
     "name": "stdout",
     "output_type": "stream",
     "text": [
      "15 8.226666666666667 1.6722383060978339\n",
      "7.300611959652363 9.15272137368097\n",
      "(7.300611959652363, 9.15272137368097)\n"
     ]
    }
   ],
   "source": [
    "# Illowsky - Example 8.8\n",
    "\n",
    "data = [8.6, 9.4, 7.9, 6.8, 8.3, 7.3, 9.2, 9.6, 8.7, 11.4, 10.3, 5.4, 8.1, 5.5, 6.9]\n",
    "cl = 0.95\n",
    "\n",
    "mu = np.mean(data) # sample mean\n",
    "s = np.std(data, ddof=1) # sample standard deviation\n",
    "n = len(data)\n",
    "print(n, mu, s)\n",
    "\n",
    "alpha = 1 - cl\n",
    "t_lower = (stats.t.ppf((alpha / 2), n - 1)) \n",
    "t_upper = (stats.t.ppf((1 - (alpha / 2)), n - 1)) \n",
    "ebm = t_upper * (s / np.sqrt(n))\n",
    "print(mu - ebm, mu + ebm)\n",
    "\n",
    "print(stats.t.interval(1 - alpha, n - 1, loc=mu, scale=(s / np.sqrt(n))))"
   ]
  },
  {
   "cell_type": "code",
   "execution_count": 5,
   "metadata": {},
   "outputs": [
    {
     "name": "stdout",
     "output_type": "stream",
     "text": [
      "20 127.45 25.964500055997508\n",
      "117.41093378346815 137.48906621653185\n",
      "(117.41093378346815, 137.48906621653185)\n"
     ]
    }
   ],
   "source": [
    "# Illowsky - Example 8.9\n",
    "\n",
    "data = [ 79, 145, 147, 160, 116, 100, 159, 151, 156, 126,\n",
    "        137,  83, 156,  94, 121, 144, 123, 114, 139,  99]\n",
    "cl = 0.90\n",
    "\n",
    "n = len(data)\n",
    "mu = np.mean(data) # sample mean\n",
    "s = np.std(data, ddof=1) # sample standard deviation\n",
    "print(n, mu, s)\n",
    "\n",
    "alpha = 1 - cl\n",
    "t_lower = stats.t.ppf((alpha / 2), n - 1)\n",
    "t_upper = stats.t.ppf((1 - alpha / 2), n - 1)\n",
    "ebm = t_upper * (s / np.sqrt(n))\n",
    "print(mu - ebm, mu + ebm)\n",
    "\n",
    "print(stats.t.interval(cl, n - 1, loc=mu, scale=(s / np.sqrt(n))))"
   ]
  },
  {
   "cell_type": "markdown",
   "metadata": {},
   "source": [
    "#### For known population standard deviation<a class=\"anchor\" id=\"norm_ci\"></a>\n",
    "\n",
    "When the population standard deviation is known (this is rare), the normal distribution can be used to calculate a confidence interval for the mean.\n",
    "\n",
    "The confidence interval is $\\bar{x}$ ± EBM<br>\n",
    "EBM = Error bound of the mean = z($\\alpha$/2) \\* ($\\sigma$ / $\\sqrt{n}$)<br>\n",
    "z($\\alpha$/2) = z-score on a normal distribution for (1 - CL) / 2<br>\n",
    "note: dividing by two for two-tailed test"
   ]
  },
  {
   "cell_type": "code",
   "execution_count": 29,
   "metadata": {},
   "outputs": [
    {
     "name": "stdout",
     "output_type": "stream",
     "text": [
      "The 98.0 percent CI is 0.88 to 1.17\n",
      "From a sample mean of 1.024 from a population with known standard deviation 0.337\n",
      "\n",
      "The 98.0 percent CI is 0.88 to 1.17 found with scipy .interval\n"
     ]
    }
   ],
   "source": [
    "#   Illowsky - Example 8.3\n",
    "x_bar = 1.024  # sample mean\n",
    "sigma = 0.337  # known population standard deviation\n",
    "cl = 0.98\n",
    "n = 30\n",
    "\n",
    "alpha = 1 - cl\n",
    "z = (stats.norm.ppf(1 - (alpha / 2), 0, 1)) \n",
    "ebm = z * sigma / np.sqrt(n)\n",
    "ci_low = x_bar - ebm\n",
    "ci_high = x_bar + ebm\n",
    "\n",
    "print('The {0} percent CI is {1:.2f} to {2:.2f}'.format(cl * 100, ci_low, ci_high))\n",
    "print('From a sample mean of {0} from a population with known standard deviation {1}'.format(x_bar, sigma))\n",
    "print()\n",
    "\n",
    "# or go straight to getting bounds with .interval\n",
    "ci_low, ci_high = stats.norm.interval(cl, x_bar, (sigma / np.sqrt(n)))\n",
    "print('The {0} percent CI is {1:.2f} to {2:.2f} found with scipy .interval'.format(cl * 100, ci_low, ci_high))"
   ]
  },
  {
   "cell_type": "markdown",
   "metadata": {},
   "source": [
    "#### Number of samples required <a class=\"anchor\" id=\"norm_ci_n\"></a>\n",
    "\n",
    "The number of samples required for a desired confidence level and interval can be determined in advance.\n",
    "\n",
    "n = $z^2 \\sigma^2 / EBM^2$"
   ]
  },
  {
   "cell_type": "code",
   "execution_count": 33,
   "metadata": {},
   "outputs": [
    {
     "name": "stdout",
     "output_type": "stream",
     "text": [
      "To achieve a range of +/-2 with a confidence of 95.0 percent would require 217 samples\n"
     ]
    }
   ],
   "source": [
    "# Illowsky - example 8.7\n",
    "ebm = 2\n",
    "conf = 0.95\n",
    "sigma = 15\n",
    "\n",
    "alpha = (1 - conf)\n",
    "z = (stats.norm.ppf((alpha / 2)))\n",
    "n = np.ceil((z ** 2 * sigma ** 2) / (ebm ** 2))\n",
    "print('To achieve a range of +/-{0} with a confidence of {1} percent would require {2:.0f} samples'.\\\n",
    "      format(ebm, conf * 100, n))"
   ]
  },
  {
   "cell_type": "markdown",
   "metadata": {},
   "source": [
    "### Population Proportion Confidence Intervals<a class=\"anchor\" id=\"bi_ci\"></a>"
   ]
  },
  {
   "cell_type": "code",
   "execution_count": 6,
   "metadata": {},
   "outputs": [
    {
     "name": "stdout",
     "output_type": "stream",
     "text": [
      "0.8100296288520179 0.873970371147982\n",
      "(0.8100296288520179, 0.873970371147982)\n"
     ]
    }
   ],
   "source": [
    "# confidence interval of a proprotion\n",
    "#  not using +4 method here (see below)\n",
    "\n",
    "n = 500\n",
    "p = 421 / n\n",
    "cl = 0.95\n",
    "\n",
    "alpha = 1 - cl\n",
    "z_lower = stats.norm.ppf(alpha / 2)\n",
    "z_upper = stats.norm.ppf(1 - (alpha / 2))\n",
    "\n",
    "s = np.sqrt((p * (1 - p)) / n)\n",
    "\n",
    "ebp = z_upper * s\n",
    "\n",
    "print(p - ebp, p + ebp)\n",
    "\n",
    "print(stats.norm.interval(cl, p, s))"
   ]
  },
  {
   "cell_type": "markdown",
   "metadata": {},
   "source": [
    "#### +4 correction<a class=\"anchor\" id=\"plus4\"></a>"
   ]
  },
  {
   "cell_type": "code",
   "execution_count": 7,
   "metadata": {},
   "outputs": [
    {
     "name": "stdout",
     "output_type": "stream",
     "text": [
      "0.11319271756780241 0.43853142036323206\n",
      "(0.11319271756780241, 0.43853142036323206)\n"
     ]
    }
   ],
   "source": [
    "n = 25     # number of samples\n",
    "pn = 6     # number of successes\n",
    "cl = 0.95  # confidence level\n",
    "\n",
    "n += 4     # applying +4 method\n",
    "p = (pn + 2) / n   # probability of success, applying +4 method\n",
    "\n",
    "alpha = 1 - cl\n",
    "z_lower = stats.norm.ppf(alpha / 2)\n",
    "z_upper = stats.norm.ppf(1 - (alpha / 2))\n",
    "\n",
    "s = np.sqrt(p * (1 - p) / n)\n",
    "\n",
    "ebp = z_upper * s\n",
    "\n",
    "print(p - ebp, p + ebp)\n",
    "\n",
    "print(stats.norm.interval(cl, p, s))"
   ]
  },
  {
   "cell_type": "markdown",
   "metadata": {},
   "source": [
    "#### n required for desired confidence level and interval<a class=\"anchor\" id=\"bi_ci_n\"></a>"
   ]
  },
  {
   "cell_type": "code",
   "execution_count": 8,
   "metadata": {},
   "outputs": [
    {
     "name": "stdout",
     "output_type": "stream",
     "text": [
      "752.0\n"
     ]
    }
   ],
   "source": [
    "# n required for desired confidence and bounds of proportion\n",
    "ebm = 0.03\n",
    "conf = 0.90\n",
    "\n",
    "alpha = (1 - conf)\n",
    "z = (stats.norm.ppf((alpha / 2), 0, 1))\n",
    "n = np.ceil((z ** 2 * 0.25) / (ebm ** 2))\n",
    "print(n)"
   ]
  },
  {
   "cell_type": "code",
   "execution_count": null,
   "metadata": {},
   "outputs": [],
   "source": []
  }
 ],
 "metadata": {
  "kernelspec": {
   "display_name": "Python 3",
   "language": "python",
   "name": "python3"
  },
  "language_info": {
   "codemirror_mode": {
    "name": "ipython",
    "version": 3
   },
   "file_extension": ".py",
   "mimetype": "text/x-python",
   "name": "python",
   "nbconvert_exporter": "python",
   "pygments_lexer": "ipython3",
   "version": "3.6.3"
  }
 },
 "nbformat": 4,
 "nbformat_minor": 2
}
