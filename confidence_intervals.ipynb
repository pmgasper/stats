{
 "cells": [
  {
   "cell_type": "markdown",
   "metadata": {},
   "source": [
    "# Confidence intervals"
   ]
  },
  {
   "cell_type": "markdown",
   "metadata": {},
   "source": [
    "Import python modules"
   ]
  },
  {
   "cell_type": "code",
   "execution_count": 1,
   "metadata": {},
   "outputs": [],
   "source": [
    "import matplotlib.pylab as plt\n",
    "import numpy as np\n",
    "from scipy import stats"
   ]
  },
  {
   "cell_type": "markdown",
   "metadata": {},
   "source": [
    "### Table of Contents\n",
    "\n",
    "1. [Background](#background)<br><br>\n",
    "2. [Single population mean CI](#popmean)<br>\n",
    "    2a. [if population sigma is unknown -> t distribution](#t_ci)<br>\n",
    "    2b. [if population sigma is known -> normal distribution](#norm_ci)<br>\n",
    "    2c. [sampling (n) required for desired CI](#norm_ci_n)<br><br>\n",
    "3. [Population proportion CI](#bi_ci)<br>\n",
    "    3a. [using a binomial approximated as normal](#bi_ci)<br>\n",
    "    3b. [+4 correction](#plus4)<br>\n",
    "    3c. [sampling (n) required for desired confidence level](#norm_ci_n_pro)<br>"
   ]
  },
  {
   "cell_type": "markdown",
   "metadata": {},
   "source": [
    "### Background<a class=\"anchor\" id=\"background\"></a>\n",
    "\n",
    "A **confidence interval (CI)** is a statistical inference, range estimation for the population mean. The population mean falls within the CI with some probability, the **confidence level (CL)**. More accurately, the CL is the percent of confidence intervals that would contain the true population parameter if repeated samples are taken."
   ]
  },
  {
   "cell_type": "markdown",
   "metadata": {},
   "source": [
    "### Single population mean CI<a class=\"anchor\" id=\"popmean\"></a>"
   ]
  },
  {
   "cell_type": "markdown",
   "metadata": {},
   "source": [
    "#### if the population standard deviation is unknown <a class=\"anchor\" id=\"t_ci\"></a>\n",
    "\n",
    "When the population standard deviation is unknown (as is usually the case), a Students t test should be used to calculate a confidence interval for the mean.\n",
    "\n",
    "The confidence interval is: $\\bar{x} ± EBM$<br><br>\n",
    "The EBM (error bound of the mean) is: $$\\large(t_{df,\\LARGE\\frac{\\alpha}{2}})( \\frac{s} {\\sqrt{n}})$$\n",
    "\n",
    "s = sample standard deviation<br>\n",
    "*note: calculated using $\\sqrt{n-1}$ in demoninator*<br>\n",
    "\n",
    "t$_{df}$ = A Students t distribution for degrees of freedom (n-1)<br>\n",
    "t$_{(\\alpha/2)}$ = t-score on t$_{df}$ for (1 - CL) / 2.<br>\n",
    "*note: divide by two for two-tailed test only*"
   ]
  },
  {
   "cell_type": "code",
   "execution_count": 2,
   "metadata": {},
   "outputs": [
    {
     "name": "stdout",
     "output_type": "stream",
     "text": [
      "The 95.0 percent CI is 7.30 to 9.15\n",
      "From a sample mean of 8.23 and sample standard deviation 1.67\n",
      "\n",
      "The 95.0 percent CI is 7.30 to 9.15 found with scipy t.interval\n"
     ]
    }
   ],
   "source": [
    "# Illowsky - Example 8.8\n",
    "data = [8.6, 9.4, 7.9, 6.8, 8.3, 7.3, 9.2, 9.6, 8.7, 11.4, 10.3, 5.4, 8.1, 5.5, 6.9]\n",
    "cl = 0.95\n",
    "\n",
    "x_bar = np.mean(data) # sample mean\n",
    "s = np.std(data, ddof=1) # sample standard deviation, ddof=1 -> denominator sqrt(n-1)\n",
    "n = len(data)\n",
    "alpha = 1 - cl\n",
    "t_score = (stats.t.ppf((1 - (alpha / 2)), n - 1)) \n",
    "ebm = t_score * (s / np.sqrt(n))\n",
    "ci_low = x_bar - ebm\n",
    "ci_high = x_bar + ebm\n",
    "\n",
    "print('The {0} percent CI is {1:.2f} to {2:.2f}'.format(cl * 100, ci_low, ci_high))\n",
    "print('From a sample mean of {0:.2f} and sample standard deviation {1:.2f}'.format(x_bar, s))\n",
    "print('')\n",
    "\n",
    "# or go straight to getting bounds with t.interval\n",
    "ci_low, ci_high = stats.t.interval(cl, n - 1, x_bar, (s / np.sqrt(n)))\n",
    "print('The {0} percent CI is {1:.2f} to {2:.2f} found with scipy t.interval'.\\\n",
    "      format(cl * 100, ci_low, ci_high))"
   ]
  },
  {
   "cell_type": "code",
   "execution_count": 3,
   "metadata": {},
   "outputs": [
    {
     "name": "stdout",
     "output_type": "stream",
     "text": [
      "The 90.0 percent CI is 117.41 to 137.49 (found with scipy t.interval)\n"
     ]
    }
   ],
   "source": [
    "# Illowsky - Example 8.9 \n",
    "#   same concept as example 8.8 above\n",
    "data = [ 79, 145, 147, 160, 116, 100, 159, 151, 156, 126,\n",
    "        137,  83, 156,  94, 121, 144, 123, 114, 139,  99]\n",
    "cl = 0.90\n",
    "\n",
    "x_bar = np.mean(data) # sample mean\n",
    "s = np.std(data, ddof=1) # sample standard deviation\n",
    "n = len(data)\n",
    "ci_low, ci_high = stats.t.interval(cl, n - 1, x_bar, (s / np.sqrt(n)))\n",
    "\n",
    "print('The {0} percent CI is {1:.2f} to {2:.2f} (found with scipy t.interval)'.\\\n",
    "      format(cl * 100, ci_low, ci_high))"
   ]
  },
  {
   "cell_type": "markdown",
   "metadata": {},
   "source": [
    "#### if the population standard deviation is known<a class=\"anchor\" id=\"norm_ci\"></a>\n",
    "\n",
    "When the population standard deviation is known (this is rare), the normal distribution can be used to calculate a confidence interval for the mean.\n",
    "\n",
    "The confidence interval is $\\bar{x}$ ± EBM<br>\n",
    "The EBM (error bound of the mean) is: $$\\large(z_{\\LARGE\\frac{\\alpha}{2}})( \\frac{\\sigma} {\\sqrt{n}})$$\n",
    "z($\\alpha$/2) = z-score on a normal distribution for (1 - CL) / 2<br>\n",
    "note: dividing by two for two-tailed test"
   ]
  },
  {
   "cell_type": "code",
   "execution_count": 4,
   "metadata": {},
   "outputs": [
    {
     "name": "stdout",
     "output_type": "stream",
     "text": [
      "The 98.0 percent CI is 0.88 to 1.17\n",
      "From a sample mean of 1.024 from a population with known standard deviation 0.337\n",
      "\n",
      "The 98.0 percent CI is 0.88 to 1.17 found with scipy norm.interval\n"
     ]
    }
   ],
   "source": [
    "#   Illowsky - Example 8.3\n",
    "x_bar = 1.024  # sample mean\n",
    "sigma = 0.337  # known population standard deviation\n",
    "cl = 0.98\n",
    "n = 30\n",
    "\n",
    "alpha = 1 - cl\n",
    "z = (stats.norm.ppf(1 - (alpha / 2), 0, 1)) \n",
    "ebm = z * sigma / np.sqrt(n)\n",
    "ci_low = x_bar - ebm\n",
    "ci_high = x_bar + ebm\n",
    "\n",
    "print('The {0} percent CI is {1:.2f} to {2:.2f}'.format(cl * 100, ci_low, ci_high))\n",
    "print('From a sample mean of {0} from a population with known standard deviation {1}'.format(x_bar, sigma))\n",
    "print()\n",
    "\n",
    "# or go straight to getting bounds with norm.interval\n",
    "ci_low, ci_high = stats.norm.interval(cl, x_bar, (sigma / np.sqrt(n)))\n",
    "print('The {0} percent CI is {1:.2f} to {2:.2f} found with scipy norm.interval'.\\\n",
    "      format(cl * 100, ci_low, ci_high))"
   ]
  },
  {
   "cell_type": "markdown",
   "metadata": {},
   "source": [
    "#### Number of samples required <a class=\"anchor\" id=\"norm_ci_n\"></a>\n",
    "\n",
    "The number of samples required for a desired confidence level and interval can be determined in advance.\n",
    "\n",
    "$$n = \\frac{z^2 \\sigma^2}{EBM^2}$$"
   ]
  },
  {
   "cell_type": "code",
   "execution_count": 5,
   "metadata": {},
   "outputs": [
    {
     "name": "stdout",
     "output_type": "stream",
     "text": [
      "To achieve a range of +/-2 with a confidence of 95.0 percent would require 217 samples\n"
     ]
    }
   ],
   "source": [
    "# Illowsky - example 8.7\n",
    "ebm = 2\n",
    "conf = 0.95\n",
    "sigma = 15\n",
    "\n",
    "alpha = (1 - conf)\n",
    "z = (stats.norm.ppf((alpha / 2)))\n",
    "n = np.ceil((z ** 2 * sigma ** 2) / (ebm ** 2))\n",
    "print('To achieve a range of +/-{0} with a confidence of {1} percent would require {2:.0f} samples'.\\\n",
    "      format(ebm, conf * 100, n))"
   ]
  },
  {
   "cell_type": "markdown",
   "metadata": {},
   "source": [
    "### Population Proportion CIs<a class=\"anchor\" id=\"bi_ci\"></a>\n",
    "\n",
    "When estimating a population proportion, obtain the standard deviation from binomial modeled as normal distribution, dividing by n to account for the proportion.\n",
    "\n",
    "The confidence interval is $\\bar{x}$ ± EBP<br>\n",
    "EBP = Error bound of the proportion = z($\\alpha$/2) \\* ($\\sqrt{p' q' / n}$)<br>\n",
    "p' = proportion of success estimated from the sample = p / n<br>\n",
    "q' = 1 - p'<br>\n",
    "z($\\alpha$/2) = z-score on a normal distribution for (1 - CL) / 2<br>\n",
    "note: dividing by two for two-tailed test<br>"
   ]
  },
  {
   "cell_type": "code",
   "execution_count": 6,
   "metadata": {},
   "outputs": [
    {
     "name": "stdout",
     "output_type": "stream",
     "text": [
      "The 95.0 percent CI is 0.810 to 0.874\n",
      "\n",
      "The 95.0 percent CI is 0.810 to 0.874 (found with scipy norm.interval)\n"
     ]
    }
   ],
   "source": [
    "# Illowsky - Example 8.10 \n",
    "n = 500\n",
    "p = 421\n",
    "cl = 0.95\n",
    "\n",
    "# Check that number of success and failures are both > 5\n",
    "if p <= 5 or (n - p) <= 5:\n",
    "    raise UserWarning('The number of success or failures is too low for an accurate confidence interval')\n",
    "\n",
    "# Calculate confidence interval\n",
    "p_prime = p / n\n",
    "alpha = 1 - cl\n",
    "z_score = stats.norm.ppf(1 - (alpha / 2))\n",
    "s = np.sqrt((p_prime * (1 - p_prime)) / n)\n",
    "ebp = z_score * s\n",
    "ci_low = p_prime - ebp\n",
    "ci_high = p_prime + ebp\n",
    "print('The {0} percent CI is {1:.3f} to {2:.3f}'.format(cl * 100, ci_low, ci_high))\n",
    "print()\n",
    "\n",
    "# Scipy confidence interval function\n",
    "ci_low, ci_high = (stats.norm.interval(cl, p_prime, s))\n",
    "print('The {0} percent CI is {1:.3f} to {2:.3f} (found with scipy norm.interval)'.\\\n",
    "      format(cl * 100, ci_low, ci_high))"
   ]
  },
  {
   "cell_type": "markdown",
   "metadata": {},
   "source": [
    "#### \"Plus Four\" CI<a class=\"anchor\" id=\"plus4\"></a>\n",
    "\n",
    "A method for reducing error when sample size is small (n is small) or the same is imbalanced (p or q is small). It involves adding four phantom observations to the sample, two success and two failure (n + 4, p + 2)\n",
    "\n",
    "Note, plus four should not be used for confidence < 90% or sample size < 10.\n"
   ]
  },
  {
   "cell_type": "code",
   "execution_count": 7,
   "metadata": {},
   "outputs": [
    {
     "name": "stdout",
     "output_type": "stream",
     "text": [
      "For p = 25, n = 6:\n",
      "  The 95.0 percent interval without the plus four method  0.073 to 0.407\n",
      "  The 95.0 percent interval using the plus four method:   0.113 to 0.439\n",
      "  Low p, +4 pulls up range\n"
     ]
    }
   ],
   "source": [
    "# Illowsky - Example 8.12\n",
    "#  low p\n",
    "n = 25     # number of samples\n",
    "p = 6     # number of successes\n",
    "cl = 0.95  # confidence level\n",
    "\n",
    "# Without plus 4 method\n",
    "p_prime = p / n   # probability of success\n",
    "alpha = 1 - cl\n",
    "z_score = stats.norm.ppf(1 - (alpha / 2))\n",
    "s = np.sqrt(p_prime * (1 - p_prime) / n)\n",
    "ebp = z_score * s\n",
    "ci_lower = p_prime - ebp\n",
    "ci_upper = p_prime + ebp\n",
    "print('For p = {0}, n = {1}:'.format(n , p))\n",
    "print('  The {0} percent interval without the plus four method  {1:.3f} to {2:.3f}'.\\\n",
    "      format(cl * 100, ci_lower, ci_upper))\n",
    "\n",
    "# Applying +4 method\n",
    "n += 4     \n",
    "p += 2\n",
    "\n",
    "p_prime = p / n   # probability of success\n",
    "alpha = 1 - cl\n",
    "z_score = stats.norm.ppf(1 - (alpha / 2))\n",
    "s = np.sqrt(p_prime * (1 - p_prime) / n)\n",
    "ebp = z_score * s\n",
    "ci_lower = p_prime - ebp\n",
    "ci_upper = p_prime + ebp\n",
    "\n",
    "print('  The {0} percent interval using the plus four method:   {1:.3f} to {2:.3f}'.\\\n",
    "      format(cl * 100, ci_lower, ci_upper))\n",
    "print('  Low p, +4 pulls up range')\n",
    "# using scipy norm.interval\n",
    "#ci_lower, ci_upper = stats.norm.interval(cl, p_prime, s)\n",
    "#print('The {0} percent interval using the plus four method:   {1:.3f} to {2:.3f}'\n",
    "#      ' (found with scipy norm.interval)'.\\\n",
    "#      format(cl * 100, ci_lower, ci_upper))"
   ]
  },
  {
   "cell_type": "code",
   "execution_count": 8,
   "metadata": {},
   "outputs": [
    {
     "name": "stdout",
     "output_type": "stream",
     "text": [
      "For p = 23, n = 25:\n",
      "  The 95.0 percent interval without the plus four method  0.814 to 1.026\n",
      "  The 95.0 percent interval using the plus four method:   0.737 to 0.988\n",
      "  High p, +4 pushes down range\n"
     ]
    }
   ],
   "source": [
    "n = 25     # number of samples\n",
    "p = 23     # number of successes\n",
    "cl = 0.95  # confidence level\n",
    "\n",
    "# Without plus 4 method\n",
    "p_prime = p / n   # probability of success\n",
    "alpha = 1 - cl\n",
    "z_score = stats.norm.ppf(1 - (alpha / 2))\n",
    "s = np.sqrt(p_prime * (1 - p_prime) / n)\n",
    "ebp = z_score * s\n",
    "ci_lower = p_prime - ebp\n",
    "ci_upper = p_prime + ebp\n",
    "print('For p = {0}, n = {1}:'.format(p , n))\n",
    "print('  The {0} percent interval without the plus four method  {1:.3f} to {2:.3f}'.\\\n",
    "      format(cl * 100, ci_lower, ci_upper))\n",
    "\n",
    "# Applying +4 method\n",
    "n += 4     \n",
    "p += 2\n",
    "\n",
    "p_prime = p / n   # probability of success\n",
    "alpha = 1 - cl\n",
    "z_score = stats.norm.ppf(1 - (alpha / 2))\n",
    "s = np.sqrt(p_prime * (1 - p_prime) / n)\n",
    "ebp = z_score * s\n",
    "ci_lower = p_prime - ebp\n",
    "ci_upper = p_prime + ebp\n",
    "\n",
    "print('  The {0} percent interval using the plus four method:   {1:.3f} to {2:.3f}'.\\\n",
    "      format(cl * 100, ci_lower, ci_upper))\n",
    "print('  High p, +4 pushes down range')"
   ]
  },
  {
   "cell_type": "markdown",
   "metadata": {},
   "source": [
    "#### number of samples required (for proportion) <a class=\"anchor\" id=\"bi_ci_n_pro\"></a>\n",
    "\n",
    "The number of samples required for a desired confidence level and interval of a proportion can be estimated in advance.\n",
    "\n",
    "$$\\large \n",
    "n = \\frac{z^2 p q} {EBP^2}\n",
    "$$\n",
    "\n",
    "*note for pq use worst case for required sampling = 0.5 $*$ 0.5 = 0.25*"
   ]
  },
  {
   "cell_type": "code",
   "execution_count": 9,
   "metadata": {},
   "outputs": [
    {
     "name": "stdout",
     "output_type": "stream",
     "text": [
      "The estimated number of samples to reach an error bound of the proportion of 0.03 with 90.0 percent confidence is 752.\n"
     ]
    }
   ],
   "source": [
    "# Illowsky - Example 8.14\n",
    "ebp = 0.03\n",
    "conf = 0.90\n",
    "\n",
    "alpha = (1 - conf)\n",
    "z = (stats.norm.ppf((alpha / 2), 0, 1))\n",
    "n = np.ceil((z ** 2 * 0.25) / (ebp ** 2))\n",
    "print('The estimated number of samples to reach an error bound of the proportion of {0} '\n",
    "      'with {1} percent confidence is {2:.0f}.'.format(ebp, conf * 100, n))"
   ]
  },
  {
   "cell_type": "markdown",
   "metadata": {},
   "source": [
    "## Sources<a class=\"anchor\" id=\"sources\"></a>\n",
    "\n",
    "Illowsky, Barbara; Dean, Susan. Introductory Statistics. OpenStax College. Kindle Edition\n",
    "https://openstax.org/details/introductory-statistics\n",
    "\n",
    "SciPy 1.0.0 Release Notes: https://docs.scipy.org/doc/scipy/reference/index.html"
   ]
  },
  {
   "cell_type": "code",
   "execution_count": null,
   "metadata": {},
   "outputs": [],
   "source": []
  }
 ],
 "metadata": {
  "kernelspec": {
   "display_name": "Python 3",
   "language": "python",
   "name": "python3"
  },
  "language_info": {
   "codemirror_mode": {
    "name": "ipython",
    "version": 3
   },
   "file_extension": ".py",
   "mimetype": "text/x-python",
   "name": "python",
   "nbconvert_exporter": "python",
   "pygments_lexer": "ipython3",
   "version": "3.6.3"
  }
 },
 "nbformat": 4,
 "nbformat_minor": 2
}
