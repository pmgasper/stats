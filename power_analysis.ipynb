{
 "cells": [
  {
   "cell_type": "markdown",
   "metadata": {},
   "source": [
    "## Power Analysis"
   ]
  },
  {
   "cell_type": "markdown",
   "metadata": {},
   "source": [
    "Working tutorial from:\n",
    "\n",
    "https://machinelearningmastery.com/statistical-power-and-power-analysis-in-python/"
   ]
  },
  {
   "cell_type": "markdown",
   "metadata": {},
   "source": [
    "* **Statistical power** is the probability of detecting an effect given an effect exists\n",
    "  + Calculated before an experiment to estimate require sample size\n",
    "    * typically a power of 0.80 or better is desired\n",
    "  + Calculated after an experiment to comment on confidence of results\n",
    "<br><br>\n",
    "* **Power analysis** estimates one of the four following parameters give the other three\n",
    "  + Effect size - magnitude\n",
    "    * i.e. Pearson’s correlation between variables\n",
    "    * i.e. Cohen's d between groups\n",
    "  + Sample size - number of observations\n",
    "  + Significance - probability of rejecting the null if it is true P(false positive)\n",
    "  + Power - probability of rejecting the null if it is false P(1 - false negative)\n",
    "<br><br>\n",
    "* **statsmodels** python module\n",
    "  + classes for power calculations\n",
    "    * TTestIndPower - for independent student's t-test\n",
    "    * TTestPower - for paired student's t-test\n",
    "    * See documentation for F-test, Z-test, Chi-Squared test and others\n",
    "  + solve_power() function\n",
    "    * Calculates one of the four parameters if set to None\n",
    "    * Note, use the ratio argument if the size of the second sample is expected to be different\n",
    "  + plot_power() function\n",
    "    * Generate power curves"
   ]
  },
  {
   "cell_type": "code",
   "execution_count": 9,
   "metadata": {},
   "outputs": [
    {
     "name": "stdout",
     "output_type": "stream",
     "text": [
      "Minimum sample size: 26\n"
     ]
    }
   ],
   "source": [
    "# Estimate sample size via power analysis\n",
    "from statsmodels.stats.power import TTestIndPower\n",
    "\n",
    "alpha = 0.05\n",
    "power = 0.80\n",
    "effect = 0.80   # Cohen's d for large effect\n",
    "n_obs = None   # unknown to be calculated\n",
    "\n",
    "analysis = TTestIndPower()\n",
    "result = analysis.solve_power(effect, n_obs, alpha, power, ratio=1.0)\n",
    "print('Minimum sample size: {0:.0f}'.format(np.ceil(result)))"
   ]
  },
  {
   "cell_type": "code",
   "execution_count": 15,
   "metadata": {},
   "outputs": [
    {
     "data": {
      "image/png": "[encoded data removed]",
      "text/plain": [
       "<Figure size 432x288 with 1 Axes>"
      ]
     },
     "metadata": {},
     "output_type": "display_data"
    }
   ],
   "source": [
    "# Plot power curves for varying sample and effect size\n",
    "import numpy as np\n",
    "import matplotlib.pyplot as plt\n",
    "from statsmodels.stats.power import TTestIndPower\n",
    "\n",
    "# parameters for power analysis\n",
    "effect_sizes = np.array([0.2, 0.5, 0.8])\n",
    "sample_sizes = np.array(range(5, 100))\n",
    "alpha = 0.05\n",
    "\n",
    "# calculate power curves from multiple power analyses\n",
    "analysis = TTestIndPower()\n",
    "analysis.plot_power(dep_var='nobs', nobs=sample_sizes, effect_size=effect_sizes,\n",
    "                    alpha=alpha)\n",
    "plt.show()"
   ]
  }
 ],
 "metadata": {
  "kernelspec": {
   "display_name": "Python 3",
   "language": "python",
   "name": "python3"
  },
  "language_info": {
   "codemirror_mode": {
    "name": "ipython",
    "version": 3
   },
   "file_extension": ".py",
   "mimetype": "text/x-python",
   "name": "python",
   "nbconvert_exporter": "python",
   "pygments_lexer": "ipython3",
   "version": "3.6.3"
  },
  "varInspector": {
   "cols": {
    "lenName": 16,
    "lenType": 16,
    "lenVar": 40
   },
   "kernels_config": {
    "python": {
     "delete_cmd_postfix": "",
     "delete_cmd_prefix": "del ",
     "library": "var_list.py",
     "varRefreshCmd": "print(var_dic_list())"
    },
    "r": {
     "delete_cmd_postfix": ") ",
     "delete_cmd_prefix": "rm(",
     "library": "var_list.r",
     "varRefreshCmd": "cat(var_dic_list()) "
    }
   },
   "types_to_exclude": [
    "module",
    "function",
    "builtin_function_or_method",
    "instance",
    "_Feature"
   ],
   "window_display": false
  }
 },
 "nbformat": 4,
 "nbformat_minor": 2
}
